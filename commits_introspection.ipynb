{
 "cells": [
  {
   "cell_type": "code",
   "execution_count": 5,
   "metadata": {},
   "outputs": [],
   "source": [
    "import polars as pl\n",
    "from src.paths import PYTHON_VULNERABILITY_FIXES_DATA_PATH\n",
    "from github import Github, Auth\n",
    "from os import environ\n",
    "import gitlab\n",
    "import jedi\n",
    "import whatthepatch\n",
    "from git import Repo\n",
    "from pathlib import Path\n",
    "from typing import Any\n",
    "import jedi.api\n",
    "import jedi.common\n",
    "import os\n",
    "import multiprocessing\n",
    "import traceback\n",
    "\n",
    "from src.process_code_changes import get_changes"
   ]
  },
  {
   "cell_type": "markdown",
   "metadata": {},
   "source": [
    "## Filter out data"
   ]
  },
  {
   "cell_type": "code",
   "execution_count": 6,
   "metadata": {},
   "outputs": [
    {
     "name": "stdout",
     "output_type": "stream",
     "text": [
      "1805\n",
      "1802\n"
     ]
    }
   ],
   "source": [
    "# python_commit_data = commit_data_only_top_langs.filter(pl.col(\"language\") == \"Python\")\n",
    "python_vulnerability_fixes = pl.read_parquet(PYTHON_VULNERABILITY_FIXES_DATA_PATH)\n",
    "print(python_vulnerability_fixes.unique(\"vulnerability_id\").shape[0])\n",
    "python_vulnerability_fixes = python_vulnerability_fixes.group_by('vulnerability_id', 'repo', 'commit', 'pull_request_number', 'file', 'patch', 'patch_time', 'commit_source', 'file_extension', 'language').agg(pl.col(\"cwe_id\"))\n",
    "python_vulnerability_fixes = python_vulnerability_fixes.unique(\"patch\")\n",
    "print(python_vulnerability_fixes.unique(\"vulnerability_id\").shape[0])\n"
   ]
  },
  {
   "cell_type": "markdown",
   "metadata": {},
   "source": [
    "## Filter out data connected with test functionallity"
   ]
  },
  {
   "cell_type": "code",
   "execution_count": 7,
   "metadata": {},
   "outputs": [
    {
     "data": {
      "text/plain": [
       "1795"
      ]
     },
     "execution_count": 7,
     "metadata": {},
     "output_type": "execute_result"
    }
   ],
   "source": [
    "python_vulnerability_fixes = python_vulnerability_fixes.filter(\n",
    "    (\n",
    "        pl.col(\"file\").str.contains(r\"\\/{0,1}[tT][eE][sS][tT][sS]{0,1}\\/\")\n",
    "        | pl.col(\"patch\").str.contains(\"pytest\")\n",
    "        | pl.col(\"patch\").str.contains(\"unittest\")\n",
    "    ).not_()\n",
    ")\n",
    "python_vulnerability_fixes.unique(\"vulnerability_id\").shape[0]"
   ]
  },
  {
   "cell_type": "markdown",
   "metadata": {},
   "source": [
    "## Process missing commit"
   ]
  },
  {
   "cell_type": "code",
   "execution_count": 8,
   "metadata": {},
   "outputs": [
    {
     "name": "stdout",
     "output_type": "stream",
     "text": [
      "shape: (1, 11)\n",
      "┌────────────┬────────────┬────────┬────────────┬───┬───────────┬───────────┬──────────┬───────────┐\n",
      "│ vulnerabil ┆ repo       ┆ commit ┆ pull_reque ┆ … ┆ commit_so ┆ file_exte ┆ language ┆ cwe_id    │\n",
      "│ ity_id     ┆ ---        ┆ ---    ┆ st_number  ┆   ┆ urce      ┆ nsion     ┆ ---      ┆ ---       │\n",
      "│ ---        ┆ str        ┆ str    ┆ ---        ┆   ┆ ---       ┆ ---       ┆ str      ┆ list[str] │\n",
      "│ str        ┆            ┆        ┆ i64        ┆   ┆ str       ┆ str       ┆          ┆           │\n",
      "╞════════════╪════════════╪════════╪════════════╪═══╪═══════════╪═══════════╪══════════╪═══════════╡\n",
      "│ 2021-3733  ┆ python/cpy ┆ null   ┆ 24391      ┆ … ┆ github    ┆ py        ┆ Python   ┆ [\"CWE-400 │\n",
      "│            ┆ thon       ┆        ┆            ┆   ┆           ┆           ┆          ┆ \"]        │\n",
      "└────────────┴────────────┴────────┴────────────┴───┴───────────┴───────────┴──────────┴───────────┘\n",
      "shape: (0, 11)\n",
      "┌─────────────┬──────┬────────┬─────────────┬───┬─────────────┬─────────────┬──────────┬───────────┐\n",
      "│ vulnerabili ┆ repo ┆ commit ┆ pull_reques ┆ … ┆ commit_sour ┆ file_extens ┆ language ┆ cwe_id    │\n",
      "│ ty_id       ┆ ---  ┆ ---    ┆ t_number    ┆   ┆ ce          ┆ ion         ┆ ---      ┆ ---       │\n",
      "│ ---         ┆ str  ┆ str    ┆ ---         ┆   ┆ ---         ┆ ---         ┆ str      ┆ list[str] │\n",
      "│ str         ┆      ┆        ┆ i64         ┆   ┆ str         ┆ str         ┆          ┆           │\n",
      "╞═════════════╪══════╪════════╪═════════════╪═══╪═════════════╪═════════════╪══════════╪═══════════╡\n",
      "└─────────────┴──────┴────────┴─────────────┴───┴─────────────┴─────────────┴──────────┴───────────┘\n"
     ]
    }
   ],
   "source": [
    "print(python_vulnerability_fixes.filter(pl.col(\"commit\").is_null()))\n",
    "python_vulnerability_fixes = python_vulnerability_fixes.with_columns(\n",
    "    pl.when(pl.col(\"pull_request_number\") == 24391)\n",
    "    .then(pl.lit(\"86664c9405136a4904775c52e6caf100a474ec58\"))\n",
    "    .otherwise(pl.col(\"commit\"))\n",
    "    .alias(\"commit\")\n",
    ")\n",
    "print(python_vulnerability_fixes.filter(pl.col(\"commit\").is_null()))\n"
   ]
  },
  {
   "cell_type": "code",
   "execution_count": 9,
   "metadata": {},
   "outputs": [],
   "source": [
    "auth = Auth.Token(environ[\"GITHUB_TOKEN\"])\n",
    "github_client = Github(auth=auth)\n",
    "gl = gitlab.Gitlab(private_token=environ[\"GITLAB_TOKEN\"])"
   ]
  },
  {
   "cell_type": "code",
   "execution_count": 10,
   "metadata": {},
   "outputs": [
    {
     "ename": "KeyboardInterrupt",
     "evalue": "",
     "output_type": "error",
     "traceback": [
      "\u001b[1;31m---------------------------------------------------------------------------\u001b[0m",
      "\u001b[1;31mKeyboardInterrupt\u001b[0m                         Traceback (most recent call last)",
      "Cell \u001b[1;32mIn[10], line 27\u001b[0m\n\u001b[0;32m     25\u001b[0m \u001b[38;5;28;01mwith\u001b[39;00m multiprocessing\u001b[38;5;241m.\u001b[39mPool(os\u001b[38;5;241m.\u001b[39mcpu_count()) \u001b[38;5;28;01mas\u001b[39;00m pool:\n\u001b[0;32m     26\u001b[0m     \u001b[38;5;28;01mfor\u001b[39;00m i \u001b[38;5;129;01min\u001b[39;00m \u001b[38;5;28mrange\u001b[39m(\u001b[38;5;241m0\u001b[39m, \u001b[38;5;28mlen\u001b[39m(params), \u001b[38;5;241m20\u001b[39m):\n\u001b[1;32m---> 27\u001b[0m         results \u001b[38;5;241m=\u001b[39m \u001b[43mpool\u001b[49m\u001b[38;5;241;43m.\u001b[39;49m\u001b[43mmap\u001b[49m\u001b[43m(\u001b[49m\u001b[43mget_changes\u001b[49m\u001b[43m,\u001b[49m\u001b[43m \u001b[49m\u001b[43mparams\u001b[49m\u001b[43m[\u001b[49m\u001b[43mi\u001b[49m\u001b[43m \u001b[49m\u001b[43m:\u001b[49m\u001b[43m \u001b[49m\u001b[43mi\u001b[49m\u001b[43m \u001b[49m\u001b[38;5;241;43m+\u001b[39;49m\u001b[43m \u001b[49m\u001b[38;5;241;43m20\u001b[39;49m\u001b[43m \u001b[49m\u001b[43m]\u001b[49m\u001b[43m)\u001b[49m\n\u001b[0;32m     28\u001b[0m         \u001b[38;5;28mprint\u001b[39m(\u001b[38;5;124mf\u001b[39m\u001b[38;5;124m\"\u001b[39m\u001b[38;5;124mProcessed \u001b[39m\u001b[38;5;132;01m{\u001b[39;00mi\u001b[38;5;132;01m}\u001b[39;00m\u001b[38;5;124m - \u001b[39m\u001b[38;5;132;01m{\u001b[39;00mi\u001b[38;5;241m+\u001b[39m\u001b[38;5;241m20\u001b[39m\u001b[38;5;132;01m}\u001b[39;00m\u001b[38;5;124m commits\u001b[39m\u001b[38;5;124m\"\u001b[39m)\n\u001b[0;32m     29\u001b[0m         \u001b[38;5;28mprint\u001b[39m(results)\n",
      "File \u001b[1;32m~\\AppData\\Local\\Programs\\Python\\Python312\\Lib\\multiprocessing\\pool.py:367\u001b[0m, in \u001b[0;36mPool.map\u001b[1;34m(self, func, iterable, chunksize)\u001b[0m\n\u001b[0;32m    362\u001b[0m \u001b[38;5;28;01mdef\u001b[39;00m\u001b[38;5;250m \u001b[39m\u001b[38;5;21mmap\u001b[39m(\u001b[38;5;28mself\u001b[39m, func, iterable, chunksize\u001b[38;5;241m=\u001b[39m\u001b[38;5;28;01mNone\u001b[39;00m):\n\u001b[0;32m    363\u001b[0m \u001b[38;5;250m    \u001b[39m\u001b[38;5;124;03m'''\u001b[39;00m\n\u001b[0;32m    364\u001b[0m \u001b[38;5;124;03m    Apply `func` to each element in `iterable`, collecting the results\u001b[39;00m\n\u001b[0;32m    365\u001b[0m \u001b[38;5;124;03m    in a list that is returned.\u001b[39;00m\n\u001b[0;32m    366\u001b[0m \u001b[38;5;124;03m    '''\u001b[39;00m\n\u001b[1;32m--> 367\u001b[0m     \u001b[38;5;28;01mreturn\u001b[39;00m \u001b[38;5;28;43mself\u001b[39;49m\u001b[38;5;241;43m.\u001b[39;49m\u001b[43m_map_async\u001b[49m\u001b[43m(\u001b[49m\u001b[43mfunc\u001b[49m\u001b[43m,\u001b[49m\u001b[43m \u001b[49m\u001b[43miterable\u001b[49m\u001b[43m,\u001b[49m\u001b[43m \u001b[49m\u001b[43mmapstar\u001b[49m\u001b[43m,\u001b[49m\u001b[43m \u001b[49m\u001b[43mchunksize\u001b[49m\u001b[43m)\u001b[49m\u001b[38;5;241;43m.\u001b[39;49m\u001b[43mget\u001b[49m\u001b[43m(\u001b[49m\u001b[43m)\u001b[49m\n",
      "File \u001b[1;32m~\\AppData\\Local\\Programs\\Python\\Python312\\Lib\\multiprocessing\\pool.py:768\u001b[0m, in \u001b[0;36mApplyResult.get\u001b[1;34m(self, timeout)\u001b[0m\n\u001b[0;32m    767\u001b[0m \u001b[38;5;28;01mdef\u001b[39;00m\u001b[38;5;250m \u001b[39m\u001b[38;5;21mget\u001b[39m(\u001b[38;5;28mself\u001b[39m, timeout\u001b[38;5;241m=\u001b[39m\u001b[38;5;28;01mNone\u001b[39;00m):\n\u001b[1;32m--> 768\u001b[0m     \u001b[38;5;28;43mself\u001b[39;49m\u001b[38;5;241;43m.\u001b[39;49m\u001b[43mwait\u001b[49m\u001b[43m(\u001b[49m\u001b[43mtimeout\u001b[49m\u001b[43m)\u001b[49m\n\u001b[0;32m    769\u001b[0m     \u001b[38;5;28;01mif\u001b[39;00m \u001b[38;5;129;01mnot\u001b[39;00m \u001b[38;5;28mself\u001b[39m\u001b[38;5;241m.\u001b[39mready():\n\u001b[0;32m    770\u001b[0m         \u001b[38;5;28;01mraise\u001b[39;00m \u001b[38;5;167;01mTimeoutError\u001b[39;00m\n",
      "File \u001b[1;32m~\\AppData\\Local\\Programs\\Python\\Python312\\Lib\\multiprocessing\\pool.py:765\u001b[0m, in \u001b[0;36mApplyResult.wait\u001b[1;34m(self, timeout)\u001b[0m\n\u001b[0;32m    764\u001b[0m \u001b[38;5;28;01mdef\u001b[39;00m\u001b[38;5;250m \u001b[39m\u001b[38;5;21mwait\u001b[39m(\u001b[38;5;28mself\u001b[39m, timeout\u001b[38;5;241m=\u001b[39m\u001b[38;5;28;01mNone\u001b[39;00m):\n\u001b[1;32m--> 765\u001b[0m     \u001b[38;5;28;43mself\u001b[39;49m\u001b[38;5;241;43m.\u001b[39;49m\u001b[43m_event\u001b[49m\u001b[38;5;241;43m.\u001b[39;49m\u001b[43mwait\u001b[49m\u001b[43m(\u001b[49m\u001b[43mtimeout\u001b[49m\u001b[43m)\u001b[49m\n",
      "File \u001b[1;32m~\\AppData\\Local\\Programs\\Python\\Python312\\Lib\\threading.py:655\u001b[0m, in \u001b[0;36mEvent.wait\u001b[1;34m(self, timeout)\u001b[0m\n\u001b[0;32m    653\u001b[0m signaled \u001b[38;5;241m=\u001b[39m \u001b[38;5;28mself\u001b[39m\u001b[38;5;241m.\u001b[39m_flag\n\u001b[0;32m    654\u001b[0m \u001b[38;5;28;01mif\u001b[39;00m \u001b[38;5;129;01mnot\u001b[39;00m signaled:\n\u001b[1;32m--> 655\u001b[0m     signaled \u001b[38;5;241m=\u001b[39m \u001b[38;5;28;43mself\u001b[39;49m\u001b[38;5;241;43m.\u001b[39;49m\u001b[43m_cond\u001b[49m\u001b[38;5;241;43m.\u001b[39;49m\u001b[43mwait\u001b[49m\u001b[43m(\u001b[49m\u001b[43mtimeout\u001b[49m\u001b[43m)\u001b[49m\n\u001b[0;32m    656\u001b[0m \u001b[38;5;28;01mreturn\u001b[39;00m signaled\n",
      "File \u001b[1;32m~\\AppData\\Local\\Programs\\Python\\Python312\\Lib\\threading.py:355\u001b[0m, in \u001b[0;36mCondition.wait\u001b[1;34m(self, timeout)\u001b[0m\n\u001b[0;32m    353\u001b[0m \u001b[38;5;28;01mtry\u001b[39;00m:    \u001b[38;5;66;03m# restore state no matter what (e.g., KeyboardInterrupt)\u001b[39;00m\n\u001b[0;32m    354\u001b[0m     \u001b[38;5;28;01mif\u001b[39;00m timeout \u001b[38;5;129;01mis\u001b[39;00m \u001b[38;5;28;01mNone\u001b[39;00m:\n\u001b[1;32m--> 355\u001b[0m         \u001b[43mwaiter\u001b[49m\u001b[38;5;241;43m.\u001b[39;49m\u001b[43macquire\u001b[49m\u001b[43m(\u001b[49m\u001b[43m)\u001b[49m\n\u001b[0;32m    356\u001b[0m         gotit \u001b[38;5;241m=\u001b[39m \u001b[38;5;28;01mTrue\u001b[39;00m\n\u001b[0;32m    357\u001b[0m     \u001b[38;5;28;01melse\u001b[39;00m:\n",
      "\u001b[1;31mKeyboardInterrupt\u001b[0m: "
     ]
    }
   ],
   "source": [
    "# code_unit_changes: list[dict[str, Any]] = []\n",
    "# code_context_changes: list[dict[str, Any]] = []\n",
    "\n",
    "\n",
    "repos: dict[str, Repo] = {}\n",
    "\n",
    "grouped_vulnerabilities = (\n",
    "    python_vulnerability_fixes.group_by(\n",
    "        \"repo\", \"vulnerability_id\", \"commit\", \"commit_source\"\n",
    "    )\n",
    "    .agg(pl.col(\"patch\"), pl.col(\"file\"), pl.col(\"language\"))\n",
    "    .sample(fraction=1, shuffle=True)\n",
    ")\n",
    "errors: list[dict[str, Any]] = []\n",
    "# checked_commits = set([change[\"commit\"] for change in code_unit_changes])\n",
    "\n",
    "\n",
    "params: list[dict[str, Any]] = [\n",
    "    (commit_data_row)\n",
    "    for commit_data_row in grouped_vulnerabilities.iter_rows(named=True)\n",
    "    # if commit_data_row[\"commit\"] not in checked_commits\n",
    "]\n",
    "\n",
    "\n",
    "with multiprocessing.Pool(os.cpu_count()) as pool:\n",
    "    for i in range(0, len(params), 20):\n",
    "        results = pool.map(get_changes, params[i : i + 20 ])\n",
    "        print(f\"Processed {i} - {i+20} commits\")\n",
    "        print(results)\n",
    "        for result in results:\n",
    "            if isinstance(result, Exception):\n",
    "                print(traceback.print_exception(result))"
   ]
  },
  {
   "cell_type": "code",
   "execution_count": 1,
   "metadata": {},
   "outputs": [
    {
     "ename": "NameError",
     "evalue": "name 'code_unit_changes' is not defined",
     "output_type": "error",
     "traceback": [
      "\u001b[0;31m---------------------------------------------------------------------------\u001b[0m",
      "\u001b[0;31mNameError\u001b[0m                                 Traceback (most recent call last)",
      "Cell \u001b[0;32mIn[1], line 1\u001b[0m\n\u001b[0;32m----> 1\u001b[0m checked_commits \u001b[38;5;241m=\u001b[39m \u001b[38;5;28mset\u001b[39m([change[\u001b[38;5;124m\"\u001b[39m\u001b[38;5;124mcommit\u001b[39m\u001b[38;5;124m\"\u001b[39m] \u001b[38;5;28;01mfor\u001b[39;00m change \u001b[38;5;129;01min\u001b[39;00m \u001b[43mcode_unit_changes\u001b[49m])\n",
      "\u001b[0;31mNameError\u001b[0m: name 'code_unit_changes' is not defined"
     ]
    }
   ],
   "source": [
    "checked_commits = set([change[\"commit\"] for change in code_unit_changes])"
   ]
  },
  {
   "cell_type": "code",
   "execution_count": 30,
   "metadata": {},
   "outputs": [
    {
     "name": "stdout",
     "output_type": "stream",
     "text": [
      "kovidgoyal/calibre\n",
      "3a89718664cb8c\n"
     ]
    }
   ],
   "source": [
    "print(repo_name)\n",
    "print(fix_commit)"
   ]
  },
  {
   "cell_type": "code",
   "execution_count": 26,
   "metadata": {},
   "outputs": [
    {
     "data": {
      "text/plain": [
       "[Change(old=177, new=177, line='        pass', hunk=1),\n",
       " Change(old=178, new=178, line='', hunk=1),\n",
       " Change(old=179, new=179, line='    def skip(self, type):', hunk=1),\n",
       " Change(old=180, new=None, line='        if type == TType.STOP:', hunk=1),\n",
       " Change(old=181, new=None, line='            return', hunk=1),\n",
       " Change(old=182, new=None, line='        elif type == TType.BOOL:', hunk=1),\n",
       " Change(old=None, new=180, line='        if type == TType.BOOL:', hunk=1),\n",
       " Change(old=183, new=181, line='            self.readBool()', hunk=1),\n",
       " Change(old=184, new=182, line='        elif type == TType.BYTE:', hunk=1),\n",
       " Change(old=185, new=183, line='            self.readByte()', hunk=1),\n",
       " Change(old=220, new=218, line='            for _ in range(size):', hunk=2),\n",
       " Change(old=221, new=219, line='                self.skip(etype)', hunk=2),\n",
       " Change(old=222, new=220, line='            self.readListEnd()', hunk=2),\n",
       " Change(old=None, new=221, line='        else:', hunk=2),\n",
       " Change(old=None, new=222, line='            raise TProtocolException(', hunk=2),\n",
       " Change(old=None, new=223, line='                TProtocolException.INVALID_DATA,', hunk=2),\n",
       " Change(old=None, new=224, line='                \"Unexpected type for skipping {}\".format(type)', hunk=2),\n",
       " Change(old=None, new=225, line='            )', hunk=2),\n",
       " Change(old=223, new=226, line='', hunk=2),\n",
       " Change(old=224, new=227, line='    def readIntegral(self, type):', hunk=2),\n",
       " Change(old=225, new=228, line='        if type == TType.BOOL:', hunk=2)]"
      ]
     },
     "execution_count": 26,
     "metadata": {},
     "output_type": "execute_result"
    }
   ],
   "source": [
    "diffs = whatthepatch.parse_patch(patch)\n",
    "list(diffs)[0].changes"
   ]
  },
  {
   "cell_type": "code",
   "execution_count": 14,
   "metadata": {},
   "outputs": [
    {
     "data": {
      "text/plain": [
       "'class'"
      ]
     },
     "execution_count": 14,
     "metadata": {},
     "output_type": "execute_result"
    }
   ],
   "source": [
    "project = jedi.Project(\"repos/parisneo/lollms\")\n",
    "script = jedi.Script(\n",
    "    path=\"repos/parisneo/lollms/lollms/server/endpoints/lollms_file_system.py\", project=project)\n",
    "name = script.goto(328, 23, follow_imports=True)[0]\n",
    "name.type"
   ]
  },
  {
   "cell_type": "code",
   "execution_count": 304,
   "metadata": {},
   "outputs": [],
   "source": [
    "script.get_context(27).parent().parent()"
   ]
  },
  {
   "cell_type": "code",
   "execution_count": 260,
   "metadata": {},
   "outputs": [
    {
     "data": {
      "text/plain": [
       "['tornado.web']"
      ]
     },
     "execution_count": 260,
     "metadata": {},
     "output_type": "execute_result"
    }
   ],
   "source": [
    "[name.module_name for name in script.goto(27, 32)]"
   ]
  },
  {
   "cell_type": "code",
   "execution_count": 214,
   "metadata": {},
   "outputs": [
    {
     "data": {
      "text/plain": [
       "[<Name full_name='code.autocomplete.server.sanitize_callback', description='def sanitize_callback'>]"
      ]
     },
     "execution_count": 214,
     "metadata": {},
     "output_type": "execute_result"
    }
   ],
   "source": [
    "[name for name in script.get_references(53, len(\"            callback = sanitize_\")) if name.is_definition()]"
   ]
  },
  {
   "cell_type": "code",
   "execution_count": 37,
   "metadata": {},
   "outputs": [
    {
     "data": {
      "text/html": [
       "<div><style>\n",
       ".dataframe > thead > tr,\n",
       ".dataframe > tbody > tr {\n",
       "  text-align: right;\n",
       "  white-space: pre-wrap;\n",
       "}\n",
       "</style>\n",
       "<small>shape: (10, 9)</small><table border=\"1\" class=\"dataframe\"><thead><tr><th>cve_id</th><th>repo</th><th>commit</th><th>language</th><th>reference</th><th>year</th><th>cwe_id</th><th>detection_date</th><th>score</th></tr><tr><td>str</td><td>str</td><td>str</td><td>str</td><td>str</td><td>i64</td><td>str</td><td>str</td><td>f64</td></tr></thead><tbody><tr><td>&quot;2021-21695&quot;</td><td>&quot;jenkinsci/jenkins&quot;</td><td>&quot;63cde2daadc705edf086f2213b48c8…</td><td>&quot;Java&quot;</td><td>&quot;https://github.com/jenkinsci/j…</td><td>2021</td><td>&quot;CWE-59&quot;</td><td>&quot;2022-05-24T19:19:43.000000&quot;</td><td>9.0</td></tr><tr><td>&quot;2021-21690&quot;</td><td>&quot;jenkinsci/jenkins&quot;</td><td>&quot;63cde2daadc705edf086f2213b48c8…</td><td>&quot;Java&quot;</td><td>&quot;https://github.com/jenkinsci/j…</td><td>2021</td><td>&quot;CWE-22&quot;</td><td>&quot;2022-05-24T19:19:44.000000&quot;</td><td>9.0</td></tr><tr><td>&quot;2021-21694&quot;</td><td>&quot;jenkinsci/jenkins&quot;</td><td>&quot;63cde2daadc705edf086f2213b48c8…</td><td>&quot;Java&quot;</td><td>&quot;https://github.com/jenkinsci/j…</td><td>2021</td><td>&quot;CWE-862&quot;</td><td>&quot;2022-05-24T19:19:44.000000&quot;</td><td>9.0</td></tr><tr><td>&quot;2021-21688&quot;</td><td>&quot;jenkinsci/jenkins&quot;</td><td>&quot;63cde2daadc705edf086f2213b48c8…</td><td>&quot;Java&quot;</td><td>&quot;https://github.com/jenkinsci/j…</td><td>2021</td><td>&quot;CWE-862&quot;</td><td>&quot;2022-05-24T19:19:44.000000&quot;</td><td>9.0</td></tr><tr><td>&quot;2021-21692&quot;</td><td>&quot;jenkinsci/jenkins&quot;</td><td>&quot;63cde2daadc705edf086f2213b48c8…</td><td>&quot;Java&quot;</td><td>&quot;https://github.com/jenkinsci/j…</td><td>2021</td><td>&quot;CWE-22&quot;</td><td>&quot;2022-05-24T19:19:44.000000&quot;</td><td>9.0</td></tr><tr><td>&quot;2021-21686&quot;</td><td>&quot;jenkinsci/jenkins&quot;</td><td>&quot;63cde2daadc705edf086f2213b48c8…</td><td>&quot;Java&quot;</td><td>&quot;https://github.com/jenkinsci/j…</td><td>2021</td><td>&quot;CWE-22&quot;</td><td>&quot;2022-05-24T19:19:45.000000&quot;</td><td>9.0</td></tr><tr><td>&quot;2021-21693&quot;</td><td>&quot;jenkinsci/jenkins&quot;</td><td>&quot;63cde2daadc705edf086f2213b48c8…</td><td>&quot;Java&quot;</td><td>&quot;https://github.com/jenkinsci/j…</td><td>2021</td><td>&quot;CWE-285&quot;</td><td>&quot;2022-05-24T19:19:44.000000&quot;</td><td>9.0</td></tr><tr><td>&quot;2021-21691&quot;</td><td>&quot;jenkinsci/jenkins&quot;</td><td>&quot;63cde2daadc705edf086f2213b48c8…</td><td>&quot;Java&quot;</td><td>&quot;https://github.com/jenkinsci/j…</td><td>2021</td><td>&quot;CWE-59&quot;</td><td>&quot;2022-05-24T19:19:44.000000&quot;</td><td>9.0</td></tr><tr><td>&quot;2021-21689&quot;</td><td>&quot;jenkinsci/jenkins&quot;</td><td>&quot;63cde2daadc705edf086f2213b48c8…</td><td>&quot;Java&quot;</td><td>&quot;https://github.com/jenkinsci/j…</td><td>2021</td><td>&quot;CWE-862&quot;</td><td>&quot;2022-05-24T19:19:44.000000&quot;</td><td>9.0</td></tr><tr><td>&quot;2021-21685&quot;</td><td>&quot;jenkinsci/jenkins&quot;</td><td>&quot;63cde2daadc705edf086f2213b48c8…</td><td>&quot;Java&quot;</td><td>&quot;https://github.com/jenkinsci/j…</td><td>2021</td><td>&quot;CWE-862&quot;</td><td>&quot;2022-05-24T19:19:44.000000&quot;</td><td>9.0</td></tr></tbody></table></div>"
      ],
      "text/plain": [
       "shape: (10, 9)\n",
       "┌────────────┬───────────────┬──────────────┬──────────┬───┬──────┬─────────┬──────────────┬───────┐\n",
       "│ cve_id     ┆ repo          ┆ commit       ┆ language ┆ … ┆ year ┆ cwe_id  ┆ detection_da ┆ score │\n",
       "│ ---        ┆ ---           ┆ ---          ┆ ---      ┆   ┆ ---  ┆ ---     ┆ te           ┆ ---   │\n",
       "│ str        ┆ str           ┆ str          ┆ str      ┆   ┆ i64  ┆ str     ┆ ---          ┆ f64   │\n",
       "│            ┆               ┆              ┆          ┆   ┆      ┆         ┆ str          ┆       │\n",
       "╞════════════╪═══════════════╪══════════════╪══════════╪═══╪══════╪═════════╪══════════════╪═══════╡\n",
       "│ 2021-21695 ┆ jenkinsci/jen ┆ 63cde2daadc7 ┆ Java     ┆ … ┆ 2021 ┆ CWE-59  ┆ 2022-05-24T1 ┆ 9.0   │\n",
       "│            ┆ kins          ┆ 05edf086f221 ┆          ┆   ┆      ┆         ┆ 9:19:43.0000 ┆       │\n",
       "│            ┆               ┆ 3b48c8…      ┆          ┆   ┆      ┆         ┆ 00           ┆       │\n",
       "│ 2021-21690 ┆ jenkinsci/jen ┆ 63cde2daadc7 ┆ Java     ┆ … ┆ 2021 ┆ CWE-22  ┆ 2022-05-24T1 ┆ 9.0   │\n",
       "│            ┆ kins          ┆ 05edf086f221 ┆          ┆   ┆      ┆         ┆ 9:19:44.0000 ┆       │\n",
       "│            ┆               ┆ 3b48c8…      ┆          ┆   ┆      ┆         ┆ 00           ┆       │\n",
       "│ 2021-21694 ┆ jenkinsci/jen ┆ 63cde2daadc7 ┆ Java     ┆ … ┆ 2021 ┆ CWE-862 ┆ 2022-05-24T1 ┆ 9.0   │\n",
       "│            ┆ kins          ┆ 05edf086f221 ┆          ┆   ┆      ┆         ┆ 9:19:44.0000 ┆       │\n",
       "│            ┆               ┆ 3b48c8…      ┆          ┆   ┆      ┆         ┆ 00           ┆       │\n",
       "│ 2021-21688 ┆ jenkinsci/jen ┆ 63cde2daadc7 ┆ Java     ┆ … ┆ 2021 ┆ CWE-862 ┆ 2022-05-24T1 ┆ 9.0   │\n",
       "│            ┆ kins          ┆ 05edf086f221 ┆          ┆   ┆      ┆         ┆ 9:19:44.0000 ┆       │\n",
       "│            ┆               ┆ 3b48c8…      ┆          ┆   ┆      ┆         ┆ 00           ┆       │\n",
       "│ 2021-21692 ┆ jenkinsci/jen ┆ 63cde2daadc7 ┆ Java     ┆ … ┆ 2021 ┆ CWE-22  ┆ 2022-05-24T1 ┆ 9.0   │\n",
       "│            ┆ kins          ┆ 05edf086f221 ┆          ┆   ┆      ┆         ┆ 9:19:44.0000 ┆       │\n",
       "│            ┆               ┆ 3b48c8…      ┆          ┆   ┆      ┆         ┆ 00           ┆       │\n",
       "│ 2021-21686 ┆ jenkinsci/jen ┆ 63cde2daadc7 ┆ Java     ┆ … ┆ 2021 ┆ CWE-22  ┆ 2022-05-24T1 ┆ 9.0   │\n",
       "│            ┆ kins          ┆ 05edf086f221 ┆          ┆   ┆      ┆         ┆ 9:19:45.0000 ┆       │\n",
       "│            ┆               ┆ 3b48c8…      ┆          ┆   ┆      ┆         ┆ 00           ┆       │\n",
       "│ 2021-21693 ┆ jenkinsci/jen ┆ 63cde2daadc7 ┆ Java     ┆ … ┆ 2021 ┆ CWE-285 ┆ 2022-05-24T1 ┆ 9.0   │\n",
       "│            ┆ kins          ┆ 05edf086f221 ┆          ┆   ┆      ┆         ┆ 9:19:44.0000 ┆       │\n",
       "│            ┆               ┆ 3b48c8…      ┆          ┆   ┆      ┆         ┆ 00           ┆       │\n",
       "│ 2021-21691 ┆ jenkinsci/jen ┆ 63cde2daadc7 ┆ Java     ┆ … ┆ 2021 ┆ CWE-59  ┆ 2022-05-24T1 ┆ 9.0   │\n",
       "│            ┆ kins          ┆ 05edf086f221 ┆          ┆   ┆      ┆         ┆ 9:19:44.0000 ┆       │\n",
       "│            ┆               ┆ 3b48c8…      ┆          ┆   ┆      ┆         ┆ 00           ┆       │\n",
       "│ 2021-21689 ┆ jenkinsci/jen ┆ 63cde2daadc7 ┆ Java     ┆ … ┆ 2021 ┆ CWE-862 ┆ 2022-05-24T1 ┆ 9.0   │\n",
       "│            ┆ kins          ┆ 05edf086f221 ┆          ┆   ┆      ┆         ┆ 9:19:44.0000 ┆       │\n",
       "│            ┆               ┆ 3b48c8…      ┆          ┆   ┆      ┆         ┆ 00           ┆       │\n",
       "│ 2021-21685 ┆ jenkinsci/jen ┆ 63cde2daadc7 ┆ Java     ┆ … ┆ 2021 ┆ CWE-862 ┆ 2022-05-24T1 ┆ 9.0   │\n",
       "│            ┆ kins          ┆ 05edf086f221 ┆          ┆   ┆      ┆         ┆ 9:19:44.0000 ┆       │\n",
       "│            ┆               ┆ 3b48c8…      ┆          ┆   ┆      ┆         ┆ 00           ┆       │\n",
       "└────────────┴───────────────┴──────────────┴──────────┴───┴──────┴─────────┴──────────────┴───────┘"
      ]
     },
     "execution_count": 37,
     "metadata": {},
     "output_type": "execute_result"
    }
   ],
   "source": [
    "commit_data_only_top_langs.unique([\"cve_id\", \"commit\"]).filter(pl.col(\"commit\") == \"63cde2daadc705edf086f2213b48c8c547f98358\").head(50)"
   ]
  },
  {
   "cell_type": "code",
   "execution_count": 258,
   "metadata": {},
   "outputs": [
    {
     "data": {
      "text/plain": [
       "[]"
      ]
     },
     "execution_count": 258,
     "metadata": {},
     "output_type": "execute_result"
    }
   ],
   "source": [
    "another_script = jedi.Script(path=\"repos/rtxteam/rtx/code/kg2c/create_indexes_constraints_canonicalized.py\", project=project)\n",
    "another_script.goto(102,36)"
   ]
  }
 ],
 "metadata": {
  "kernelspec": {
   "display_name": "open-source-code-vulnerabilities-dataset-7Yku5KZk-py3.12",
   "language": "python",
   "name": "python3"
  },
  "language_info": {
   "codemirror_mode": {
    "name": "ipython",
    "version": 3
   },
   "file_extension": ".py",
   "mimetype": "text/x-python",
   "name": "python",
   "nbconvert_exporter": "python",
   "pygments_lexer": "ipython3",
   "version": "3.12.8"
  }
 },
 "nbformat": 4,
 "nbformat_minor": 2
}
