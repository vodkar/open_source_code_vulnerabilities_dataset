{
    "cells": [
        {
            "cell_type": "code",
            "execution_count": 30,
            "metadata": {},
            "outputs": [],
            "source": [
                "import polars as pl\n",
                "from src.paths import (\n",
                "    PYTHON_VULNERABILITY_FIXES_DATA_PATH,\n",
                "    PYTHON_CODE_FIXES_DATA_PATH,\n",
                "    PYTHON_CODE_FIXES_WITH_CONTEXT_DATA_PATH,\n",
                "    PYTHON_CODE_UNITS_DATA_PATH,\n",
                "    PYTHON_CODE_CONTEXT_DATA_PATH,\n",
                "    PYTHON_VULNERABILITIES_WITHOUT_BALANCING,\n",
                ")\n",
                "from tqdm import tqdm\n",
                "import jedi\n",
                "from git import Repo\n",
                "from typing import Any\n",
                "import jedi.api\n",
                "import jedi.common\n",
                "import json\n",
                "import shutil\n",
                "import logging\n",
                "import matplotlib.pyplot as plt\n",
                "import tempfile\n",
                "import subprocess\n",
                "from pathlib import Path\n",
                "import json\n",
                "\n",
                "from src.process_code_changes import get_changes"
            ]
        },
        {
            "cell_type": "markdown",
            "metadata": {},
            "source": [
                "## Filter out data"
            ]
        },
        {
            "cell_type": "code",
            "execution_count": 3,
            "metadata": {},
            "outputs": [
                {
                    "name": "stdout",
                    "output_type": "stream",
                    "text": [
                        "1805\n",
                        "1802\n"
                    ]
                }
            ],
            "source": [
                "# python_commit_data = commit_data_only_top_langs.filter(pl.col(\"language\") == \"Python\")\n",
                "python_vulnerability_fixes = pl.read_parquet(PYTHON_VULNERABILITY_FIXES_DATA_PATH)\n",
                "print(python_vulnerability_fixes.unique(\"vulnerability_id\").shape[0])\n",
                "python_vulnerability_fixes = python_vulnerability_fixes.group_by('vulnerability_id', 'repo', 'commit', 'pull_request_number', 'file', 'patch', 'patch_time', 'commit_source', 'file_extension', 'language').agg(pl.col(\"cwe_id\"))\n",
                "python_vulnerability_fixes = python_vulnerability_fixes.unique(\"patch\")\n",
                "print(python_vulnerability_fixes.unique(\"vulnerability_id\").shape[0])\n"
            ]
        },
        {
            "cell_type": "markdown",
            "metadata": {},
            "source": [
                "## Filter out data connected with test functionallity"
            ]
        },
        {
            "cell_type": "code",
            "execution_count": 4,
            "metadata": {},
            "outputs": [
                {
                    "data": {
                        "text/plain": [
                            "1552"
                        ]
                    },
                    "execution_count": 4,
                    "metadata": {},
                    "output_type": "execute_result"
                }
            ],
            "source": [
                "python_vulnerability_fixes = python_vulnerability_fixes.filter(\n",
                "    (\n",
                "        pl.col(\"file\").str.contains(r\"\\/{0,1}[tT][eE][sS][tT][sS]{0,1}\\/\")\n",
                "        | pl.col(\"patch\").str.contains(\"pytest\")\n",
                "        | pl.col(\"patch\").str.contains(\"unittest\")\n",
                "    ).not_()\n",
                ")\n",
                "python_vulnerability_fixes.unique(\"vulnerability_id\").shape[0]"
            ]
        },
        {
            "cell_type": "code",
            "execution_count": 5,
            "metadata": {},
            "outputs": [
                {
                    "data": {
                        "text/plain": [
                            "1507"
                        ]
                    },
                    "execution_count": 5,
                    "metadata": {},
                    "output_type": "execute_result"
                }
            ],
            "source": [
                "exclude_langs = [\n",
                "    \"txt\",\n",
                "    \"md\",\n",
                "    \"JSON\",\n",
                "    \"YAML\",\n",
                "    \"bugfix\",\n",
                "    \"cfg\",\n",
                "    \"rst\",\n",
                "    \"toml\",\n",
                "    \"lock\",\n",
                "    \"ini\",\n",
                "    \"in\",\n",
                "    \"gitignore\",\n",
                "    \"sample\",\n",
                "    \"pem\",\n",
                "    \"feature\",\n",
                "    \"tif\",\n",
                "    \"security\",\n",
                "    \"proto\",\n",
                "    \"conf\",\n",
                "    \"spec\",\n",
                "    \"bin\",\n",
                "    \"misc\",\n",
                "    \"pyi\",\n",
                "    \"pxi\",\n",
                "    \"fli\",\n",
                "    \"gif\",\n",
                "    \"tpl\",\n",
                "    \"graphql\",\n",
                "    \"http\",\n",
                "    \"sgi\",\n",
                "    \"pyx\",\n",
                "    \"inc\"\n",
                "]\n",
                "python_vulnerability_fixes = python_vulnerability_fixes.filter(\n",
                "    (\n",
                "        pl.col(\"file\").str.split(\".\").list.last().is_in(exclude_langs)\n",
                "    ).not_(),\n",
                "    pl.col(\"file\").str.contains(r\"__.*__.py\").not_()\n",
                ")\n",
                "python_vulnerability_fixes.unique(\"vulnerability_id\").shape[0]"
            ]
        },
        {
            "cell_type": "markdown",
            "metadata": {},
            "source": [
                "## Process missing commit"
            ]
        },
        {
            "cell_type": "code",
            "execution_count": 6,
            "metadata": {},
            "outputs": [
                {
                    "name": "stdout",
                    "output_type": "stream",
                    "text": [
                        "shape: (33, 11)\n",
                        "┌────────────┬────────────┬────────┬────────────┬───┬───────────┬───────────┬──────────┬───────────┐\n",
                        "│ vulnerabil ┆ repo       ┆ commit ┆ pull_reque ┆ … ┆ commit_so ┆ file_exte ┆ language ┆ cwe_id    │\n",
                        "│ ity_id     ┆ ---        ┆ ---    ┆ st_number  ┆   ┆ urce      ┆ nsion     ┆ ---      ┆ ---       │\n",
                        "│ ---        ┆ str        ┆ str    ┆ ---        ┆   ┆ ---       ┆ ---       ┆ str      ┆ list[str] │\n",
                        "│ str        ┆            ┆        ┆ i64        ┆   ┆ str       ┆ str       ┆          ┆           │\n",
                        "╞════════════╪════════════╪════════╪════════════╪═══╪═══════════╪═══════════╪══════════╪═══════════╡\n",
                        "│ 2013-10009 ┆ DrAzraelTo ┆ null   ┆ 1          ┆ … ┆ github    ┆ py        ┆ Python   ┆ [\"CWE-89\" │\n",
                        "│            ┆ d/pyChao   ┆        ┆            ┆   ┆           ┆           ┆          ┆ ]         │\n",
                        "│ 2013-4439  ┆ saltstack/ ┆ null   ┆ 7356       ┆ … ┆ github    ┆ py        ┆ Python   ┆ [null]    │\n",
                        "│            ┆ salt       ┆        ┆            ┆   ┆           ┆           ┆          ┆           │\n",
                        "│ 2013-1629  ┆ pypa/pip   ┆ null   ┆ 791        ┆ … ┆ github    ┆ py        ┆ Python   ┆ [\"CWE-20\" │\n",
                        "│            ┆            ┆        ┆            ┆   ┆           ┆           ┆          ┆ ]         │\n",
                        "│ 2013-4439  ┆ saltstack/ ┆ null   ┆ 7356       ┆ … ┆ github    ┆ py        ┆ Python   ┆ [null]    │\n",
                        "│            ┆ salt       ┆        ┆            ┆   ┆           ┆           ┆          ┆           │\n",
                        "│ 2013-4439  ┆ saltstack/ ┆ null   ┆ 7356       ┆ … ┆ github    ┆ py        ┆ Python   ┆ [null]    │\n",
                        "│            ┆ salt       ┆        ┆            ┆   ┆           ┆           ┆          ┆           │\n",
                        "│ …          ┆ …          ┆ …      ┆ …          ┆ … ┆ …         ┆ …         ┆ …        ┆ …         │\n",
                        "│ 2013-1629  ┆ pypa/pip   ┆ null   ┆ 791        ┆ … ┆ github    ┆ py        ┆ Python   ┆ [\"CWE-20\" │\n",
                        "│            ┆            ┆        ┆            ┆   ┆           ┆           ┆          ┆ ]         │\n",
                        "│ 2014-8991  ┆ pypa/pip   ┆ null   ┆ 2122       ┆ … ┆ github    ┆ py        ┆ Python   ┆ [null]    │\n",
                        "│ 2014-3429  ┆ ipython/ip ┆ null   ┆ 4845       ┆ … ┆ github    ┆ py        ┆ Python   ┆ [\"CWE-94\" │\n",
                        "│            ┆ ython      ┆        ┆            ┆   ┆           ┆           ┆          ┆ ]         │\n",
                        "│ 2013-4439  ┆ saltstack/ ┆ null   ┆ 7356       ┆ … ┆ github    ┆ py        ┆ Python   ┆ [null]    │\n",
                        "│            ┆ salt       ┆        ┆            ┆   ┆           ┆           ┆          ┆           │\n",
                        "│ 2014-3146  ┆ lxml/lxml  ┆ null   ┆ 273        ┆ … ┆ github    ┆ py        ┆ Python   ┆ [\"CWE-79\" │\n",
                        "│            ┆            ┆        ┆            ┆   ┆           ┆           ┆          ┆ ]         │\n",
                        "└────────────┴────────────┴────────┴────────────┴───┴───────────┴───────────┴──────────┴───────────┘\n",
                        "shape: (33, 11)\n",
                        "┌────────────┬────────────┬────────┬────────────┬───┬───────────┬───────────┬──────────┬───────────┐\n",
                        "│ vulnerabil ┆ repo       ┆ commit ┆ pull_reque ┆ … ┆ commit_so ┆ file_exte ┆ language ┆ cwe_id    │\n",
                        "│ ity_id     ┆ ---        ┆ ---    ┆ st_number  ┆   ┆ urce      ┆ nsion     ┆ ---      ┆ ---       │\n",
                        "│ ---        ┆ str        ┆ str    ┆ ---        ┆   ┆ ---       ┆ ---       ┆ str      ┆ list[str] │\n",
                        "│ str        ┆            ┆        ┆ i64        ┆   ┆ str       ┆ str       ┆          ┆           │\n",
                        "╞════════════╪════════════╪════════╪════════════╪═══╪═══════════╪═══════════╪══════════╪═══════════╡\n",
                        "│ 2013-10009 ┆ DrAzraelTo ┆ null   ┆ 1          ┆ … ┆ github    ┆ py        ┆ Python   ┆ [\"CWE-89\" │\n",
                        "│            ┆ d/pyChao   ┆        ┆            ┆   ┆           ┆           ┆          ┆ ]         │\n",
                        "│ 2013-4439  ┆ saltstack/ ┆ null   ┆ 7356       ┆ … ┆ github    ┆ py        ┆ Python   ┆ [null]    │\n",
                        "│            ┆ salt       ┆        ┆            ┆   ┆           ┆           ┆          ┆           │\n",
                        "│ 2013-1629  ┆ pypa/pip   ┆ null   ┆ 791        ┆ … ┆ github    ┆ py        ┆ Python   ┆ [\"CWE-20\" │\n",
                        "│            ┆            ┆        ┆            ┆   ┆           ┆           ┆          ┆ ]         │\n",
                        "│ 2013-4439  ┆ saltstack/ ┆ null   ┆ 7356       ┆ … ┆ github    ┆ py        ┆ Python   ┆ [null]    │\n",
                        "│            ┆ salt       ┆        ┆            ┆   ┆           ┆           ┆          ┆           │\n",
                        "│ 2013-4439  ┆ saltstack/ ┆ null   ┆ 7356       ┆ … ┆ github    ┆ py        ┆ Python   ┆ [null]    │\n",
                        "│            ┆ salt       ┆        ┆            ┆   ┆           ┆           ┆          ┆           │\n",
                        "│ …          ┆ …          ┆ …      ┆ …          ┆ … ┆ …         ┆ …         ┆ …        ┆ …         │\n",
                        "│ 2013-1629  ┆ pypa/pip   ┆ null   ┆ 791        ┆ … ┆ github    ┆ py        ┆ Python   ┆ [\"CWE-20\" │\n",
                        "│            ┆            ┆        ┆            ┆   ┆           ┆           ┆          ┆ ]         │\n",
                        "│ 2014-8991  ┆ pypa/pip   ┆ null   ┆ 2122       ┆ … ┆ github    ┆ py        ┆ Python   ┆ [null]    │\n",
                        "│ 2014-3429  ┆ ipython/ip ┆ null   ┆ 4845       ┆ … ┆ github    ┆ py        ┆ Python   ┆ [\"CWE-94\" │\n",
                        "│            ┆ ython      ┆        ┆            ┆   ┆           ┆           ┆          ┆ ]         │\n",
                        "│ 2013-4439  ┆ saltstack/ ┆ null   ┆ 7356       ┆ … ┆ github    ┆ py        ┆ Python   ┆ [null]    │\n",
                        "│            ┆ salt       ┆        ┆            ┆   ┆           ┆           ┆          ┆           │\n",
                        "│ 2014-3146  ┆ lxml/lxml  ┆ null   ┆ 273        ┆ … ┆ github    ┆ py        ┆ Python   ┆ [\"CWE-79\" │\n",
                        "│            ┆            ┆        ┆            ┆   ┆           ┆           ┆          ┆ ]         │\n",
                        "└────────────┴────────────┴────────┴────────────┴───┴───────────┴───────────┴──────────┴───────────┘\n",
                        "shape: (0, 11)\n",
                        "┌─────────────┬──────┬────────┬─────────────┬───┬─────────────┬─────────────┬──────────┬───────────┐\n",
                        "│ vulnerabili ┆ repo ┆ commit ┆ pull_reques ┆ … ┆ commit_sour ┆ file_extens ┆ language ┆ cwe_id    │\n",
                        "│ ty_id       ┆ ---  ┆ ---    ┆ t_number    ┆   ┆ ce          ┆ ion         ┆ ---      ┆ ---       │\n",
                        "│ ---         ┆ str  ┆ str    ┆ ---         ┆   ┆ ---         ┆ ---         ┆ str      ┆ list[str] │\n",
                        "│ str         ┆      ┆        ┆ i64         ┆   ┆ str         ┆ str         ┆          ┆           │\n",
                        "╞═════════════╪══════╪════════╪═════════════╪═══╪═════════════╪═════════════╪══════════╪═══════════╡\n",
                        "└─────────────┴──────┴────────┴─────────────┴───┴─────────────┴─────────────┴──────────┴───────────┘\n"
                    ]
                }
            ],
            "source": [
                "print(python_vulnerability_fixes.filter(pl.col(\"commit\").is_null()))\n",
                "python_vulnerability_fixes = python_vulnerability_fixes.with_columns(\n",
                "    pl.when(pl.col(\"pull_request_number\") == 24391)\n",
                "    .then(pl.lit(\"86664c9405136a4904775c52e6caf100a474ec58\"))\n",
                "    .otherwise(pl.col(\"commit\"))\n",
                "    .alias(\"commit\")\n",
                ")\n",
                "print(python_vulnerability_fixes.filter(pl.col(\"commit\").is_null()))\n",
                "# No changes related to python: https://github.com/pyca/pyopenssl/commit/6bbf44a00b35fb28df1f66aa194b2fe95eab1ab2\n",
                "# Very big change: https://github.com/transifex/transifex-client/commit/e0d1f8b38ec1a24e2999d63420554d8393206f58\n",
                "python_vulnerability_fixes = python_vulnerability_fixes.filter(\n",
                "    ~pl.col(\"commit\").is_in(\n",
                "        [\n",
                "            \"6bbf44a00b35fb28df1f66aa194b2fe95eab1ab2\",\n",
                "            \"e0d1f8b38ec1a24e2999d63420554d8393206f58\",\n",
                "            \"5f7496481bd3db1d06a2d2e62c0dce960a1fe12b\",\n",
                "            # Not exists in repo\n",
                "            \"13336272e32872247fa7d17e964ccd88ec8d1376\",\n",
                "            \"2bfe358043096fdba9e2a4cf0f5740102b37fd8f\",\n",
                "        ]\n",
                "    )\n",
                ")\n",
                "python_vulnerability_fixes = python_vulnerability_fixes.filter(\n",
                "    pl.col(\"file\") != \"setup.py\"\n",
                ")\n",
                "print(python_vulnerability_fixes.filter(pl.col(\"commit\").is_null()))"
            ]
        },
        {
            "cell_type": "code",
            "execution_count": null,
            "metadata": {},
            "outputs": [
                {
                    "data": {
                        "text/html": [
                            "<div><style>\n",
                            ".dataframe > thead > tr,\n",
                            ".dataframe > tbody > tr {\n",
                            "  text-align: right;\n",
                            "  white-space: pre-wrap;\n",
                            "}\n",
                            "</style>\n",
                            "<small>shape: (1, 11)</small><table border=\"1\" class=\"dataframe\"><thead><tr><th>vulnerability_id</th><th>repo</th><th>commit</th><th>pull_request_number</th><th>file</th><th>patch</th><th>patch_time</th><th>commit_source</th><th>file_extension</th><th>language</th><th>cwe_id</th></tr><tr><td>str</td><td>str</td><td>str</td><td>i64</td><td>str</td><td>str</td><td>datetime[μs, UTC]</td><td>str</td><td>str</td><td>str</td><td>list[str]</td></tr></thead><tbody><tr><td>&quot;2022-29198&quot;</td><td>&quot;tensorflow/tensorflow&quot;</td><td>&quot;ea50a40e84f6bff15a0912728e35b6…</td><td>null</td><td>&quot;tensorflow/core/kernels/sparse…</td><td>&quot;@@ -67,6 +67,13 @@ class Spars…</td><td>2022-05-02 23:16:54 UTC</td><td>&quot;github&quot;</td><td>&quot;cc&quot;</td><td>&quot;C/C++&quot;</td><td>[&quot;CWE-20&quot;]</td></tr></tbody></table></div>"
                        ],
                        "text/plain": [
                            "shape: (1, 11)\n",
                            "┌───────────┬───────────┬───────────┬───────────┬───┬───────────┬───────────┬──────────┬───────────┐\n",
                            "│ vulnerabi ┆ repo      ┆ commit    ┆ pull_requ ┆ … ┆ commit_so ┆ file_exte ┆ language ┆ cwe_id    │\n",
                            "│ lity_id   ┆ ---       ┆ ---       ┆ est_numbe ┆   ┆ urce      ┆ nsion     ┆ ---      ┆ ---       │\n",
                            "│ ---       ┆ str       ┆ str       ┆ r         ┆   ┆ ---       ┆ ---       ┆ str      ┆ list[str] │\n",
                            "│ str       ┆           ┆           ┆ ---       ┆   ┆ str       ┆ str       ┆          ┆           │\n",
                            "│           ┆           ┆           ┆ i64       ┆   ┆           ┆           ┆          ┆           │\n",
                            "╞═══════════╪═══════════╪═══════════╪═══════════╪═══╪═══════════╪═══════════╪══════════╪═══════════╡\n",
                            "│ 2022-2919 ┆ tensorflo ┆ ea50a40e8 ┆ null      ┆ … ┆ github    ┆ cc        ┆ C/C++    ┆ [\"CWE-20\" │\n",
                            "│ 8         ┆ w/tensorf ┆ 4f6bff15a ┆           ┆   ┆           ┆           ┆          ┆ ]         │\n",
                            "│           ┆ low       ┆ 0912728e3 ┆           ┆   ┆           ┆           ┆          ┆           │\n",
                            "│           ┆           ┆ 5b6…      ┆           ┆   ┆           ┆           ┆          ┆           │\n",
                            "└───────────┴───────────┴───────────┴───────────┴───┴───────────┴───────────┴──────────┴───────────┘"
                        ]
                    },
                    "execution_count": 7,
                    "metadata": {},
                    "output_type": "execute_result"
                }
            ],
            "source": [
                "python_vulnerability_fixes.filter(pl.col(\"vulnerability_id\") == \"2022-29198\").unique(\"language\")"
            ]
        },
        {
            "cell_type": "code",
            "execution_count": 82,
            "metadata": {},
            "outputs": [
                {
                    "name": "stdout",
                    "output_type": "stream",
                    "text": [
                        "Reading code fixes\n"
                    ]
                },
                {
                    "name": "stderr",
                    "output_type": "stream",
                    "text": [
                        "  0%|          | 0/2327 [00:00<?, ?it/s]"
                    ]
                }
            ],
            "source": [
                "if PYTHON_CODE_FIXES_DATA_PATH.exists():\n",
                "    print(\"Reading code fixes\")\n",
                "    code_unit_changes = pl.read_parquet(PYTHON_CODE_FIXES_DATA_PATH).to_dicts()\n",
                "else:\n",
                "    code_unit_changes: list[dict[str, Any]] = []\n",
                "\n",
                "repos: dict[str, Repo] = {}\n",
                "\n",
                "grouped_vulnerabilities = (\n",
                "    python_vulnerability_fixes.group_by(\n",
                "        \"repo\", \"vulnerability_id\", \"commit\", \"commit_source\", \"cwe_id\"\n",
                "    )\n",
                "    .agg(pl.col(\"patch\"), pl.col(\"file\"), pl.col(\"language\"))\n",
                "    .sample(fraction=1, shuffle=True)\n",
                ")\n",
                "errors: list[dict[str, Any]] = []\n",
                "checked_commits = set([change[\"commit\"] for change in code_unit_changes])\n",
                "\n",
                "\n",
                "vulnerabilities_to_check = grouped_vulnerabilities.to_dicts()\n",
                "\n",
                "\n",
                "for commit_data_row in tqdm(vulnerabilities_to_check):\n",
                "    if commit_data_row[\"commit\"] in checked_commits:\n",
                "        continue\n",
                "    try:\n",
                "        get_changes(commit_data_row)\n",
                "    except Exception as e:\n",
                "        logging.exception(f\"Error in {commit_data_row}\")"
            ]
        },
        {
            "cell_type": "code",
            "execution_count": null,
            "metadata": {},
            "outputs": [],
            "source": [
                "print(commit_data_row)"
            ]
        },
        {
            "cell_type": "code",
            "execution_count": 6,
            "metadata": {},
            "outputs": [],
            "source": [
                "new_code_unit_changes = []\n",
                "new_code_context_changes = []\n",
                "\n",
                "for commit_data_file in PYTHON_CODE_UNITS_DATA_PATH.rglob(\"*.json\"):\n",
                "    try:\n",
                "        with commit_data_file.open() as f:\n",
                "            new_code_unit_changes.append(json.load(f))\n",
                "    except:\n",
                "        print(commit_data_file)\n",
                "        commit_data_file.unlink()\n",
                "for commit_data_file in PYTHON_CODE_CONTEXT_DATA_PATH.rglob(\"*.json\"):\n",
                "    try:\n",
                "        with commit_data_file.open() as f:\n",
                "            new_code_context_changes.append(json.load(f))\n",
                "    except:\n",
                "        print(commit_data_file)\n",
                "        commit_data_file.unlink()\n",
                "\n",
                "pl.DataFrame(new_code_unit_changes).write_parquet(PYTHON_CODE_FIXES_DATA_PATH)\n",
                "pl.DataFrame(new_code_context_changes).write_parquet(PYTHON_CODE_FIXES_WITH_CONTEXT_DATA_PATH)"
            ]
        },
        {
            "cell_type": "markdown",
            "metadata": {},
            "source": [
                "## Data cleaning"
            ]
        },
        {
            "cell_type": "code",
            "execution_count": 9,
            "metadata": {},
            "outputs": [
                {
                    "data": {
                        "text/html": [
                            "<div><style>\n",
                            ".dataframe > thead > tr,\n",
                            ".dataframe > tbody > tr {\n",
                            "  text-align: right;\n",
                            "  white-space: pre-wrap;\n",
                            "}\n",
                            "</style>\n",
                            "<small>shape: (9, 10)</small><table border=\"1\" class=\"dataframe\"><thead><tr><th>statistic</th><th>commit</th><th>repo</th><th>new_file</th><th>patch</th><th>code_unit_after_fix</th><th>vulnerability_id</th><th>cwe_id</th><th>old_file</th><th>code_unit_before_fix</th></tr><tr><td>str</td><td>str</td><td>str</td><td>str</td><td>str</td><td>str</td><td>str</td><td>f64</td><td>str</td><td>str</td></tr></thead><tbody><tr><td>&quot;count&quot;</td><td>&quot;4401&quot;</td><td>&quot;4401&quot;</td><td>&quot;4401&quot;</td><td>&quot;4401&quot;</td><td>&quot;4401&quot;</td><td>&quot;4401&quot;</td><td>4401.0</td><td>&quot;4401&quot;</td><td>&quot;4401&quot;</td></tr><tr><td>&quot;null_count&quot;</td><td>&quot;0&quot;</td><td>&quot;0&quot;</td><td>&quot;0&quot;</td><td>&quot;0&quot;</td><td>&quot;0&quot;</td><td>&quot;0&quot;</td><td>0.0</td><td>&quot;0&quot;</td><td>&quot;0&quot;</td></tr><tr><td>&quot;mean&quot;</td><td>null</td><td>null</td><td>null</td><td>null</td><td>null</td><td>null</td><td>null</td><td>null</td><td>null</td></tr><tr><td>&quot;std&quot;</td><td>null</td><td>null</td><td>null</td><td>null</td><td>null</td><td>null</td><td>null</td><td>null</td><td>null</td></tr><tr><td>&quot;min&quot;</td><td>&quot;001b0634cd309e372edb6d7d95d083…</td><td>&quot;389ds/389-ds-base&quot;</td><td>&quot;.devcontainer/library-scripts/…</td><td>&quot;@@ -1 +1 @@\n",
                            "-__version__ = &quot;1.…</td><td>&quot;&quot;</td><td>&quot;2013-0208&quot;</td><td>null</td><td>&quot;.devcontainer/library-scripts/…</td><td>&quot;&quot;</td></tr><tr><td>&quot;25%&quot;</td><td>null</td><td>null</td><td>null</td><td>null</td><td>null</td><td>null</td><td>null</td><td>null</td><td>null</td></tr><tr><td>&quot;50%&quot;</td><td>null</td><td>null</td><td>null</td><td>null</td><td>null</td><td>null</td><td>null</td><td>null</td><td>null</td></tr><tr><td>&quot;75%&quot;</td><td>null</td><td>null</td><td>null</td><td>null</td><td>null</td><td>null</td><td>null</td><td>null</td><td>null</td></tr><tr><td>&quot;max&quot;</td><td>&quot;ffc095a3e5acc1c404773a0510e6d0…</td><td>&quot;zwczou/weixin-python&quot;</td><td>&quot;zproject/urls.py&quot;</td><td>&quot;@@ -99,7 +99,9 @@ extern &quot;C&quot; {…</td><td>&quot;} else {\n",
                            "&nbsp;&nbsp;&nbsp;&nbsp;&nbsp;&nbsp;&nbsp;&nbsp;actionsTempla…</td><td>&quot;GHSA-x563-6hqv-26mr&quot;</td><td>null</td><td>&quot;zproject/urls.py&quot;</td><td>&quot;},\n",
                            "&nbsp;&nbsp;&nbsp;&nbsp;&nbsp;&nbsp;&nbsp;&nbsp;&quot;scope&quot;: {\n",
                            "&nbsp;&nbsp;&nbsp;&nbsp;&nbsp;&nbsp;&nbsp;&nbsp;…</td></tr></tbody></table></div>"
                        ],
                        "text/plain": [
                            "shape: (9, 10)\n",
                            "┌────────────┬────────────┬───────────┬───────────┬───┬───────────┬────────┬───────────┬───────────┐\n",
                            "│ statistic  ┆ commit     ┆ repo      ┆ new_file  ┆ … ┆ vulnerabi ┆ cwe_id ┆ old_file  ┆ code_unit │\n",
                            "│ ---        ┆ ---        ┆ ---       ┆ ---       ┆   ┆ lity_id   ┆ ---    ┆ ---       ┆ _before_f │\n",
                            "│ str        ┆ str        ┆ str       ┆ str       ┆   ┆ ---       ┆ f64    ┆ str       ┆ ix        │\n",
                            "│            ┆            ┆           ┆           ┆   ┆ str       ┆        ┆           ┆ ---       │\n",
                            "│            ┆            ┆           ┆           ┆   ┆           ┆        ┆           ┆ str       │\n",
                            "╞════════════╪════════════╪═══════════╪═══════════╪═══╪═══════════╪════════╪═══════════╪═══════════╡\n",
                            "│ count      ┆ 4401       ┆ 4401      ┆ 4401      ┆ … ┆ 4401      ┆ 4401.0 ┆ 4401      ┆ 4401      │\n",
                            "│ null_count ┆ 0          ┆ 0         ┆ 0         ┆ … ┆ 0         ┆ 0.0    ┆ 0         ┆ 0         │\n",
                            "│ mean       ┆ null       ┆ null      ┆ null      ┆ … ┆ null      ┆ null   ┆ null      ┆ null      │\n",
                            "│ std        ┆ null       ┆ null      ┆ null      ┆ … ┆ null      ┆ null   ┆ null      ┆ null      │\n",
                            "│ min        ┆ 001b0634cd ┆ 389ds/389 ┆ .devconta ┆ … ┆ 2013-0208 ┆ null   ┆ .devconta ┆           │\n",
                            "│            ┆ 309e372edb ┆ -ds-base  ┆ iner/libr ┆   ┆           ┆        ┆ iner/libr ┆           │\n",
                            "│            ┆ 6d7d95d083 ┆           ┆ ary-scrip ┆   ┆           ┆        ┆ ary-scrip ┆           │\n",
                            "│            ┆ …          ┆           ┆ ts/…      ┆   ┆           ┆        ┆ ts/…      ┆           │\n",
                            "│ 25%        ┆ null       ┆ null      ┆ null      ┆ … ┆ null      ┆ null   ┆ null      ┆ null      │\n",
                            "│ 50%        ┆ null       ┆ null      ┆ null      ┆ … ┆ null      ┆ null   ┆ null      ┆ null      │\n",
                            "│ 75%        ┆ null       ┆ null      ┆ null      ┆ … ┆ null      ┆ null   ┆ null      ┆ null      │\n",
                            "│ max        ┆ ffc095a3e5 ┆ zwczou/we ┆ zproject/ ┆ … ┆ GHSA-x563 ┆ null   ┆ zproject/ ┆ },        │\n",
                            "│            ┆ acc1c40477 ┆ ixin-pyth ┆ urls.py   ┆   ┆ -6hqv-26m ┆        ┆ urls.py   ┆ \"scope\":  │\n",
                            "│            ┆ 3a0510e6d0 ┆ on        ┆           ┆   ┆ r         ┆        ┆           ┆ {         │\n",
                            "│            ┆ …          ┆           ┆           ┆   ┆           ┆        ┆           ┆         … │\n",
                            "└────────────┴────────────┴───────────┴───────────┴───┴───────────┴────────┴───────────┴───────────┘"
                        ]
                    },
                    "execution_count": 9,
                    "metadata": {},
                    "output_type": "execute_result"
                }
            ],
            "source": [
                "code_unit_changes_df = pl.read_parquet(PYTHON_CODE_FIXES_DATA_PATH)\n",
                "code_unit_changes_df = code_unit_changes_df.filter(\n",
                "    # pl.col(\"vulnerability_id\").is_in(excluded_vulns).not_(),\n",
                "    pl.col(\"new_file\") != \"setup.py\",\n",
                "    pl.col(\"old_file\") != \"setup.py\",\n",
                ").with_columns(\n",
                "    pl.col(\"code_unit_after_fix\").str.replace_all(r\"\\n\\s*\\n\", \"\\n\").str.strip_chars(),\n",
                "    pl.col(\"code_unit_before_fix\").str.replace_all(r\"\\n\\s*\\n\", \"\\n\").str.strip_chars(),\n",
                ")\n",
                "code_unit_changes_df.describe()"
            ]
        },
        {
            "cell_type": "code",
            "execution_count": 10,
            "metadata": {},
            "outputs": [
                {
                    "data": {
                        "text/html": [
                            "<div><style>\n",
                            ".dataframe > thead > tr,\n",
                            ".dataframe > tbody > tr {\n",
                            "  text-align: right;\n",
                            "  white-space: pre-wrap;\n",
                            "}\n",
                            "</style>\n",
                            "<small>shape: (9, 10)</small><table border=\"1\" class=\"dataframe\"><thead><tr><th>statistic</th><th>commit</th><th>repo</th><th>new_file</th><th>patch</th><th>code_unit_after_fix</th><th>vulnerability_id</th><th>cwe_id</th><th>old_file</th><th>code_unit_before_fix</th></tr><tr><td>str</td><td>str</td><td>str</td><td>str</td><td>str</td><td>str</td><td>str</td><td>f64</td><td>str</td><td>str</td></tr></thead><tbody><tr><td>&quot;count&quot;</td><td>&quot;4378&quot;</td><td>&quot;4378&quot;</td><td>&quot;4378&quot;</td><td>&quot;4378&quot;</td><td>&quot;4378&quot;</td><td>&quot;4378&quot;</td><td>4378.0</td><td>&quot;4378&quot;</td><td>&quot;4378&quot;</td></tr><tr><td>&quot;null_count&quot;</td><td>&quot;0&quot;</td><td>&quot;0&quot;</td><td>&quot;0&quot;</td><td>&quot;0&quot;</td><td>&quot;0&quot;</td><td>&quot;0&quot;</td><td>0.0</td><td>&quot;0&quot;</td><td>&quot;0&quot;</td></tr><tr><td>&quot;mean&quot;</td><td>null</td><td>null</td><td>null</td><td>null</td><td>null</td><td>null</td><td>null</td><td>null</td><td>null</td></tr><tr><td>&quot;std&quot;</td><td>null</td><td>null</td><td>null</td><td>null</td><td>null</td><td>null</td><td>null</td><td>null</td><td>null</td></tr><tr><td>&quot;min&quot;</td><td>&quot;001b0634cd309e372edb6d7d95d083…</td><td>&quot;389ds/389-ds-base&quot;</td><td>&quot;.devcontainer/library-scripts/…</td><td>&quot;@@ -1 +1 @@\n",
                            "-__version__ = &quot;1.…</td><td>&quot;&quot;</td><td>&quot;2013-0208&quot;</td><td>null</td><td>&quot;.devcontainer/library-scripts/…</td><td>&quot;&quot;</td></tr><tr><td>&quot;25%&quot;</td><td>null</td><td>null</td><td>null</td><td>null</td><td>null</td><td>null</td><td>null</td><td>null</td><td>null</td></tr><tr><td>&quot;50%&quot;</td><td>null</td><td>null</td><td>null</td><td>null</td><td>null</td><td>null</td><td>null</td><td>null</td><td>null</td></tr><tr><td>&quot;75%&quot;</td><td>null</td><td>null</td><td>null</td><td>null</td><td>null</td><td>null</td><td>null</td><td>null</td><td>null</td></tr><tr><td>&quot;max&quot;</td><td>&quot;ffc095a3e5acc1c404773a0510e6d0…</td><td>&quot;zwczou/weixin-python&quot;</td><td>&quot;zproject/urls.py&quot;</td><td>&quot;@@ -99,7 +99,9 @@ extern &quot;C&quot; {…</td><td>&quot;} else {\n",
                            "&nbsp;&nbsp;&nbsp;&nbsp;&nbsp;&nbsp;&nbsp;&nbsp;actionsTempla…</td><td>&quot;GHSA-x563-6hqv-26mr&quot;</td><td>null</td><td>&quot;zproject/urls.py&quot;</td><td>&quot;},\n",
                            "&nbsp;&nbsp;&nbsp;&nbsp;&nbsp;&nbsp;&nbsp;&nbsp;&quot;scope&quot;: {\n",
                            "&nbsp;&nbsp;&nbsp;&nbsp;&nbsp;&nbsp;&nbsp;&nbsp;…</td></tr></tbody></table></div>"
                        ],
                        "text/plain": [
                            "shape: (9, 10)\n",
                            "┌────────────┬────────────┬───────────┬───────────┬───┬───────────┬────────┬───────────┬───────────┐\n",
                            "│ statistic  ┆ commit     ┆ repo      ┆ new_file  ┆ … ┆ vulnerabi ┆ cwe_id ┆ old_file  ┆ code_unit │\n",
                            "│ ---        ┆ ---        ┆ ---       ┆ ---       ┆   ┆ lity_id   ┆ ---    ┆ ---       ┆ _before_f │\n",
                            "│ str        ┆ str        ┆ str       ┆ str       ┆   ┆ ---       ┆ f64    ┆ str       ┆ ix        │\n",
                            "│            ┆            ┆           ┆           ┆   ┆ str       ┆        ┆           ┆ ---       │\n",
                            "│            ┆            ┆           ┆           ┆   ┆           ┆        ┆           ┆ str       │\n",
                            "╞════════════╪════════════╪═══════════╪═══════════╪═══╪═══════════╪════════╪═══════════╪═══════════╡\n",
                            "│ count      ┆ 4378       ┆ 4378      ┆ 4378      ┆ … ┆ 4378      ┆ 4378.0 ┆ 4378      ┆ 4378      │\n",
                            "│ null_count ┆ 0          ┆ 0         ┆ 0         ┆ … ┆ 0         ┆ 0.0    ┆ 0         ┆ 0         │\n",
                            "│ mean       ┆ null       ┆ null      ┆ null      ┆ … ┆ null      ┆ null   ┆ null      ┆ null      │\n",
                            "│ std        ┆ null       ┆ null      ┆ null      ┆ … ┆ null      ┆ null   ┆ null      ┆ null      │\n",
                            "│ min        ┆ 001b0634cd ┆ 389ds/389 ┆ .devconta ┆ … ┆ 2013-0208 ┆ null   ┆ .devconta ┆           │\n",
                            "│            ┆ 309e372edb ┆ -ds-base  ┆ iner/libr ┆   ┆           ┆        ┆ iner/libr ┆           │\n",
                            "│            ┆ 6d7d95d083 ┆           ┆ ary-scrip ┆   ┆           ┆        ┆ ary-scrip ┆           │\n",
                            "│            ┆ …          ┆           ┆ ts/…      ┆   ┆           ┆        ┆ ts/…      ┆           │\n",
                            "│ 25%        ┆ null       ┆ null      ┆ null      ┆ … ┆ null      ┆ null   ┆ null      ┆ null      │\n",
                            "│ 50%        ┆ null       ┆ null      ┆ null      ┆ … ┆ null      ┆ null   ┆ null      ┆ null      │\n",
                            "│ 75%        ┆ null       ┆ null      ┆ null      ┆ … ┆ null      ┆ null   ┆ null      ┆ null      │\n",
                            "│ max        ┆ ffc095a3e5 ┆ zwczou/we ┆ zproject/ ┆ … ┆ GHSA-x563 ┆ null   ┆ zproject/ ┆ },        │\n",
                            "│            ┆ acc1c40477 ┆ ixin-pyth ┆ urls.py   ┆   ┆ -6hqv-26m ┆        ┆ urls.py   ┆ \"scope\":  │\n",
                            "│            ┆ 3a0510e6d0 ┆ on        ┆           ┆   ┆ r         ┆        ┆           ┆ {         │\n",
                            "│            ┆ …          ┆           ┆           ┆   ┆           ┆        ┆           ┆         … │\n",
                            "└────────────┴────────────┴───────────┴───────────┴───┴───────────┴────────┴───────────┴───────────┘"
                        ]
                    },
                    "execution_count": 10,
                    "metadata": {},
                    "output_type": "execute_result"
                }
            ],
            "source": [
                "code_unit_changes_df = code_unit_changes_df.filter(\n",
                "    ((pl.col(\"code_unit_after_fix\").str.strip_chars() == \"\") & (pl.col(\"code_unit_before_fix\").str.strip_chars() == \"\")).not_(), \n",
                ")\n",
                "code_unit_changes_df.describe()"
            ]
        },
        {
            "cell_type": "markdown",
            "metadata": {},
            "source": [
                "#### Filter too long samples"
            ]
        },
        {
            "cell_type": "code",
            "execution_count": 49,
            "metadata": {},
            "outputs": [
                {
                    "data": {
                        "text/html": [
                            "<div><style>\n",
                            ".dataframe > thead > tr,\n",
                            ".dataframe > tbody > tr {\n",
                            "  text-align: right;\n",
                            "  white-space: pre-wrap;\n",
                            "}\n",
                            "</style>\n",
                            "<small>shape: (9, 10)</small><table border=\"1\" class=\"dataframe\"><thead><tr><th>statistic</th><th>commit</th><th>repo</th><th>new_file</th><th>patch</th><th>code_unit_after_fix</th><th>vulnerability_id</th><th>cwe_id</th><th>old_file</th><th>code_unit_before_fix</th></tr><tr><td>str</td><td>str</td><td>str</td><td>str</td><td>str</td><td>str</td><td>str</td><td>f64</td><td>str</td><td>str</td></tr></thead><tbody><tr><td>&quot;count&quot;</td><td>&quot;4142&quot;</td><td>&quot;4142&quot;</td><td>&quot;4142&quot;</td><td>&quot;4142&quot;</td><td>&quot;4142&quot;</td><td>&quot;4142&quot;</td><td>4142.0</td><td>&quot;4142&quot;</td><td>&quot;4142&quot;</td></tr><tr><td>&quot;null_count&quot;</td><td>&quot;0&quot;</td><td>&quot;0&quot;</td><td>&quot;0&quot;</td><td>&quot;0&quot;</td><td>&quot;0&quot;</td><td>&quot;0&quot;</td><td>0.0</td><td>&quot;0&quot;</td><td>&quot;0&quot;</td></tr><tr><td>&quot;mean&quot;</td><td>null</td><td>null</td><td>null</td><td>null</td><td>null</td><td>null</td><td>null</td><td>null</td><td>null</td></tr><tr><td>&quot;std&quot;</td><td>null</td><td>null</td><td>null</td><td>null</td><td>null</td><td>null</td><td>null</td><td>null</td><td>null</td></tr><tr><td>&quot;min&quot;</td><td>&quot;001b0634cd309e372edb6d7d95d083…</td><td>&quot;389ds/389-ds-base&quot;</td><td>&quot;.devcontainer/library-scripts/…</td><td>&quot;@@ -1 +1 @@\n",
                            "-__version__ = &quot;1.…</td><td>&quot;&quot;</td><td>&quot;2013-0208&quot;</td><td>null</td><td>&quot;.devcontainer/library-scripts/…</td><td>&quot;&quot;</td></tr><tr><td>&quot;25%&quot;</td><td>null</td><td>null</td><td>null</td><td>null</td><td>null</td><td>null</td><td>null</td><td>null</td><td>null</td></tr><tr><td>&quot;50%&quot;</td><td>null</td><td>null</td><td>null</td><td>null</td><td>null</td><td>null</td><td>null</td><td>null</td><td>null</td></tr><tr><td>&quot;75%&quot;</td><td>null</td><td>null</td><td>null</td><td>null</td><td>null</td><td>null</td><td>null</td><td>null</td><td>null</td></tr><tr><td>&quot;max&quot;</td><td>&quot;ffc095a3e5acc1c404773a0510e6d0…</td><td>&quot;zwczou/weixin-python&quot;</td><td>&quot;zproject/urls.py&quot;</td><td>&quot;@@ -99,7 +99,9 @@ extern &quot;C&quot; {…</td><td>&quot;} else {\n",
                            "&nbsp;&nbsp;&nbsp;&nbsp;&nbsp;&nbsp;&nbsp;&nbsp;actionsTempla…</td><td>&quot;GHSA-x563-6hqv-26mr&quot;</td><td>null</td><td>&quot;zproject/urls.py&quot;</td><td>&quot;},\n",
                            "&nbsp;&nbsp;&nbsp;&nbsp;&nbsp;&nbsp;&nbsp;&nbsp;&quot;scope&quot;: {\n",
                            "&nbsp;&nbsp;&nbsp;&nbsp;&nbsp;&nbsp;&nbsp;&nbsp;…</td></tr></tbody></table></div>"
                        ],
                        "text/plain": [
                            "shape: (9, 10)\n",
                            "┌────────────┬────────────┬───────────┬───────────┬───┬───────────┬────────┬───────────┬───────────┐\n",
                            "│ statistic  ┆ commit     ┆ repo      ┆ new_file  ┆ … ┆ vulnerabi ┆ cwe_id ┆ old_file  ┆ code_unit │\n",
                            "│ ---        ┆ ---        ┆ ---       ┆ ---       ┆   ┆ lity_id   ┆ ---    ┆ ---       ┆ _before_f │\n",
                            "│ str        ┆ str        ┆ str       ┆ str       ┆   ┆ ---       ┆ f64    ┆ str       ┆ ix        │\n",
                            "│            ┆            ┆           ┆           ┆   ┆ str       ┆        ┆           ┆ ---       │\n",
                            "│            ┆            ┆           ┆           ┆   ┆           ┆        ┆           ┆ str       │\n",
                            "╞════════════╪════════════╪═══════════╪═══════════╪═══╪═══════════╪════════╪═══════════╪═══════════╡\n",
                            "│ count      ┆ 4142       ┆ 4142      ┆ 4142      ┆ … ┆ 4142      ┆ 4142.0 ┆ 4142      ┆ 4142      │\n",
                            "│ null_count ┆ 0          ┆ 0         ┆ 0         ┆ … ┆ 0         ┆ 0.0    ┆ 0         ┆ 0         │\n",
                            "│ mean       ┆ null       ┆ null      ┆ null      ┆ … ┆ null      ┆ null   ┆ null      ┆ null      │\n",
                            "│ std        ┆ null       ┆ null      ┆ null      ┆ … ┆ null      ┆ null   ┆ null      ┆ null      │\n",
                            "│ min        ┆ 001b0634cd ┆ 389ds/389 ┆ .devconta ┆ … ┆ 2013-0208 ┆ null   ┆ .devconta ┆           │\n",
                            "│            ┆ 309e372edb ┆ -ds-base  ┆ iner/libr ┆   ┆           ┆        ┆ iner/libr ┆           │\n",
                            "│            ┆ 6d7d95d083 ┆           ┆ ary-scrip ┆   ┆           ┆        ┆ ary-scrip ┆           │\n",
                            "│            ┆ …          ┆           ┆ ts/…      ┆   ┆           ┆        ┆ ts/…      ┆           │\n",
                            "│ 25%        ┆ null       ┆ null      ┆ null      ┆ … ┆ null      ┆ null   ┆ null      ┆ null      │\n",
                            "│ 50%        ┆ null       ┆ null      ┆ null      ┆ … ┆ null      ┆ null   ┆ null      ┆ null      │\n",
                            "│ 75%        ┆ null       ┆ null      ┆ null      ┆ … ┆ null      ┆ null   ┆ null      ┆ null      │\n",
                            "│ max        ┆ ffc095a3e5 ┆ zwczou/we ┆ zproject/ ┆ … ┆ GHSA-x563 ┆ null   ┆ zproject/ ┆ },        │\n",
                            "│            ┆ acc1c40477 ┆ ixin-pyth ┆ urls.py   ┆   ┆ -6hqv-26m ┆        ┆ urls.py   ┆ \"scope\":  │\n",
                            "│            ┆ 3a0510e6d0 ┆ on        ┆           ┆   ┆ r         ┆        ┆           ┆ {         │\n",
                            "│            ┆ …          ┆           ┆           ┆   ┆           ┆        ┆           ┆         … │\n",
                            "└────────────┴────────────┴───────────┴───────────┴───┴───────────┴────────┴───────────┴───────────┘"
                        ]
                    },
                    "execution_count": 49,
                    "metadata": {},
                    "output_type": "execute_result"
                }
            ],
            "source": [
                "SAMPLE_MAX_LEN = 128000\n",
                "filtered_vulnerabilities = code_unit_changes_df.select(\n",
                "    \"vulnerability_id\", \n",
                "    pl.col(\"code_unit_after_fix\").str.len_chars().alias(\"code_unit_after_fix_len\"),\n",
                "    pl.col(\"code_unit_before_fix\").str.len_chars().alias(\"code_unit_before_fix_len\"),\n",
                ").group_by(\n",
                "    \"vulnerability_id\"\n",
                ").agg(pl.col(\"code_unit_after_fix_len\").sum(), pl.col(\"code_unit_before_fix_len\").sum()).with_columns(\n",
                "    total_len=pl.col(\"code_unit_after_fix_len\") + pl.col(\"code_unit_before_fix_len\")\n",
                ").filter(pl.col(\"total_len\") < 128000).select(\"vulnerability_id\").unique(\"vulnerability_id\")\n",
                "\n",
                "code_unit_changes_df = code_unit_changes_df.join(filtered_vulnerabilities, on=\"vulnerability_id\")\n",
                "code_unit_changes_df.describe()"
            ]
        },
        {
            "cell_type": "code",
            "execution_count": 50,
            "metadata": {},
            "outputs": [
                {
                    "data": {
                        "text/plain": [
                            "['2018-10861',\n",
                            " '2021-28359',\n",
                            " '2021-41104',\n",
                            " '2021-41206',\n",
                            " '2022-25882',\n",
                            " '2022-35941',\n",
                            " '2022-41891',\n",
                            " '2022-4526',\n",
                            " '2023-46249',\n",
                            " '2023-52266',\n",
                            " '2023-6507',\n",
                            " '2023-7152',\n",
                            " '2024-10965',\n",
                            " '2024-21485',\n",
                            " '2024-49377',\n",
                            " '2024-8948']"
                        ]
                    },
                    "execution_count": 50,
                    "metadata": {},
                    "output_type": "execute_result"
                }
            ],
            "source": [
                "sorted(code_unit_changes_df.with_columns(\n",
                "    pl.col(\"new_file\").str.split(\".\").list.last().alias(\"lang\")\n",
                ").group_by(\"vulnerability_id\").agg(\"lang\").with_columns(pl.col(\"lang\").list.unique()).unique(\"lang\").filter(pl.col(\"lang\").list.contains(\"py\").not_()).select(\"vulnerability_id\").to_series().to_list())"
            ]
        },
        {
            "cell_type": "markdown",
            "metadata": {},
            "source": [
                "### Duplicate code detection"
            ]
        },
        {
            "cell_type": "code",
            "execution_count": 51,
            "metadata": {},
            "outputs": [
                {
                    "name": "stdout",
                    "output_type": "stream",
                    "text": [
                        "557\n"
                    ]
                }
            ],
            "source": [
                "concated_code_units = pl.concat(\n",
                "    [code_unit_changes_df.filter(pl.col(\"code_unit_after_fix\").str.strip_chars() != \"\").select(\n",
                "        pl.col(\"code_unit_after_fix\").alias(\"code_unit\"), pl.col(\"commit\"), pl.col(\"repo\")\n",
                "    ),\n",
                "    code_unit_changes_df.filter(pl.col(\"code_unit_before_fix\").str.strip_chars() != \"\").select(\n",
                "        pl.col(\"code_unit_before_fix\").alias(\"code_unit\"), pl.col(\"commit\"), pl.col(\"repo\")\n",
                "    )]\n",
                ")\n",
                "\n",
                "print(concated_code_units.group_by(\"code_unit\").agg(\"commit\", \"repo\").filter(pl.col(\"commit\").list.len() > 1).shape[0])\n"
            ]
        },
        {
            "cell_type": "markdown",
            "metadata": {},
            "source": [
                "#### Filter duplicates in vulnerability"
            ]
        },
        {
            "cell_type": "code",
            "execution_count": 52,
            "metadata": {},
            "outputs": [
                {
                    "name": "stdout",
                    "output_type": "stream",
                    "text": [
                        "shape: (9, 10)\n",
                        "┌────────────┬────────────┬───────────┬───────────┬───┬───────────┬────────┬───────────┬───────────┐\n",
                        "│ statistic  ┆ commit     ┆ repo      ┆ new_file  ┆ … ┆ vulnerabi ┆ cwe_id ┆ old_file  ┆ code_unit │\n",
                        "│ ---        ┆ ---        ┆ ---       ┆ ---       ┆   ┆ lity_id   ┆ ---    ┆ ---       ┆ _before_f │\n",
                        "│ str        ┆ str        ┆ str       ┆ str       ┆   ┆ ---       ┆ f64    ┆ str       ┆ ix        │\n",
                        "│            ┆            ┆           ┆           ┆   ┆ str       ┆        ┆           ┆ ---       │\n",
                        "│            ┆            ┆           ┆           ┆   ┆           ┆        ┆           ┆ str       │\n",
                        "╞════════════╪════════════╪═══════════╪═══════════╪═══╪═══════════╪════════╪═══════════╪═══════════╡\n",
                        "│ count      ┆ 3545       ┆ 3545      ┆ 3545      ┆ … ┆ 3545      ┆ 3545.0 ┆ 3545      ┆ 3545      │\n",
                        "│ null_count ┆ 0          ┆ 0         ┆ 0         ┆ … ┆ 0         ┆ 0.0    ┆ 0         ┆ 0         │\n",
                        "│ mean       ┆ null       ┆ null      ┆ null      ┆ … ┆ null      ┆ null   ┆ null      ┆ null      │\n",
                        "│ std        ┆ null       ┆ null      ┆ null      ┆ … ┆ null      ┆ null   ┆ null      ┆ null      │\n",
                        "│ min        ┆ 001b0634cd ┆ 389ds/389 ┆ .devconta ┆ … ┆ 2013-0208 ┆ null   ┆ .devconta ┆           │\n",
                        "│            ┆ 309e372edb ┆ -ds-base  ┆ iner/libr ┆   ┆           ┆        ┆ iner/libr ┆           │\n",
                        "│            ┆ 6d7d95d083 ┆           ┆ ary-scrip ┆   ┆           ┆        ┆ ary-scrip ┆           │\n",
                        "│            ┆ …          ┆           ┆ ts/…      ┆   ┆           ┆        ┆ ts/…      ┆           │\n",
                        "│ 25%        ┆ null       ┆ null      ┆ null      ┆ … ┆ null      ┆ null   ┆ null      ┆ null      │\n",
                        "│ 50%        ┆ null       ┆ null      ┆ null      ┆ … ┆ null      ┆ null   ┆ null      ┆ null      │\n",
                        "│ 75%        ┆ null       ┆ null      ┆ null      ┆ … ┆ null      ┆ null   ┆ null      ┆ null      │\n",
                        "│ max        ┆ ffc095a3e5 ┆ zwczou/we ┆ zproject/ ┆ … ┆ GHSA-x563 ┆ null   ┆ zproject/ ┆ },        │\n",
                        "│            ┆ acc1c40477 ┆ ixin-pyth ┆ urls.py   ┆   ┆ -6hqv-26m ┆        ┆ urls.py   ┆ \"scope\":  │\n",
                        "│            ┆ 3a0510e6d0 ┆ on        ┆           ┆   ┆ r         ┆        ┆           ┆ {         │\n",
                        "│            ┆ …          ┆           ┆           ┆   ┆           ┆        ┆           ┆         … │\n",
                        "└────────────┴────────────┴───────────┴───────────┴───┴───────────┴────────┴───────────┴───────────┘\n"
                    ]
                }
            ],
            "source": [
                "without_duplicates = code_unit_changes_df.unique([\"vulnerability_id\", \"code_unit_before_fix\", \"code_unit_after_fix\"])\n",
                "without_duplicates = without_duplicates.filter(\n",
                "    pl.col(\"code_unit_after_fix\").str.strip_chars() != pl.col(\"code_unit_before_fix\").str.strip_chars()\n",
                ")\n",
                "print(without_duplicates.describe())"
            ]
        },
        {
            "cell_type": "markdown",
            "metadata": {},
            "source": [
                "#### Consistency checks"
            ]
        },
        {
            "cell_type": "code",
            "execution_count": 53,
            "metadata": {},
            "outputs": [
                {
                    "data": {
                        "text/html": [
                            "<div><style>\n",
                            ".dataframe > thead > tr,\n",
                            ".dataframe > tbody > tr {\n",
                            "  text-align: right;\n",
                            "  white-space: pre-wrap;\n",
                            "}\n",
                            "</style>\n",
                            "<small>shape: (40, 4)</small><table border=\"1\" class=\"dataframe\"><thead><tr><th>vulnerability_id</th><th>code_unit_before_fix</th><th>vulnerability_id_right</th><th>code_unit_after_fix</th></tr><tr><td>str</td><td>str</td><td>str</td><td>str</td></tr></thead><tbody><tr><td>&quot;2019-14859&quot;</td><td>&quot;def read_length(string):\n",
                            "&nbsp;&nbsp;&nbsp;&nbsp;i…</td><td>&quot;2019-14859&quot;</td><td>&quot;def read_length(string):\n",
                            "&nbsp;&nbsp;&nbsp;&nbsp;i…</td></tr><tr><td>&quot;2016-6903&quot;</td><td>&quot;def check_secure(line, conf, s…</td><td>&quot;2016-6903&quot;</td><td>&quot;def check_secure(line, conf, s…</td></tr><tr><td>&quot;2013-2161&quot;</td><td>&quot;def account_listing_response(\n",
                            "…</td><td>&quot;2013-2161&quot;</td><td>&quot;def account_listing_response(\n",
                            "…</td></tr><tr><td>&quot;2022-3362&quot;</td><td>&quot;class RdiffwebApp(Application)…</td><td>&quot;2022-4018&quot;</td><td>&quot;class RdiffwebApp(Application)…</td></tr><tr><td>&quot;GHSA-cg34-w3fm-82h3&quot;</td><td>&quot;def _build_redirect_request(so…</td><td>&quot;GHSA-4q82-j5c2-g2c5&quot;</td><td>&quot;def _build_redirect_request(so…</td></tr><tr><td>&hellip;</td><td>&hellip;</td><td>&hellip;</td><td>&hellip;</td></tr><tr><td>&quot;2024-32498&quot;</td><td>&quot;class _ConvertImage(task.Task)…</td><td>&quot;2024-32498&quot;</td><td>&quot;class _ConvertImage(task.Task)…</td></tr><tr><td>&quot;2024-32882&quot;</td><td>&quot;from wagtail.admin.forms.model…</td><td>&quot;2024-32882&quot;</td><td>&quot;from wagtail.admin.forms.model…</td></tr><tr><td>&quot;2022-3326&quot;</td><td>&quot;class UserObject(object):\n",
                            "&nbsp;&nbsp;&nbsp;&nbsp;…</td><td>&quot;2022-3179&quot;</td><td>&quot;class UserObject(object):\n",
                            "&nbsp;&nbsp;&nbsp;&nbsp;…</td></tr><tr><td>&quot;2024-3573&quot;</td><td>&quot;MLFLOW_ALLOW_FILE_URI_AS_MODEL…</td><td>&quot;2023-2780&quot;</td><td>&quot;MLFLOW_ALLOW_FILE_URI_AS_MODEL…</td></tr><tr><td>&quot;2024-37891&quot;</td><td>&quot;class Retry:\n",
                            "&nbsp;&nbsp;&nbsp;&nbsp;DEFAULT_REMOV…</td><td>&quot;2023-43804&quot;</td><td>&quot;class Retry:\n",
                            "&nbsp;&nbsp;&nbsp;&nbsp;DEFAULT_REMOV…</td></tr></tbody></table></div>"
                        ],
                        "text/plain": [
                            "shape: (40, 4)\n",
                            "┌─────────────────────┬─────────────────────────┬────────────────────────┬─────────────────────────┐\n",
                            "│ vulnerability_id    ┆ code_unit_before_fix    ┆ vulnerability_id_right ┆ code_unit_after_fix     │\n",
                            "│ ---                 ┆ ---                     ┆ ---                    ┆ ---                     │\n",
                            "│ str                 ┆ str                     ┆ str                    ┆ str                     │\n",
                            "╞═════════════════════╪═════════════════════════╪════════════════════════╪═════════════════════════╡\n",
                            "│ 2019-14859          ┆ def                     ┆ 2019-14859             ┆ def                     │\n",
                            "│                     ┆ read_length(string):    ┆                        ┆ read_length(string):    │\n",
                            "│                     ┆     i…                  ┆                        ┆     i…                  │\n",
                            "│ 2016-6903           ┆ def check_secure(line,  ┆ 2016-6903              ┆ def check_secure(line,  │\n",
                            "│                     ┆ conf, s…                ┆                        ┆ conf, s…                │\n",
                            "│ 2013-2161           ┆ def account_listing_res ┆ 2013-2161              ┆ def account_listing_res │\n",
                            "│                     ┆ ponse(                  ┆                        ┆ ponse(                  │\n",
                            "│                     ┆ …                       ┆                        ┆ …                       │\n",
                            "│ 2022-3362           ┆ class RdiffwebApp(Appli ┆ 2022-4018              ┆ class RdiffwebApp(Appli │\n",
                            "│                     ┆ cation)…                ┆                        ┆ cation)…                │\n",
                            "│ GHSA-cg34-w3fm-82h3 ┆ def _build_redirect_req ┆ GHSA-4q82-j5c2-g2c5    ┆ def _build_redirect_req │\n",
                            "│                     ┆ uest(so…                ┆                        ┆ uest(so…                │\n",
                            "│ …                   ┆ …                       ┆ …                      ┆ …                       │\n",
                            "│ 2024-32498          ┆ class _ConvertImage(tas ┆ 2024-32498             ┆ class _ConvertImage(tas │\n",
                            "│                     ┆ k.Task)…                ┆                        ┆ k.Task)…                │\n",
                            "│ 2024-32882          ┆ from wagtail.admin.form ┆ 2024-32882             ┆ from wagtail.admin.form │\n",
                            "│                     ┆ s.model…                ┆                        ┆ s.model…                │\n",
                            "│ 2022-3326           ┆ class                   ┆ 2022-3179              ┆ class                   │\n",
                            "│                     ┆ UserObject(object):     ┆                        ┆ UserObject(object):     │\n",
                            "│                     ┆     …                   ┆                        ┆     …                   │\n",
                            "│ 2024-3573           ┆ MLFLOW_ALLOW_FILE_URI_A ┆ 2023-2780              ┆ MLFLOW_ALLOW_FILE_URI_A │\n",
                            "│                     ┆ S_MODEL…                ┆                        ┆ S_MODEL…                │\n",
                            "│ 2024-37891          ┆ class Retry:            ┆ 2023-43804             ┆ class Retry:            │\n",
                            "│                     ┆     DEFAULT_REMOV…      ┆                        ┆     DEFAULT_REMOV…      │\n",
                            "└─────────────────────┴─────────────────────────┴────────────────────────┴─────────────────────────┘"
                        ]
                    },
                    "execution_count": 53,
                    "metadata": {},
                    "output_type": "execute_result"
                }
            ],
            "source": [
                "## Looking for code units that are the same before and after the fix\n",
                "\n",
                "inconsistent_code_units = without_duplicates.select(\"vulnerability_id\", \"code_unit_before_fix\").filter(\n",
                "    pl.col(\"code_unit_before_fix\").str.strip_chars() != \"\"\n",
                ").join(\n",
                "    without_duplicates.select(\"vulnerability_id\", \"code_unit_after_fix\").filter(\n",
                "        pl.col(\"code_unit_after_fix\").str.strip_chars() != \"\"\n",
                "    ), \n",
                "    how=\"cross\"\n",
                ").filter(pl.col(\"code_unit_before_fix\") == pl.col(\"code_unit_after_fix\"))\n",
                "\n",
                "inconsistent_code_units"
            ]
        },
        {
            "cell_type": "markdown",
            "metadata": {},
            "source": [
                "#### Fix and check consistency\n",
                "\n",
                "Usually, there are a few vulnerabilities in code unit. Some of them was fixed later.\n",
                "There aren't so much bad cases, so we can just drop inconsistent rows\n",
                "\n",
                "Code examples on right have hidden vulnerability. We can exclude such vulnerabilities from dataset"
            ]
        },
        {
            "cell_type": "code",
            "execution_count": 54,
            "metadata": {},
            "outputs": [
                {
                    "data": {
                        "text/html": [
                            "<div><style>\n",
                            ".dataframe > thead > tr,\n",
                            ".dataframe > tbody > tr {\n",
                            "  text-align: right;\n",
                            "  white-space: pre-wrap;\n",
                            "}\n",
                            "</style>\n",
                            "<small>shape: (9, 10)</small><table border=\"1\" class=\"dataframe\"><thead><tr><th>statistic</th><th>commit</th><th>repo</th><th>new_file</th><th>patch</th><th>code_unit_after_fix</th><th>vulnerability_id</th><th>cwe_id</th><th>old_file</th><th>code_unit_before_fix</th></tr><tr><td>str</td><td>str</td><td>str</td><td>str</td><td>str</td><td>str</td><td>str</td><td>f64</td><td>str</td><td>str</td></tr></thead><tbody><tr><td>&quot;count&quot;</td><td>&quot;3410&quot;</td><td>&quot;3410&quot;</td><td>&quot;3410&quot;</td><td>&quot;3410&quot;</td><td>&quot;3410&quot;</td><td>&quot;3410&quot;</td><td>3410.0</td><td>&quot;3410&quot;</td><td>&quot;3410&quot;</td></tr><tr><td>&quot;null_count&quot;</td><td>&quot;0&quot;</td><td>&quot;0&quot;</td><td>&quot;0&quot;</td><td>&quot;0&quot;</td><td>&quot;0&quot;</td><td>&quot;0&quot;</td><td>0.0</td><td>&quot;0&quot;</td><td>&quot;0&quot;</td></tr><tr><td>&quot;mean&quot;</td><td>null</td><td>null</td><td>null</td><td>null</td><td>null</td><td>null</td><td>null</td><td>null</td><td>null</td></tr><tr><td>&quot;std&quot;</td><td>null</td><td>null</td><td>null</td><td>null</td><td>null</td><td>null</td><td>null</td><td>null</td><td>null</td></tr><tr><td>&quot;min&quot;</td><td>&quot;001b0634cd309e372edb6d7d95d083…</td><td>&quot;389ds/389-ds-base&quot;</td><td>&quot;.devcontainer/library-scripts/…</td><td>&quot;@@ -1 +1 @@\n",
                            "-__version__ = &quot;1.…</td><td>&quot;&quot;</td><td>&quot;2013-0208&quot;</td><td>null</td><td>&quot;.devcontainer/library-scripts/…</td><td>&quot;&quot;</td></tr><tr><td>&quot;25%&quot;</td><td>null</td><td>null</td><td>null</td><td>null</td><td>null</td><td>null</td><td>null</td><td>null</td><td>null</td></tr><tr><td>&quot;50%&quot;</td><td>null</td><td>null</td><td>null</td><td>null</td><td>null</td><td>null</td><td>null</td><td>null</td><td>null</td></tr><tr><td>&quot;75%&quot;</td><td>null</td><td>null</td><td>null</td><td>null</td><td>null</td><td>null</td><td>null</td><td>null</td><td>null</td></tr><tr><td>&quot;max&quot;</td><td>&quot;ffc095a3e5acc1c404773a0510e6d0…</td><td>&quot;zwczou/weixin-python&quot;</td><td>&quot;zproject/urls.py&quot;</td><td>&quot;@@ -99,7 +99,9 @@ extern &quot;C&quot; {…</td><td>&quot;} else {\n",
                            "&nbsp;&nbsp;&nbsp;&nbsp;&nbsp;&nbsp;&nbsp;&nbsp;actionsTempla…</td><td>&quot;GHSA-x563-6hqv-26mr&quot;</td><td>null</td><td>&quot;zproject/urls.py&quot;</td><td>&quot;},\n",
                            "&nbsp;&nbsp;&nbsp;&nbsp;&nbsp;&nbsp;&nbsp;&nbsp;&quot;scope&quot;: {\n",
                            "&nbsp;&nbsp;&nbsp;&nbsp;&nbsp;&nbsp;&nbsp;&nbsp;…</td></tr></tbody></table></div>"
                        ],
                        "text/plain": [
                            "shape: (9, 10)\n",
                            "┌────────────┬────────────┬───────────┬───────────┬───┬───────────┬────────┬───────────┬───────────┐\n",
                            "│ statistic  ┆ commit     ┆ repo      ┆ new_file  ┆ … ┆ vulnerabi ┆ cwe_id ┆ old_file  ┆ code_unit │\n",
                            "│ ---        ┆ ---        ┆ ---       ┆ ---       ┆   ┆ lity_id   ┆ ---    ┆ ---       ┆ _before_f │\n",
                            "│ str        ┆ str        ┆ str       ┆ str       ┆   ┆ ---       ┆ f64    ┆ str       ┆ ix        │\n",
                            "│            ┆            ┆           ┆           ┆   ┆ str       ┆        ┆           ┆ ---       │\n",
                            "│            ┆            ┆           ┆           ┆   ┆           ┆        ┆           ┆ str       │\n",
                            "╞════════════╪════════════╪═══════════╪═══════════╪═══╪═══════════╪════════╪═══════════╪═══════════╡\n",
                            "│ count      ┆ 3410       ┆ 3410      ┆ 3410      ┆ … ┆ 3410      ┆ 3410.0 ┆ 3410      ┆ 3410      │\n",
                            "│ null_count ┆ 0          ┆ 0         ┆ 0         ┆ … ┆ 0         ┆ 0.0    ┆ 0         ┆ 0         │\n",
                            "│ mean       ┆ null       ┆ null      ┆ null      ┆ … ┆ null      ┆ null   ┆ null      ┆ null      │\n",
                            "│ std        ┆ null       ┆ null      ┆ null      ┆ … ┆ null      ┆ null   ┆ null      ┆ null      │\n",
                            "│ min        ┆ 001b0634cd ┆ 389ds/389 ┆ .devconta ┆ … ┆ 2013-0208 ┆ null   ┆ .devconta ┆           │\n",
                            "│            ┆ 309e372edb ┆ -ds-base  ┆ iner/libr ┆   ┆           ┆        ┆ iner/libr ┆           │\n",
                            "│            ┆ 6d7d95d083 ┆           ┆ ary-scrip ┆   ┆           ┆        ┆ ary-scrip ┆           │\n",
                            "│            ┆ …          ┆           ┆ ts/…      ┆   ┆           ┆        ┆ ts/…      ┆           │\n",
                            "│ 25%        ┆ null       ┆ null      ┆ null      ┆ … ┆ null      ┆ null   ┆ null      ┆ null      │\n",
                            "│ 50%        ┆ null       ┆ null      ┆ null      ┆ … ┆ null      ┆ null   ┆ null      ┆ null      │\n",
                            "│ 75%        ┆ null       ┆ null      ┆ null      ┆ … ┆ null      ┆ null   ┆ null      ┆ null      │\n",
                            "│ max        ┆ ffc095a3e5 ┆ zwczou/we ┆ zproject/ ┆ … ┆ GHSA-x563 ┆ null   ┆ zproject/ ┆ },        │\n",
                            "│            ┆ acc1c40477 ┆ ixin-pyth ┆ urls.py   ┆   ┆ -6hqv-26m ┆        ┆ urls.py   ┆ \"scope\":  │\n",
                            "│            ┆ 3a0510e6d0 ┆ on        ┆           ┆   ┆ r         ┆        ┆           ┆ {         │\n",
                            "│            ┆ …          ┆           ┆           ┆   ┆           ┆        ┆           ┆         … │\n",
                            "└────────────┴────────────┴───────────┴───────────┴───┴───────────┴────────┴───────────┴───────────┘"
                        ]
                    },
                    "execution_count": 54,
                    "metadata": {},
                    "output_type": "execute_result"
                }
            ],
            "source": [
                "inconsistent_vulns = set(inconsistent_code_units.select(\"vulnerability_id_right\").to_series().to_list())\n",
                "consistency_fix_vulnerabilities = without_duplicates.filter(\n",
                "    pl.col(\"vulnerability_id\").is_in(inconsistent_vulns).not_()\n",
                ")\n",
                "consistency_fix_vulnerabilities.describe()"
            ]
        },
        {
            "cell_type": "code",
            "execution_count": 55,
            "metadata": {},
            "outputs": [
                {
                    "data": {
                        "text/plain": [
                            "0"
                        ]
                    },
                    "execution_count": 55,
                    "metadata": {},
                    "output_type": "execute_result"
                }
            ],
            "source": [
                "consistency_fix_vulnerabilities.select(\"vulnerability_id\", \"code_unit_before_fix\").filter(\n",
                "    pl.col(\"code_unit_before_fix\").str.strip_chars() != \"\"\n",
                ").join(\n",
                "    consistency_fix_vulnerabilities.select(\"vulnerability_id\", \"code_unit_after_fix\").filter(\n",
                "        pl.col(\"code_unit_after_fix\").str.strip_chars() != \"\"\n",
                "    ), \n",
                "    how=\"cross\"\n",
                ").filter(pl.col(\"code_unit_before_fix\") == pl.col(\"code_unit_after_fix\")).shape[0]"
            ]
        },
        {
            "cell_type": "markdown",
            "metadata": {},
            "source": [
                "### Advanced filtering with duplicate searcher tool"
            ]
        },
        {
            "cell_type": "code",
            "execution_count": 56,
            "metadata": {},
            "outputs": [
                {
                    "data": {
                        "text/plain": [
                            "3950854"
                        ]
                    },
                    "execution_count": 56,
                    "metadata": {},
                    "output_type": "execute_result"
                }
            ],
            "source": [
                "slice_data = without_duplicates.slice(offset=0, length=100)\n",
                "\n",
                "with tempfile.TemporaryDirectory() as temp_dir:\n",
                "    for row in slice_data.iter_rows(named=True):\n",
                "        path = Path(f\"{temp_dir}/new_data/{row['commit']}/{row['new_file']}\")\n",
                "        path.parent.mkdir(parents=True, exist_ok=True)\n",
                "        with open(path, \"w\") as f:\n",
                "            f.write(row[\"code_unit_after_fix\"])\n",
                "            \n",
                "        path = Path(f\"{temp_dir}/old_data/{row['commit']}/{row['old_file']}\")\n",
                "        path.parent.mkdir(parents=True, exist_ok=True)\n",
                "        with open(path, \"w\") as f:\n",
                "            f.write(row[\"code_unit_before_fix\"])\n",
                "\n",
                "    similarity = json.loads(subprocess.getoutput(\n",
                "        \"cd /Users/somen/Zavodi/unik/duplicate-code-detection-tool/ && \"\n",
                "        \"source .venv/bin/activate && \"\n",
                "        f\"python -W ignore duplicate_code_detection.py --json True --file-extensions py -d {temp_dir}/new_data/ {temp_dir}/old_data/\",\n",
                "    ))\n",
                "\n",
                "SIMILARITY_DATA_PATH = Path(\"data/similarity.json\")\n",
                "SIMILARITY_DATA_PATH.write_text(json.dumps(similarity))"
            ]
        },
        {
            "cell_type": "code",
            "execution_count": 57,
            "metadata": {},
            "outputs": [
                {
                    "data": {
                        "text/html": [
                            "<div><style>\n",
                            ".dataframe > thead > tr,\n",
                            ".dataframe > tbody > tr {\n",
                            "  text-align: right;\n",
                            "  white-space: pre-wrap;\n",
                            "}\n",
                            "</style>\n",
                            "<small>shape: (9, 10)</small><table border=\"1\" class=\"dataframe\"><thead><tr><th>statistic</th><th>path_1</th><th>path_2</th><th>similarity</th><th>commit_1</th><th>file_path_1</th><th>is_new_1</th><th>commit_2</th><th>file_path_2</th><th>is_new_2</th></tr><tr><td>str</td><td>str</td><td>str</td><td>f64</td><td>str</td><td>str</td><td>f64</td><td>str</td><td>str</td><td>f64</td></tr></thead><tbody><tr><td>&quot;count&quot;</td><td>&quot;26082&quot;</td><td>&quot;26082&quot;</td><td>26082.0</td><td>&quot;26082&quot;</td><td>&quot;26082&quot;</td><td>26082.0</td><td>&quot;26082&quot;</td><td>&quot;26082&quot;</td><td>26082.0</td></tr><tr><td>&quot;null_count&quot;</td><td>&quot;0&quot;</td><td>&quot;0&quot;</td><td>0.0</td><td>&quot;0&quot;</td><td>&quot;0&quot;</td><td>0.0</td><td>&quot;0&quot;</td><td>&quot;0&quot;</td><td>0.0</td></tr><tr><td>&quot;mean&quot;</td><td>null</td><td>null</td><td>2.633734</td><td>null</td><td>null</td><td>0.5</td><td>null</td><td>null</td><td>0.5</td></tr><tr><td>&quot;std&quot;</td><td>null</td><td>null</td><td>6.110593</td><td>null</td><td>null</td><td>null</td><td>null</td><td>null</td><td>null</td></tr><tr><td>&quot;min&quot;</td><td>&quot;/var/folders/cy/xkclg4xd0gjglf…</td><td>&quot;/var/folders/cy/xkclg4xd0gjglf…</td><td>0.0</td><td>&quot;01de658210fd65171bfbf5450c9367…</td><td>&quot;InvenTree/part/admin.py&quot;</td><td>0.0</td><td>&quot;01de658210fd65171bfbf5450c9367…</td><td>&quot;InvenTree/part/admin.py&quot;</td><td>0.0</td></tr><tr><td>&quot;25%&quot;</td><td>null</td><td>null</td><td>0.0</td><td>null</td><td>null</td><td>null</td><td>null</td><td>null</td><td>null</td></tr><tr><td>&quot;50%&quot;</td><td>null</td><td>null</td><td>1.62</td><td>null</td><td>null</td><td>null</td><td>null</td><td>null</td><td>null</td></tr><tr><td>&quot;75%&quot;</td><td>null</td><td>null</td><td>3.36</td><td>null</td><td>null</td><td>null</td><td>null</td><td>null</td><td>null</td></tr><tr><td>&quot;max&quot;</td><td>&quot;/var/folders/cy/xkclg4xd0gjglf…</td><td>&quot;/var/folders/cy/xkclg4xd0gjglf…</td><td>100.0</td><td>&quot;fe507474f77084faef4539101e2bbb…</td><td>&quot;zerver/views/upload.py&quot;</td><td>1.0</td><td>&quot;fe507474f77084faef4539101e2bbb…</td><td>&quot;zerver/views/upload.py&quot;</td><td>1.0</td></tr></tbody></table></div>"
                        ],
                        "text/plain": [
                            "shape: (9, 10)\n",
                            "┌────────────┬───────────┬───────────┬───────────┬───┬──────────┬───────────┬───────────┬──────────┐\n",
                            "│ statistic  ┆ path_1    ┆ path_2    ┆ similarit ┆ … ┆ is_new_1 ┆ commit_2  ┆ file_path ┆ is_new_2 │\n",
                            "│ ---        ┆ ---       ┆ ---       ┆ y         ┆   ┆ ---      ┆ ---       ┆ _2        ┆ ---      │\n",
                            "│ str        ┆ str       ┆ str       ┆ ---       ┆   ┆ f64      ┆ str       ┆ ---       ┆ f64      │\n",
                            "│            ┆           ┆           ┆ f64       ┆   ┆          ┆           ┆ str       ┆          │\n",
                            "╞════════════╪═══════════╪═══════════╪═══════════╪═══╪══════════╪═══════════╪═══════════╪══════════╡\n",
                            "│ count      ┆ 26082     ┆ 26082     ┆ 26082.0   ┆ … ┆ 26082.0  ┆ 26082     ┆ 26082     ┆ 26082.0  │\n",
                            "│ null_count ┆ 0         ┆ 0         ┆ 0.0       ┆ … ┆ 0.0      ┆ 0         ┆ 0         ┆ 0.0      │\n",
                            "│ mean       ┆ null      ┆ null      ┆ 2.633734  ┆ … ┆ 0.5      ┆ null      ┆ null      ┆ 0.5      │\n",
                            "│ std        ┆ null      ┆ null      ┆ 6.110593  ┆ … ┆ null     ┆ null      ┆ null      ┆ null     │\n",
                            "│ min        ┆ /var/fold ┆ /var/fold ┆ 0.0       ┆ … ┆ 0.0      ┆ 01de65821 ┆ InvenTree ┆ 0.0      │\n",
                            "│            ┆ ers/cy/xk ┆ ers/cy/xk ┆           ┆   ┆          ┆ 0fd65171b ┆ /part/adm ┆          │\n",
                            "│            ┆ clg4xd0gj ┆ clg4xd0gj ┆           ┆   ┆          ┆ fbf5450c9 ┆ in.py     ┆          │\n",
                            "│            ┆ glf…      ┆ glf…      ┆           ┆   ┆          ┆ 367…      ┆           ┆          │\n",
                            "│ 25%        ┆ null      ┆ null      ┆ 0.0       ┆ … ┆ null     ┆ null      ┆ null      ┆ null     │\n",
                            "│ 50%        ┆ null      ┆ null      ┆ 1.62      ┆ … ┆ null     ┆ null      ┆ null      ┆ null     │\n",
                            "│ 75%        ┆ null      ┆ null      ┆ 3.36      ┆ … ┆ null     ┆ null      ┆ null      ┆ null     │\n",
                            "│ max        ┆ /var/fold ┆ /var/fold ┆ 100.0     ┆ … ┆ 1.0      ┆ fe507474f ┆ zerver/vi ┆ 1.0      │\n",
                            "│            ┆ ers/cy/xk ┆ ers/cy/xk ┆           ┆   ┆          ┆ 77084faef ┆ ews/uploa ┆          │\n",
                            "│            ┆ clg4xd0gj ┆ clg4xd0gj ┆           ┆   ┆          ┆ 4539101e2 ┆ d.py      ┆          │\n",
                            "│            ┆ glf…      ┆ glf…      ┆           ┆   ┆          ┆ bbb…      ┆           ┆          │\n",
                            "└────────────┴───────────┴───────────┴───────────┴───┴──────────┴───────────┴───────────┴──────────┘"
                        ]
                    },
                    "execution_count": 57,
                    "metadata": {},
                    "output_type": "execute_result"
                }
            ],
            "source": [
                "similarity = json.loads(SIMILARITY_DATA_PATH.read_text())\n",
                "similarity = pl.DataFrame(\n",
                "    [\n",
                "        {\n",
                "            \"path_1\": left_path, \n",
                "            \"path_2\": right_path, \n",
                "            \"similarity\": value\n",
                "        }  \n",
                "        for left_path, values in similarity.items() for right_path, value in values.items()\n",
                "    ]\n",
                ")\n",
                "similarity = similarity.with_columns(\n",
                "    # THIS LINES ARE NOT CROSS PLATFORM. Change index in .get(...) call accordingly to your own path\n",
                "    pl.col(\"path_1\").str.split(\"/\").list.get(8).alias(\"commit_1\"), \n",
                "    pl.col(\"path_1\").str.split(\"/\").list.slice(9).list.join(\"/\").alias(\"file_path_1\"), \n",
                "    (pl.col(\"path_1\").str.split(\"/\").list.get(7) == \"new_data\").alias(\"is_new_1\"),\n",
                "    pl.col(\"path_2\").str.split(\"/\").list.get(8).alias(\"commit_2\"),\n",
                "    pl.col(\"path_2\").str.split(\"/\").list.slice(9).list.join(\"/\").alias(\"file_path_2\"),\n",
                "    (pl.col(\"path_2\").str.split(\"/\").list.get(7) == \"new_data\").alias(\"is_new_2\"),\n",
                ")\n",
                "\n",
                "similarity.describe()"
            ]
        },
        {
            "cell_type": "markdown",
            "metadata": {},
            "source": [
                "#### Checking for duplicates"
            ]
        },
        {
            "cell_type": "code",
            "execution_count": 58,
            "metadata": {},
            "outputs": [
                {
                    "name": "stdout",
                    "output_type": "stream",
                    "text": [
                        "shape: (0, 2)\n",
                        "┌────────────┬─────┐\n",
                        "│ similarity ┆ len │\n",
                        "│ ---        ┆ --- │\n",
                        "│ i64        ┆ u32 │\n",
                        "╞════════════╪═════╡\n",
                        "└────────────┴─────┘\n"
                    ]
                }
            ],
            "source": [
                "print(similarity.filter(\n",
                "    (pl.col(\"is_new_1\").and_(pl.col(\"is_new_2\"))).or_(pl.col(\"is_new_1\").not_().and_(pl.col(\"is_new_2\").not_())), \n",
                "    pl.col(\"commit_1\") != pl.col(\"commit_2\")\n",
                ").filter(pl.col(\"similarity\") > 50).with_columns(\n",
                "    pl.col(\"similarity\").cast(pl.Int64)\n",
                ").group_by(\"similarity\").agg(pl.len()))\n"
            ]
        },
        {
            "cell_type": "code",
            "execution_count": 59,
            "metadata": {},
            "outputs": [
                {
                    "data": {
                        "text/html": [
                            "<div><style>\n",
                            ".dataframe > thead > tr,\n",
                            ".dataframe > tbody > tr {\n",
                            "  text-align: right;\n",
                            "  white-space: pre-wrap;\n",
                            "}\n",
                            "</style>\n",
                            "<small>shape: (0, 9)</small><table border=\"1\" class=\"dataframe\"><thead><tr><th>path_1</th><th>path_2</th><th>similarity</th><th>commit_1</th><th>file_path_1</th><th>is_new_1</th><th>commit_2</th><th>file_path_2</th><th>is_new_2</th></tr><tr><td>str</td><td>str</td><td>f64</td><td>str</td><td>str</td><td>bool</td><td>str</td><td>str</td><td>bool</td></tr></thead><tbody></tbody></table></div>"
                        ],
                        "text/plain": [
                            "shape: (0, 9)\n",
                            "┌────────┬────────┬────────────┬──────────┬───┬──────────┬──────────┬─────────────┬──────────┐\n",
                            "│ path_1 ┆ path_2 ┆ similarity ┆ commit_1 ┆ … ┆ is_new_1 ┆ commit_2 ┆ file_path_2 ┆ is_new_2 │\n",
                            "│ ---    ┆ ---    ┆ ---        ┆ ---      ┆   ┆ ---      ┆ ---      ┆ ---         ┆ ---      │\n",
                            "│ str    ┆ str    ┆ f64        ┆ str      ┆   ┆ bool     ┆ str      ┆ str         ┆ bool     │\n",
                            "╞════════╪════════╪════════════╪══════════╪═══╪══════════╪══════════╪═════════════╪══════════╡\n",
                            "└────────┴────────┴────────────┴──────────┴───┴──────────┴──────────┴─────────────┴──────────┘"
                        ]
                    },
                    "execution_count": 59,
                    "metadata": {},
                    "output_type": "execute_result"
                }
            ],
            "source": [
                "similarity.filter(\n",
                "    (pl.col(\"is_new_1\").and_(pl.col(\"is_new_2\"))).or_(pl.col(\"is_new_1\").not_().and_(pl.col(\"is_new_2\").not_())), \n",
                "    pl.col(\"commit_1\") != pl.col(\"commit_2\")\n",
                ").filter(pl.col(\"similarity\") > 50)"
            ]
        },
        {
            "cell_type": "markdown",
            "metadata": {},
            "source": [
                "#### Filter out duplicates"
            ]
        },
        {
            "cell_type": "code",
            "execution_count": 60,
            "metadata": {},
            "outputs": [],
            "source": [
                "commits_to_exclude: set[str] = {\n",
                "    # Duplicate with 800828887a0509ad1162d6d407e94d8de7eafc60\n",
                "    \"2c09e68ec911919360d5f8502cefc312f9e03c5d\",\n",
                "    # duplicate with e1592e0f26302e79856cc7f2218ae848ae19b0f6\n",
                "    \"4cb35b384ceef52123fc66411a73c36a706825e1\",\n",
                "    # Consistency error with accff72ecc2f6cf5a76d9570198a93ac7c90270e\n",
                "    \"01220354d389cd05474713f8c982d05c9b17aafb\",\n",
                "    \"644124ecd0b6e417c527191f866daa05a5a2056d\",\n",
                "    \"40b6d1605814dd1db0a46e202d6e56f2e4c9a468\"\n",
                "    # Duplicate with 9f75e2e562fa0c0482f3dde6fc7399a9070b4a3d\n",
                "    \"f27c38ab5d90f68c9dd60cabef248a570c0be8fc\",\n",
                "    # Duplicate with 3dfb8e81bb5f776a6b00c7a90dd087e85b71f8bb\n",
                "    \"3dfb8e81bb5f776a6b00c7a90dd087e85b71f8bb\",\n",
                "    # Duplicate with cc82d986c40328d4ae81298a9d287c95a6326bb0\n",
                "    \"d74a1b1d1325af2a24848044cf2858987f5a3ecc\",\n",
                "    # Duplicate with f50cc0b8cb399bb7b7c1ad23b94c9404f0cc6d23\n",
                "    \"b618339c321c387230d3ea523e80ad47af3de5cf\",\n",
                "    # Duplicate with 03daf774d0d80fb7235910ed1c2b4fbcaebdfe65\n",
                "    \"3b6de811abea0a811e03e3029222a7e459922892\",\n",
                "    # Duplicate with 70e83e72b43e05e57eb42a6d52d01a4d9768f510\n",
                "    \"2936b80dbbc7efb889934aeec80f6142c10266ce\",\n",
                "    # Duplicate with https://github.com/apache/airflow/commit/1cbb0ad26dd17f218c6ab1c2ae59b262c443a443\n",
                "    \"09be0c5c7e847dda1d0be5776f8d5e327ff2281a\",\n",
                "    # Duplicate with 24f43aac0f4116b3d89fdbe973ba92c6cfb0d998\n",
                "    \"54b02d9f3a94de94e4fb471908b8cf798e62e411\",\n",
                "    # Duplicate with fa0d4829f9c81eefb37cc058e2fa1b6a918741da\n",
                "    \"ab2a5d82b4ee3c909d2456704388ccf90e367c9b\",\n",
                "    # Duplicate with de4466d88b816437fb29eff5ab23b9b964cd3985\n",
                "    \"32a7b713468161282f2ea01d5e2faff980d924cd\",\n",
                "    # Duplicate with 813de2672bd7361e9a453ab62cd6e52f96b6525b\n",
                "    \"7b7b909579c8311c140c89b8a9431bf537febf93\",\n",
                "    # Strange commit, no useful info\n",
                "    \"31cb25adecba930bdeee4556709f5a1c42d88fd6\",\n",
                "    # Duplicate with https://github.com/django/django/commit/8cc41ce7a7a8f6bebfdd89d5ab276cd0109f4fc5\n",
                "    \"2f5485346ee6f84b4e52068c04e043092daf55f7\",\n",
                "    # Duplicate with https://github.com/django/django/commit/f27c38ab5d90f68c9dd60cabef248a570c0be8fc\n",
                "    \"9f75e2e562fa0c0482f3dde6fc7399a9070b4a3d\",\n",
                "}\n",
                "\n",
                "without_duplicates = without_duplicates.filter(\n",
                "    pl.col(\"commit\").is_in(commits_to_exclude).not_()\n",
                ") "
            ]
        },
        {
            "cell_type": "markdown",
            "metadata": {},
            "source": [
                "#### Checking for consistency"
            ]
        },
        {
            "cell_type": "code",
            "execution_count": 61,
            "metadata": {},
            "outputs": [
                {
                    "name": "stdout",
                    "output_type": "stream",
                    "text": [
                        "shape: (0, 2)\n",
                        "┌────────────┬─────┐\n",
                        "│ similarity ┆ len │\n",
                        "│ ---        ┆ --- │\n",
                        "│ i64        ┆ u32 │\n",
                        "╞════════════╪═════╡\n",
                        "└────────────┴─────┘\n"
                    ]
                }
            ],
            "source": [
                "## Looking for code units that are the same before and after the fix\n",
                "print(similarity.filter(\n",
                "    pl.col(\"is_new_1\").not_(), pl.col(\"is_new_2\"), pl.col(\"commit_1\") != pl.col(\"commit_2\")\n",
                ").filter(pl.col(\"similarity\") > 50).with_columns(\n",
                "    pl.col(\"similarity\").cast(pl.Int64)\n",
                ").group_by(\"similarity\").agg(pl.len()))\n"
            ]
        },
        {
            "cell_type": "code",
            "execution_count": 62,
            "metadata": {},
            "outputs": [
                {
                    "data": {
                        "text/plain": [
                            "{'CWE-130',\n",
                            " 'CWE-131',\n",
                            " 'CWE-1333',\n",
                            " 'CWE-190',\n",
                            " 'CWE-20',\n",
                            " 'CWE-200',\n",
                            " 'CWE-22',\n",
                            " 'CWE-276',\n",
                            " 'CWE-284',\n",
                            " 'CWE-287',\n",
                            " 'CWE-29',\n",
                            " 'CWE-290',\n",
                            " 'CWE-295',\n",
                            " 'CWE-306',\n",
                            " 'CWE-347',\n",
                            " 'CWE-352',\n",
                            " 'CWE-400',\n",
                            " 'CWE-444',\n",
                            " 'CWE-476',\n",
                            " 'CWE-502',\n",
                            " 'CWE-521',\n",
                            " 'CWE-522',\n",
                            " 'CWE-552',\n",
                            " 'CWE-59',\n",
                            " 'CWE-601',\n",
                            " 'CWE-611',\n",
                            " 'CWE-613',\n",
                            " 'CWE-74',\n",
                            " 'CWE-77',\n",
                            " 'CWE-770',\n",
                            " 'CWE-78',\n",
                            " 'CWE-787',\n",
                            " 'CWE-79',\n",
                            " 'CWE-824',\n",
                            " 'CWE-835',\n",
                            " 'CWE-840',\n",
                            " 'CWE-89',\n",
                            " 'CWE-918',\n",
                            " 'CWE-94',\n",
                            " None}"
                        ]
                    },
                    "execution_count": 62,
                    "metadata": {},
                    "output_type": "execute_result"
                }
            ],
            "source": [
                "concated_code_units = pl.concat(\n",
                "    [without_duplicates.filter(pl.col(\"code_unit_after_fix\").str.strip_chars() != \"\").select(\n",
                "        pl.col(\"code_unit_after_fix\").alias(\"code_unit\"), pl.col(\"commit\"), pl.col(\"repo\"), pl.col(\"vulnerability_id\"), pl.col(\"cwe_id\")\n",
                "    ),\n",
                "    without_duplicates.filter(pl.col(\"code_unit_before_fix\").str.strip_chars() != \"\").select(\n",
                "        pl.col(\"code_unit_before_fix\").alias(\"code_unit\"), pl.col(\"commit\"), pl.col(\"repo\"), pl.col(\"vulnerability_id\"), pl.col(\"cwe_id\")\n",
                "    )]\n",
                ")\n",
                "\n",
                "duplicate_code_units = concated_code_units.group_by(\"code_unit\").agg(\"commit\", \"repo\", \"vulnerability_id\", \"cwe_id\").filter(pl.col(\"commit\").list.len() > 1).sort(\"repo\").slice(2)\n",
                "set(duplicate_code_units.select(\"cwe_id\").explode(\"cwe_id\").explode(\"cwe_id\").to_series().to_list())\n"
            ]
        },
        {
            "cell_type": "code",
            "execution_count": 63,
            "metadata": {},
            "outputs": [
                {
                    "name": "stdout",
                    "output_type": "stream",
                    "text": [
                        "42 2915\n"
                    ]
                }
            ],
            "source": [
                "def try_convert_to_python3(code: str) -> str:\n",
                "    try:\n",
                "        with tempfile.TemporaryFile(\"w\") as temp_file:\n",
                "            temp_file.write(code)\n",
                "            temp_file.seek(0)\n",
                "            \n",
                "            os.system(f\"2to3 -w {temp_file.name}\")\n",
                "            return temp_file.readlines()\n",
                "    except:\n",
                "        return code\n",
                "    \n",
                "\n",
                "\n",
                "total = 0\n",
                "errors_count = 0\n",
                "bad_commits = set()\n",
                "for row in without_duplicates.sample(fraction=1, shuffle=True).iter_rows(named=True):\n",
                "    file_extension = row[\"new_file\"].split(\".\")[-1]\n",
                "    if file_extension in {\"py\", \"pyi\", \"pyx\", \"pxi\"}:\n",
                "        total += 1\n",
                "        script = jedi.Script(code=row[\"code_unit_after_fix\"])\n",
                "        errors = script.get_syntax_errors()\n",
                "        if errors and row[\"commit\"]:\n",
                "        #     try_convert_to_python3(row[\"code_unit_after_fix\"])\n",
                "            # # shutil.rmtree(PYTHON_CODE_UNITS_DATA_PATH / row[\"commit\"], ignore_errors=True)\n",
                "            # # shutil.rmtree(PYTHON_CODE_CONTEXT_DATA_PATH / row[\"commit\"], ignore_errors=True)\n",
                "            # print(row[\"vulnerability_id\"], row[\"repo\"], row[\"new_file\"], row[\"commit\"])\n",
                "            # print(row[\"code_unit_after_fix\"])\n",
                "            # print(errors)\n",
                "            # break\n",
                "            bad_commits.add(row[\"commit\"])\n",
                "            errors_count += 1\n",
                "\n",
                "print(errors_count, total)"
            ]
        },
        {
            "cell_type": "markdown",
            "metadata": {},
            "source": [
                "### Dataset balancing"
            ]
        },
        {
            "cell_type": "markdown",
            "metadata": {},
            "source": [
                "#### Build CWE hierarchy"
            ]
        },
        {
            "cell_type": "code",
            "execution_count": 64,
            "metadata": {},
            "outputs": [],
            "source": [
                "from collections import defaultdict\n",
                "from src.paths import DATA_PATH\n",
                "\n",
                "\n",
                "relations = pl.read_csv(DATA_PATH / \"1000.csv\", truncate_ragged_lines=True).select(\"CWE-ID\", \"Related Weaknesses\").with_columns(pl.col(\"Related Weaknesses\").str.split(\"::NATURE:\").list.slice(1).alias(\"relations\")).explode(\"relations\").select(\"CWE-ID\", \"relations\")\n",
                "relations = relations.filter(pl.col(\"relations\").str.contains(\"ChildOf\")).with_columns(pl.col(\"relations\").str.split(\":\").list.get(2).cast(pl.Int64).alias(\"child_of\"))\n",
                "\n",
                "dict_relations = relations.to_dict()\n",
                "relations_parents = defaultdict(list)\n",
                "for cwe_id, parent in zip(dict_relations[\"CWE-ID\"], dict_relations[\"child_of\"]):\n",
                "    relations_parents[f\"CWE-{cwe_id}\"].append(f\"CWE-{parent}\")\n",
                "# relations_parents = pl.DataFrame([{\"cwe_id\": cwe, \"parents\": parents} for cwe, parents in relations_parents.items()]).explode(\"parents\")"
            ]
        },
        {
            "cell_type": "code",
            "execution_count": 65,
            "metadata": {},
            "outputs": [
                {
                    "name": "stdout",
                    "output_type": "stream",
                    "text": [
                        "['CWE-664']\n",
                        "shape: (140, 9)\n",
                        "┌───────────┬───────────┬───────────┬───────────┬───┬───────────┬───────────┬───────────┬──────────┐\n",
                        "│ commit    ┆ repo      ┆ new_file  ┆ patch     ┆ … ┆ vulnerabi ┆ cwe_id    ┆ old_file  ┆ code_uni │\n",
                        "│ ---       ┆ ---       ┆ ---       ┆ ---       ┆   ┆ lity_id   ┆ ---       ┆ ---       ┆ t_before │\n",
                        "│ str       ┆ str       ┆ str       ┆ str       ┆   ┆ ---       ┆ list[str] ┆ str       ┆ _fix     │\n",
                        "│           ┆           ┆           ┆           ┆   ┆ str       ┆           ┆           ┆ ---      │\n",
                        "│           ┆           ┆           ┆           ┆   ┆           ┆           ┆           ┆ str      │\n",
                        "╞═══════════╪═══════════╪═══════════╪═══════════╪═══╪═══════════╪═══════════╪═══════════╪══════════╡\n",
                        "│ 6207b44ab ┆ python-pi ┆ src/PIL/P ┆ @@ -20,11 ┆ … ┆ 2021-2529 ┆ [\"CWE-400 ┆ src/PIL/P ┆ from .   │\n",
                        "│ 1ff4a91d8 ┆ llow/Pill ┆ dfImagePl ┆ +20,11 @@ ┆   ┆ 2         ┆ \"]        ┆ dfImagePl ┆ import   │\n",
                        "│ ddc757961 ┆ ow        ┆ ugin.py   ┆ # Image   ┆   ┆           ┆           ┆ ugin.py   ┆ Image,   │\n",
                        "│ 987…      ┆           ┆           ┆ p…        ┆   ┆           ┆           ┆           ┆ ImageFil │\n",
                        "│           ┆           ┆           ┆           ┆   ┆           ┆           ┆           ┆ e…       │\n",
                        "│ 521dab94c ┆ python-pi ┆ src/PIL/P ┆ @@ -580,8 ┆ … ┆ 2021-2529 ┆ [\"CWE-400 ┆ src/PIL/P ┆ class    │\n",
                        "│ 7ab72b037 ┆ llow/Pill ┆ dfParser. ┆ +580,9 @@ ┆   ┆ 2         ┆ \"]        ┆ dfParser. ┆ PdfParse │\n",
                        "│ bd9a83e96 ┆ ow        ┆ py        ┆ def       ┆   ┆           ┆           ┆ py        ┆ r:       │\n",
                        "│ 634…      ┆           ┆           ┆ next_o…   ┆   ┆           ┆           ┆           ┆ newline  │\n",
                        "│           ┆           ┆           ┆           ┆   ┆           ┆           ┆           ┆ =…       │\n",
                        "│ 3a7b880bd ┆ OpenKMIP/ ┆ kmip/serv ┆ @@ -267,6 ┆ … ┆ 2018-1000 ┆ [\"CWE-400 ┆ kmip/serv ┆          │\n",
                        "│ f70d295ed ┆ PyKMIP    ┆ ices/serv ┆ +267,7 @@ ┆   ┆ 872       ┆ \"]        ┆ ices/serv ┆          │\n",
                        "│ 8af3a5880 ┆           ┆ er/server ┆ def       ┆   ┆           ┆           ┆ er/server ┆          │\n",
                        "│ bab…      ┆           ┆ .py       ┆ interr…   ┆   ┆           ┆           ┆ .py       ┆          │\n",
                        "│ 8c990170b ┆ pyupio/dp ┆ dparse/re ┆ @@ -1,39  ┆ … ┆ 2022-3928 ┆ [\"CWE-400 ┆ dparse/re ┆ import   │\n",
                        "│ bd6c0cf21 ┆ arse      ┆ gex.py    ┆ +1,4 @@   ┆   ┆ 0         ┆ \", \"CWE-1 ┆ gex.py    ┆ re       │\n",
                        "│ 2f1151e90 ┆           ┆           ┆ # -*-     ┆   ┆           ┆ 333\"]     ┆           ┆ URL_REGE │\n",
                        "│ 254…      ┆           ┆           ┆ coding…   ┆   ┆           ┆           ┆           ┆ X = re.c │\n",
                        "│           ┆           ┆           ┆           ┆   ┆           ┆           ┆           ┆ ompi…    │\n",
                        "│ f473d13d0 ┆ apache/su ┆ superset/ ┆ @@        ┆ … ┆ 2023-4610 ┆ [\"CWE-400 ┆ superset/ ┆          │\n",
                        "│ d89de5990 ┆ perset    ┆ config.py ┆ -1600,6   ┆   ┆ 4         ┆ \"]        ┆ config.py ┆          │\n",
                        "│ 209ff81b1 ┆           ┆           ┆ +1600,11  ┆   ┆           ┆           ┆           ┆          │\n",
                        "│ 7df…      ┆           ┆           ┆ @@ def    ┆   ┆           ┆           ┆           ┆          │\n",
                        "│           ┆           ┆           ┆ EMA…      ┆   ┆           ┆           ┆           ┆          │\n",
                        "│ …         ┆ …         ┆ …         ┆ …         ┆ … ┆ …         ┆ …         ┆ …         ┆ …        │\n",
                        "│ 5e78c4169 ┆ pallets/q ┆ src/quart ┆ @@ -15,6  ┆ … ┆ 2024-4976 ┆ [\"CWE-400 ┆ src/quart ┆          │\n",
                        "│ b8eb66b91 ┆ uart      ┆ /formpars ┆ +15,7 @@  ┆   ┆ 7         ┆ \", \"CWE-7 ┆ /formpars ┆          │\n",
                        "│ ead3e62d4 ┆           ┆ er.py     ┆ from      ┆   ┆           ┆ 70\"]      ┆ er.py     ┆          │\n",
                        "│ 472…      ┆           ┆           ┆ urllib…   ┆   ┆           ┆           ┆           ┆          │\n",
                        "│ 455b318ce ┆ openstack ┆ cinder/im ┆ @@ -54,13 ┆ … ┆ 2015-5162 ┆ [\"CWE-400 ┆ cinder/im ┆ def qemu │\n",
                        "│ d717fb38d ┆ /cinder   ┆ age/image ┆ +54,18 @@ ┆   ┆           ┆ \"]        ┆ age/image ┆ _img_inf │\n",
                        "│ fe4001481 ┆           ┆ _utils.py ┆ CONF =    ┆   ┆           ┆           ┆ _utils.py ┆ o(path,  │\n",
                        "│ 7d7…      ┆           ┆           ┆ cf…       ┆   ┆           ┆           ┆           ┆ run_as…  │\n",
                        "│ 2e7e8c4a7 ┆ pygments/ ┆ pygments/ ┆ @@        ┆ … ┆ 2021-2729 ┆ [\"CWE-400 ┆ pygments/ ┆ class    │\n",
                        "│ b318f4032 ┆ pygments  ┆ lexers/ob ┆ -261,11   ┆   ┆ 1         ┆ \"]        ┆ lexers/ob ┆ LogosLex │\n",
                        "│ 493773732 ┆           ┆ jective.p ┆ +261,11   ┆   ┆           ┆           ┆ jective.p ┆ er(Objec │\n",
                        "│ 754…      ┆           ┆ y         ┆ @@ class  ┆   ┆           ┆           ┆ y         ┆ tiveCppL │\n",
                        "│           ┆           ┆           ┆ Lo…       ┆   ┆           ┆           ┆           ┆ …        │\n",
                        "│ abb04a512 ┆ pallets/q ┆ src/quart ┆ @@ -248,6 ┆ … ┆ 2024-4976 ┆ [\"CWE-400 ┆ src/quart ┆ class    │\n",
                        "│ 496206de2 ┆ uart      ┆ /app.py   ┆ +248,8 @@ ┆   ┆ 7         ┆ \", \"CWE-7 ┆ /app.py   ┆ Quart(Ap │\n",
                        "│ 79225340e ┆           ┆           ┆ class     ┆   ┆           ┆ 70\"]      ┆           ┆ p):      │\n",
                        "│ d02…      ┆           ┆           ┆ Quar…     ┆   ┆           ┆           ┆           ┆ asgi_htt │\n",
                        "│           ┆           ┆           ┆           ┆   ┆           ┆           ┆           ┆ …        │\n",
                        "│ ff5c4da12 ┆ matrix-or ┆ synapse/h ┆ @@        ┆ … ┆ 2021-2127 ┆ [\"CWE-400 ┆ synapse/h ┆ class    │\n",
                        "│ 89cb5e097 ┆ g/synapse ┆ ttp/clien ┆ -720,11   ┆   ┆ 4         ┆ \", \"CWE-4 ┆ ttp/clien ┆ SimpleHt │\n",
                        "│ 902b3e55b ┆           ┆ t.py      ┆ +720,14   ┆   ┆           ┆ 00\"]      ┆ t.py      ┆ tpClient │\n",
                        "│ 771…      ┆           ┆           ┆ @@ async  ┆   ┆           ┆           ┆           ┆ :        │\n",
                        "│           ┆           ┆           ┆ de…       ┆   ┆           ┆           ┆           ┆     as…  │\n",
                        "└───────────┴───────────┴───────────┴───────────┴───┴───────────┴───────────┴───────────┴──────────┘\n"
                    ]
                }
            ],
            "source": [
                "print(relations_parents[\"CWE-400\"])\n",
                "print(without_duplicates.filter(pl.col(\"cwe_id\").list.contains(\"CWE-400\")))\n"
            ]
        },
        {
            "cell_type": "markdown",
            "metadata": {},
            "source": [
                "#### CWE clustering"
            ]
        },
        {
            "cell_type": "code",
            "execution_count": 128,
            "metadata": {},
            "outputs": [
                {
                    "name": "stdout",
                    "output_type": "stream",
                    "text": [
                        "Total cwes amount: 400\n",
                        "Rare cwes amount: 215\n"
                    ]
                },
                {
                    "data": {
                        "text/html": [
                            "<div><style>\n",
                            ".dataframe > thead > tr,\n",
                            ".dataframe > tbody > tr {\n",
                            "  text-align: right;\n",
                            "  white-space: pre-wrap;\n",
                            "}\n",
                            "</style>\n",
                            "<small>shape: (215, 2)</small><table border=\"1\" class=\"dataframe\"><thead><tr><th>cwe_id</th><th>count</th></tr><tr><td>str</td><td>u32</td></tr></thead><tbody><tr><td>&quot;CWE-79&quot;</td><td>153</td></tr><tr><td>&quot;CWE-22&quot;</td><td>109</td></tr><tr><td>&quot;CWE-200&quot;</td><td>106</td></tr><tr><td>&quot;CWE-20&quot;</td><td>104</td></tr><tr><td>&quot;CWE-400&quot;</td><td>69</td></tr><tr><td>&hellip;</td><td>&hellip;</td></tr><tr><td>&quot;CWE-1395&quot;</td><td>1</td></tr><tr><td>&quot;CWE-395&quot;</td><td>1</td></tr><tr><td>&quot;CWE-1021&quot;</td><td>1</td></tr><tr><td>&quot;CWE-366&quot;</td><td>1</td></tr><tr><td>&quot;CWE-323&quot;</td><td>1</td></tr></tbody></table></div>"
                        ],
                        "text/plain": [
                            "shape: (215, 2)\n",
                            "┌──────────┬───────┐\n",
                            "│ cwe_id   ┆ count │\n",
                            "│ ---      ┆ ---   │\n",
                            "│ str      ┆ u32   │\n",
                            "╞══════════╪═══════╡\n",
                            "│ CWE-79   ┆ 153   │\n",
                            "│ CWE-22   ┆ 109   │\n",
                            "│ CWE-200  ┆ 106   │\n",
                            "│ CWE-20   ┆ 104   │\n",
                            "│ CWE-400  ┆ 69    │\n",
                            "│ …        ┆ …     │\n",
                            "│ CWE-1395 ┆ 1     │\n",
                            "│ CWE-395  ┆ 1     │\n",
                            "│ CWE-1021 ┆ 1     │\n",
                            "│ CWE-366  ┆ 1     │\n",
                            "│ CWE-323  ┆ 1     │\n",
                            "└──────────┴───────┘"
                        ]
                    },
                    "execution_count": 128,
                    "metadata": {},
                    "output_type": "execute_result"
                }
            ],
            "source": [
                "\n",
                "def filter_rare_cwes(df: pl.DataFrame, filter_threshold: int = 200, cwe_column: str = \"cwe_id\") -> pl.DataFrame:\n",
                "    return df.select(cwe_column, \"vulnerability_id\").drop_nulls().unique([cwe_column, \"vulnerability_id\"]).to_series().value_counts().sort(\n",
                "        \"count\", descending=True\n",
                "    ).filter(pl.col(\"count\") < filter_threshold)\n",
                "\n",
                "print(f\"Total cwes amount: {without_duplicates.unique(\"cwe_id\").shape[0]}\")\n",
                "rare_cwes = filter_rare_cwes(without_duplicates.explode(\"cwe_id\"))\n",
                "print(f\"Rare cwes amount: {rare_cwes.shape[0]}\")\n",
                "rare_cwes\n"
            ]
        },
        {
            "cell_type": "code",
            "execution_count": 175,
            "metadata": {},
            "outputs": [
                {
                    "name": "stdout",
                    "output_type": "stream",
                    "text": [
                        "Rare cwes amount: 106\n"
                    ]
                },
                {
                    "data": {
                        "text/html": [
                            "<div><style>\n",
                            ".dataframe > thead > tr,\n",
                            ".dataframe > tbody > tr {\n",
                            "  text-align: right;\n",
                            "  white-space: pre-wrap;\n",
                            "}\n",
                            "</style>\n",
                            "<small>shape: (106, 2)</small><table border=\"1\" class=\"dataframe\"><thead><tr><th>clustered_cwe_id</th><th>count</th></tr><tr><td>str</td><td>u32</td></tr></thead><tbody><tr><td>&quot;CWE-691&quot;</td><td>84</td></tr><tr><td>&quot;CWE-400&quot;</td><td>74</td></tr><tr><td>&quot;CWE-693&quot;</td><td>69</td></tr><tr><td>&quot;CWE-703&quot;</td><td>59</td></tr><tr><td>&quot;CWE-682&quot;</td><td>28</td></tr><tr><td>&hellip;</td><td>&hellip;</td></tr><tr><td>&quot;CWE-150&quot;</td><td>1</td></tr><tr><td>&quot;CWE-178&quot;</td><td>1</td></tr><tr><td>&quot;CWE-829&quot;</td><td>1</td></tr><tr><td>&quot;CWE-627&quot;</td><td>1</td></tr><tr><td>&quot;CWE-1327&quot;</td><td>1</td></tr></tbody></table></div>"
                        ],
                        "text/plain": [
                            "shape: (106, 2)\n",
                            "┌──────────────────┬───────┐\n",
                            "│ clustered_cwe_id ┆ count │\n",
                            "│ ---              ┆ ---   │\n",
                            "│ str              ┆ u32   │\n",
                            "╞══════════════════╪═══════╡\n",
                            "│ CWE-691          ┆ 84    │\n",
                            "│ CWE-400          ┆ 74    │\n",
                            "│ CWE-693          ┆ 69    │\n",
                            "│ CWE-703          ┆ 59    │\n",
                            "│ CWE-682          ┆ 28    │\n",
                            "│ …                ┆ …     │\n",
                            "│ CWE-150          ┆ 1     │\n",
                            "│ CWE-178          ┆ 1     │\n",
                            "│ CWE-829          ┆ 1     │\n",
                            "│ CWE-627          ┆ 1     │\n",
                            "│ CWE-1327         ┆ 1     │\n",
                            "└──────────────────┴───────┘"
                        ]
                    },
                    "execution_count": 175,
                    "metadata": {},
                    "output_type": "execute_result"
                }
            ],
            "source": [
                "VULNERABILITY_TYPES_MAPPING = pl.DataFrame([\n",
                "    {\"cwe_id\": \"CWE-405\", \"new_cwes\": [\"CWE-400\"]},\n",
                "    {\"cwe_id\": \"CWE-770\", \"new_cwes\": [\"CWE-400\", \"CWE-664\"]},\n",
                "    {\"cwe_id\": \"CWE-771\", \"new_cwes\": [\"CWE-400\"]},\n",
                "    {\"cwe_id\": \"CWE-779\", \"new_cwes\": [\"CWE-400\"]},\n",
                "    {\"cwe_id\": \"CWE-920\", \"new_cwes\": [\"CWE-400\"]},\n",
                "    {\"cwe_id\": \"CWE-1235\", \"new_cwes\": [\"CWE-400\"]},\n",
                "    # -----\n",
                "    {\"cwe_id\": \"CWE-94\", \"new_cwes\": [\"CWE-664\", \"CWE-707\"]},\n",
                "    {\"cwe_id\": \"CWE-470\", \"new_cwes\": [\"CWE-610\", \"CWE-664\"]},\n",
                "    {\"cwe_id\": \"CWE-502\", \"new_cwes\": [\"CWE-664\"]},\n",
                "    {\"cwe_id\": \"CWE-914\", \"new_cwes\": [\"CWE-99\", \"CWE-664\"]},\n",
                "    {\"cwe_id\": \"CWE-915\", \"new_cwes\": [\"CWE-664\"]},\n",
                "    # ----\n",
                "    {\"cwe_id\": \"CWE-15\", \"new_cwes\": [\"CWE-610\", \"CWE-642\"]},\n",
                "    {\"cwe_id\": \"CWE-73\", \"new_cwes\": [\"CWE-610\"]},\n",
                "    {\"cwe_id\": \"CWE-114\", \"new_cwes\": [\"CWE-610\"]},\n",
                "    {\"cwe_id\": \"CWE-384\", \"new_cwes\": [\"CWE-610\"]},\n",
                "    {\"cwe_id\": \"CWE-601\", \"new_cwes\": [\"CWE-610\"]},\n",
                "    {\"cwe_id\": \"CWE-611\", \"new_cwes\": [\"CWE-610\"]},\n",
                "    {\"cwe_id\": \"CWE-918\", \"new_cwes\": [\"CWE-610\"]},\n",
                "    {\"cwe_id\": \"CWE-1021\", \"new_cwes\": [\"CWE-610\"]},\n",
                "    # ---\n",
                "    {\"cwe_id\": \"CWE-285\", \"new_cwes\": [\"CWE-284\"]},\n",
                "    {\"cwe_id\": \"CWE-202\", \"new_cwes\": [\"CWE-284\"]},\n",
                "    {\"cwe_id\": \"CWE-276\", \"new_cwes\": [\"CWE-284\"]},\n",
                "    {\"cwe_id\": \"CWE-277\", \"new_cwes\": [\"CWE-284\"]},\n",
                "    {\"cwe_id\": \"CWE-279\", \"new_cwes\": [\"CWE-284\"]},\n",
                "    {\"cwe_id\": \"CWE-281\", \"new_cwes\": [\"CWE-284\"]},\n",
                "    {\"cwe_id\": \"CWE-539\", \"new_cwes\": [\"CWE-284\"]},\n",
                "    {\"cwe_id\": \"CWE-552\", \"new_cwes\": [\"CWE-284\", \"CWE-664\"]},\n",
                "    {\"cwe_id\": \"CWE-639\", \"new_cwes\": [\"CWE-284\"]},\n",
                "    {\"cwe_id\": \"CWE-732\", \"new_cwes\": [\"CWE-284\", \"CWE-664\"]},\n",
                "    {\"cwe_id\": \"CWE-862\", \"new_cwes\": [\"CWE-284\"]},\n",
                "    {\"cwe_id\": \"CWE-863\", \"new_cwes\": [\"CWE-284\"]},\n",
                "    {\"cwe_id\": \"CWE-942\", \"new_cwes\": [\"CWE-183\", \"CWE-284\", \"CWE-923\"]},\n",
                "    # ----\n",
                "    {\"cwe_id\": \"CWE-789\", \"new_cwes\": [\"CWE-664\"]},\n",
                "    {\"cwe_id\": \"CWE-1188\", \"new_cwes\": [\"CWE-664\"]},\n",
                "    # ----\n",
                "    {\"cwe_id\": \"CWE-295\", \"new_cwes\": [\"CWE-284\"]},\n",
                "    {\"cwe_id\": \"CWE-287\", \"new_cwes\": [\"CWE-284\"]},\n",
                "    {\"cwe_id\": \"CWE-288\", \"new_cwes\": [\"CWE-284\"]},\n",
                "    {\"cwe_id\": \"CWE-322\", \"new_cwes\": [\"CWE-284\"]},\n",
                "    {\"cwe_id\": \"CWE-425\", \"new_cwes\": [\"CWE-284\" , \"CWE-424\", \"CWE-862\"]},\n",
                "    {\"cwe_id\": \"CWE-425\", \"new_cwes\": [\"CWE-284\" , \"CWE-424\", \"CWE-862\"]},\n",
                "    # ----\n",
                "    {\"cwe_id\": \"CWE-78\", \"new_cwes\": [\"CWE-707\"]},\n",
                "    {\"cwe_id\": \"CWE-88\", \"new_cwes\": [\"CWE-707\"]},\n",
                "    {\"cwe_id\": \"CWE-77\", \"new_cwes\": [\"CWE-707\"]},\n",
                "    {\"cwe_id\": \"CWE-89\", \"new_cwes\": [\"CWE-707\"]},\n",
                "    # ---\n",
                "    {\"cwe_id\": \"CWE-352\", \"new_cwes\": [\"CWE-693\"]},\n",
                "    {\"cwe_id\": \"CWE-346\", \"new_cwes\": [\"CWE-693\", \"CWE-284\"]},\n",
                "    {\"cwe_id\": \"CWE-940\", \"new_cwes\": [\"CWE-693\", \"CWE-923\"]},\n",
                "    {\"cwe_id\": \"CWE-349\", \"new_cwes\": [\"CWE-693\"]},\n",
                "    {\"cwe_id\": \"CWE-347\", \"new_cwes\": [\"CWE-693\"]},\n",
                "    {\"cwe_id\": \"CWE-311\", \"new_cwes\": [\"CWE-693\"]},\n",
                "    {\"cwe_id\": \"CWE-312\", \"new_cwes\": [\"CWE-693\"]},\n",
                "    {\"cwe_id\": \"CWE-315\", \"new_cwes\": [\"CWE-693\"]},\n",
                "    {\"cwe_id\": \"CWE-354\", \"new_cwes\": [\"CWE-693\", \"CWE-754\"]},\n",
                "    {\"cwe_id\": \"CWE-494\", \"new_cwes\": [\"CWE-693\", \"CWE-669\"]},\n",
                "    {\"cwe_id\": \"CWE-614\", \"new_cwes\": [\"CWE-693\"]},\n",
                "    {\"cwe_id\": \"CWE-653\", \"new_cwes\": [\"CWE-693\", \"CWE-657\"]},\n",
                "    {\"cwe_id\": \"CWE-1189\", \"new_cwes\": [\"CWE-693\", \"CWE-664\"]},\n",
                "    {\"cwe_id\": \"CWE-602\", \"new_cwes\": [\"CWE-693\"]},\n",
                "    {\"cwe_id\": \"CWE-565\", \"new_cwes\": [\"CWE-693\", \"CWE-642\"]},\n",
                "    {\"cwe_id\": \"CWE-424\", \"new_cwes\": [\"CWE-693\", \"CWE-638\"]},\n",
                "    {\"cwe_id\": \"CWE-358\", \"new_cwes\": [\"CWE-693\", \"CWE-573\"]},\n",
                "    # ---\n",
                "    {\"cwe_id\": 'CWE-400', \"new_cwes\": ['CWE-664']},\n",
                "    {\"cwe_id\": 'CWE-404', \"new_cwes\": ['CWE-664']},\n",
                "    {\"cwe_id\": 'CWE-662', \"new_cwes\": ['CWE-664', 'CWE-691']},\n",
                "    {\"cwe_id\": 'CWE-665', \"new_cwes\": ['CWE-664']},\n",
                "    {\"cwe_id\": 'CWE-668', \"new_cwes\": ['CWE-664']},\n",
                "    {\"cwe_id\": 'CWE-669', \"new_cwes\": ['CWE-664']},\n",
                "    {\"cwe_id\": 'CWE-706', \"new_cwes\": ['CWE-664']},\n",
                "    {\"cwe_id\": 'CWE-913', \"new_cwes\": ['CWE-664']},\n",
                "    {\"cwe_id\": 'CWE-922', \"new_cwes\": ['CWE-664']},\n",
                "    # ---\n",
                "    {\"cwe_id\": 'CWE-203', \"new_cwes\": [\"CWE-200\"]},\n",
                "    {\"cwe_id\": 'CWE-204', \"new_cwes\": [\"CWE-200\"]},\n",
                "    {\"cwe_id\": 'CWE-208', \"new_cwes\": [\"CWE-200\"]},\n",
                "    {\"cwe_id\": 'CWE-532', \"new_cwes\": ['CWE-200']},\n",
                "    {\"cwe_id\": 'CWE-538', \"new_cwes\": ['CWE-200']},\n",
                "    # ---\n",
                "    {\"cwe_id\": 'CWE-1333', \"new_cwes\": ['CWE-400']},\n",
                "    {\"cwe_id\": 'CWE-407', \"new_cwes\": ['CWE-400']},\n",
                "    {\"cwe_id\": 'CWE-405', \"new_cwes\": ['CWE-400']},\n",
                "    # ---\n",
                "    {\"cwe_id\": 'CWE-613', \"new_cwes\": ['CWE-664']},\n",
                "    {\"cwe_id\": 'CWE-415', \"new_cwes\": [\"CWE-664\", \"CWE-1341\"]},\n",
                "    {\"cwe_id\": 'CWE-416', \"new_cwes\": ['CWE-664']},\n",
                "    {\"cwe_id\": 'CWE-672', \"new_cwes\": ['CWE-664']},\n",
                "    {\"cwe_id\": 'CWE-666', \"new_cwes\": ['CWE-664']},\n",
                "    # ---\n",
                "    {\"cwe_id\": 'CWE-362', \"new_cwes\": ['CWE-691']},\n",
                "    {\"cwe_id\": 'CWE-366', \"new_cwes\": ['CWE-691']},\n",
                "    {\"cwe_id\": 'CWE-367', \"new_cwes\": ['CWE-691']},\n",
                "    {\"cwe_id\": 'CWE-617', \"new_cwes\": ['CWE-691']},\n",
                "    {\"cwe_id\": 'CWE-670', \"new_cwes\": ['CWE-691']},\n",
                "    {\"cwe_id\": 'CWE-667', \"new_cwes\": ['CWE-691']},\n",
                "    {\"cwe_id\": 'CWE-833', \"new_cwes\": ['CWE-691']},\n",
                "    {\"cwe_id\": 'CWE-395', \"new_cwes\": ['CWE-691', \"CWE-755\"]},\n",
                "    {\"cwe_id\": 'CWE-248', \"new_cwes\": ['CWE-691', \"CWE-755\"]},\n",
                "    {\"cwe_id\": 'CWE-248', \"new_cwes\": ['CWE-691', \"CWE-1390\"]},\n",
                "    {\"cwe_id\": 'CWE-834', \"new_cwes\": ['CWE-691']},\n",
                "    {\"cwe_id\": 'CWE-674', \"new_cwes\": ['CWE-691']},\n",
                "    {\"cwe_id\": 'CWE-776', \"new_cwes\": ['CWE-691', \"CWE-405\"]},\n",
                "    {\"cwe_id\": 'CWE-835', \"new_cwes\": ['CWE-691']},\n",
                "    # ---\n",
                "    {\"cwe_id\": 'CWE-20', \"new_cwes\": ['CWE-707']},\n",
                "    {\"cwe_id\": 'CWE-74', \"new_cwes\": ['CWE-707']},\n",
                "    {\"cwe_id\": 'CWE-75', \"new_cwes\": ['CWE-707']},\n",
                "    {\"cwe_id\": 'CWE-76', \"new_cwes\": ['CWE-707']},\n",
                "    {\"cwe_id\": 'CWE-77', \"new_cwes\": ['CWE-707']},\n",
                "    {\"cwe_id\": 'CWE-78', \"new_cwes\": ['CWE-707']},\n",
                "    {\"cwe_id\": 'CWE-88', \"new_cwes\": ['CWE-707']},\n",
                "    {\"cwe_id\": 'CWE-116', \"new_cwes\": ['CWE-707']},\n",
                "    {\"cwe_id\": 'CWE-117', \"new_cwes\": ['CWE-707']},\n",
                "    {\"cwe_id\": 'CWE-1284', \"new_cwes\": ['CWE-707']},\n",
                "    {\"cwe_id\": 'CWE-129', \"new_cwes\": ['CWE-707']},\n",
                "    # ---\n",
                "    {\"cwe_id\": 'CWE-125', \"new_cwes\": ['CWE-664']},\n",
                "    {\"cwe_id\": 'CWE-120', \"new_cwes\": ['CWE-664']},\n",
                "    {\"cwe_id\": 'CWE-787', \"new_cwes\": ['CWE-664']},\n",
                "    {\"cwe_id\": 'CWE-122', \"new_cwes\": ['CWE-664']},\n",
                "    {\"cwe_id\": 'CWE-119', \"new_cwes\": ['CWE-664']},\n",
                "    {\"cwe_id\": 'CWE-118', \"new_cwes\": ['CWE-664']},\n",
                "    # ---\n",
                "    {\"cwe_id\": 'CWE-444', \"new_cwes\": ['CWE-435']},\n",
                "    {\"cwe_id\": 'CWE-436', \"new_cwes\": ['CWE-435']},\n",
                "    # ---\n",
                "    {\"cwe_id\": 'CWE-190', \"new_cwes\": ['CWE-682']},\n",
                "    {\"cwe_id\": 'CWE-131', \"new_cwes\": ['CWE-682']},\n",
                "    {\"cwe_id\": 'CWE-191', \"new_cwes\": ['CWE-682']},\n",
                "    {\"cwe_id\": 'CWE-369', \"new_cwes\": ['CWE-682']},\n",
                "    # ---\n",
                "    {\"cwe_id\": 'CWE-476', \"new_cwes\": ['CWE-710', \"CWE-703\"]},\n",
                "    {\"cwe_id\": 'CWE-252', \"new_cwes\": [\"CWE-703\"]},\n",
                "    {\"cwe_id\": 'CWE-253', \"new_cwes\": [\"CWE-703\", \"CWE-573\"]},\n",
                "    {\"cwe_id\": 'CWE-394', \"new_cwes\": [\"CWE-703\"]},\n",
                "    {\"cwe_id\": 'CWE-754', \"new_cwes\": [\"CWE-703\"]},\n",
                "    {\"cwe_id\": 'CWE-233', \"new_cwes\": [\"CWE-703\"]},\n",
                "    {\"cwe_id\": 'CWE-237', \"new_cwes\": [\"CWE-703\"]},\n",
                "    {\"cwe_id\": 'CWE-130', \"new_cwes\": [\"CWE-703\"]},\n",
                "    {\"cwe_id\": 'CWE-754', \"new_cwes\": [\"CWE-703\"]},\n",
                "    {\"cwe_id\": 'CWE-755', \"new_cwes\": [\"CWE-703\"]},\n",
                "    {\"cwe_id\": 'CWE-209', \"new_cwes\": [\"CWE-703\", \"CWE-200\"]},\n",
                "    {\"cwe_id\": 'CWE-273', \"new_cwes\": [\"CWE-703\", \"CWE-269\"]},\n",
                "    {\"cwe_id\": 'CWE-280', \"new_cwes\": [\"CWE-703\"]},\n",
                "    {\"cwe_id\": 'CWE-460', \"new_cwes\": [\"CWE-703\", \"CWE-459\"]},\n",
                "    # ---\n",
                "    # {\"cwe_id\": 'CWE-22', \"new_cwes\": [\"CWE-664\"]},\n",
                "    {\"cwe_id\": 'CWE-23', \"new_cwes\": [\"CWE-22\"]},\n",
                "    {\"cwe_id\": 'CWE-26', \"new_cwes\": [\"CWE-22\"]},\n",
                "    {\"cwe_id\": 'CWE-29', \"new_cwes\": [\"CWE-22\"]},\n",
                "    {\"cwe_id\": 'CWE-31', \"new_cwes\": [\"CWE-22\"]},\n",
                "    {\"cwe_id\": 'CWE-35', \"new_cwes\": [\"CWE-22\"]},\n",
                "    {\"cwe_id\": 'CWE-36', \"new_cwes\": [\"CWE-22\"]},\n",
                "])\n",
                "\n",
                "clustered_cwes = without_duplicates.explode(\"cwe_id\").join(VULNERABILITY_TYPES_MAPPING, on=\"cwe_id\", how=\"left\").explode(\"new_cwes\").with_columns(\n",
                "    pl.coalesce(pl.col(\"new_cwes\"), pl.col(\"cwe_id\")).alias(\"clustered_cwe_id\")   \n",
                ").group_by(\"vulnerability_id\").agg(pl.col(\"clustered_cwe_id\"))\n",
                "rare_cwes = filter_rare_cwes(clustered_cwes.explode(\"clustered_cwe_id\"), cwe_column=\"clustered_cwe_id\", filter_threshold=100)\n",
                "print(f\"Rare cwes amount: {rare_cwes.shape[0]}\")\n",
                "rare_cwes\n"
            ]
        },
        {
            "cell_type": "markdown",
            "metadata": {},
            "source": [
                "### Filter out rare cwes"
            ]
        },
        {
            "cell_type": "code",
            "execution_count": 179,
            "metadata": {},
            "outputs": [
                {
                    "name": "stdout",
                    "output_type": "stream",
                    "text": [
                        "1634\n",
                        "1174\n"
                    ]
                }
            ],
            "source": [
                "print(clustered_cwes.unique(\"vulnerability_id\").shape[0])\n",
                "rare_cwes_with_possible_sampling = filter_rare_cwes(clustered_cwes.explode(\"clustered_cwe_id\"), cwe_column=\"clustered_cwe_id\", filter_threshold=100)\n",
                "rare_cwes_list = rare_cwes_with_possible_sampling.select(\"clustered_cwe_id\").to_series().to_list()\n",
                "rare_cwes_with_possible_sampling = clustered_cwes.explode(\"clustered_cwe_id\").filter(pl.col(\"clustered_cwe_id\").is_in(rare_cwes_list).not_()).group_by(\n",
                "    \"vulnerability_id\"\n",
                ").agg(\"clustered_cwe_id\").with_columns(pl.col(\"clustered_cwe_id\").list.unique())\n",
                "\n",
                "clustered_filtered_data = without_duplicates.join(\n",
                "    rare_cwes_with_possible_sampling.select(\"vulnerability_id\", \"clustered_cwe_id\"), on=\"vulnerability_id\"\n",
                ")\n",
                "print(clustered_filtered_data.unique(\"vulnerability_id\").shape[0])\n"
            ]
        },
        {
            "cell_type": "code",
            "execution_count": 180,
            "metadata": {},
            "outputs": [
                {
                    "data": {
                        "text/html": [
                            "<div><style>\n",
                            ".dataframe > thead > tr,\n",
                            ".dataframe > tbody > tr {\n",
                            "  text-align: right;\n",
                            "  white-space: pre-wrap;\n",
                            "}\n",
                            "</style>\n",
                            "<small>shape: (2_553, 10)</small><table border=\"1\" class=\"dataframe\"><thead><tr><th>commit</th><th>repo</th><th>new_file</th><th>patch</th><th>code_unit_after_fix</th><th>vulnerability_id</th><th>cwe_id</th><th>old_file</th><th>code_unit_before_fix</th><th>clustered_cwe_id</th></tr><tr><td>str</td><td>str</td><td>str</td><td>str</td><td>str</td><td>str</td><td>list[str]</td><td>str</td><td>str</td><td>list[str]</td></tr></thead><tbody><tr><td>&quot;ab52630d0644e42a75eb88b78b9a9d…</td><td>&quot;python-pillow/Pillow&quot;</td><td>&quot;src/libImaging/SgiRleDecode.c&quot;</td><td>&quot;@@ -157,6 +157,11 @@ ImagingSg…</td><td>&quot;if (c-&gt;rleoffset + c-&gt;rlelengt…</td><td>&quot;2019-16865&quot;</td><td>[&quot;CWE-770&quot;]</td><td>&quot;src/libImaging/SgiRleDecode.c&quot;</td><td>&quot;&quot;</td><td>[&quot;CWE-664&quot;]</td></tr><tr><td>&quot;fe507474f77084faef4539101e2bbb…</td><td>&quot;hyperledger/indy-node&quot;</td><td>&quot;indy_node/utils/node_control_u…</td><td>&quot;@@ -199,9 +199,27 @@ def run_s…</td><td>&quot;class NodeControlUtil:\n",
                            "&nbsp;&nbsp;&nbsp;&nbsp;@cl…</td><td>&quot;2022-31020&quot;</td><td>[&quot;CWE-20&quot;, &quot;CWE-287&quot;]</td><td>&quot;indy_node/utils/node_control_u…</td><td>&quot;&quot;</td><td>[&quot;CWE-707&quot;, &quot;CWE-284&quot;]</td></tr><tr><td>&quot;8d76538d6e105947272b000581c6fa…</td><td>&quot;apache/airflow&quot;</td><td>&quot;airflow/api_connexion/endpoint…</td><td>&quot;@@ -17,25 +17,38 @@\n",
                            " from __fu…</td><td>&quot;from typing import TYPE_CHECKI…</td><td>&quot;2023-50944&quot;</td><td>[&quot;CWE-862&quot;]</td><td>&quot;airflow/api_connexion/endpoint…</td><td>&quot;from airflow.api_connexion.exc…</td><td>[&quot;CWE-284&quot;]</td></tr><tr><td>&quot;41bd3645bdb616e1248b2167ca8363…</td><td>&quot;gradio-app/gradio&quot;</td><td>&quot;gradio/networking.py&quot;</td><td>&quot;@@ -377,15 +377,14 @@ def inte…</td><td>&quot;def file(path):\n",
                            "&nbsp;&nbsp;&nbsp;&nbsp;if (\n",
                            "&nbsp;&nbsp;&nbsp;&nbsp;&nbsp;…</td><td>&quot;2021-43831&quot;</td><td>[&quot;CWE-22&quot;]</td><td>&quot;gradio/networking.py&quot;</td><td>&quot;def file(path):\n",
                            "&nbsp;&nbsp;&nbsp;&nbsp;path = sec…</td><td>[&quot;CWE-22&quot;]</td></tr><tr><td>&quot;424c68f15ad9f532d73e5afed33ff4…</td><td>&quot;ansible/ansible&quot;</td><td>&quot;lib/ansible/plugins/connection…</td><td>&quot;@@ -273,11 +273,14 @@ def wrap…</td><td>&quot;def wrapped(self, *args, **kwa…</td><td>&quot;2018-16876&quot;</td><td>[&quot;CWE-200&quot;]</td><td>&quot;lib/ansible/plugins/connection…</td><td>&quot;def wrapped(self, *args, **kwa…</td><td>[&quot;CWE-200&quot;]</td></tr><tr><td>&hellip;</td><td>&hellip;</td><td>&hellip;</td><td>&hellip;</td><td>&hellip;</td><td>&hellip;</td><td>&hellip;</td><td>&hellip;</td><td>&hellip;</td><td>&hellip;</td></tr><tr><td>&quot;5ed9478fdef96a06eeec9093f9e768…</td><td>&quot;PaddlePaddle/Paddle&quot;</td><td>&quot;python/paddle/jit/dy2static/co…</td><td>&quot;@@ -693,77 +693,6 @@ def has_n…</td><td>&quot;&quot;</td><td>&quot;2023-52314&quot;</td><td>[&quot;CWE-78&quot;]</td><td>&quot;python/paddle/jit/dy2static/co…</td><td>&quot;def convert_shape_compare(left…</td><td>[&quot;CWE-707&quot;]</td></tr><tr><td>&quot;2c11575b1a3dd8b0df26a879ba856c…</td><td>&quot;thinkst/opencanary&quot;</td><td>&quot;opencanary/modules/portscan.py&quot;</td><td>&quot;@@ -1,8 +1,8 @@\n",
                            " from opencana…</td><td>&quot;from opencanary import safe_ex…</td><td>&quot;2024-48911&quot;</td><td>[&quot;CWE-863&quot;]</td><td>&quot;opencanary/modules/portscan.py&quot;</td><td>&quot;import subprocess\n",
                            "def detectNF…</td><td>[&quot;CWE-284&quot;]</td></tr><tr><td>&quot;6cde16f3f4711583ae4d896dfcc125…</td><td>&quot;NVIDIA/NVFlare&quot;</td><td>&quot;nvflare/app_common/abstract/le…</td><td>&quot;@@ -13,8 +13,7 @@\n",
                            " # limitatio…</td><td>&quot;from nvflare.fuel.utils import…</td><td>&quot;2022-34668&quot;</td><td>[&quot;CWE-502&quot;]</td><td>&quot;nvflare/app_common/abstract/le…</td><td>&quot;import pickle\n",
                            "class Learnable(…</td><td>[&quot;CWE-664&quot;]</td></tr><tr><td>&quot;73eb03bd75365e112b39877e26ef52…</td><td>&quot;ubertidavide/fastbots&quot;</td><td>&quot;fastbots/exceptions.py&quot;</td><td>&quot;@@ -23,3 +23,17 @@ def __init_…</td><td>&quot;class ExpectedUrlError(Generic…</td><td>&quot;2023-48699&quot;</td><td>[&quot;CWE-94&quot;, &quot;CWE-95&quot;]</td><td>&quot;fastbots/exceptions.py&quot;</td><td>&quot;&quot;</td><td>[&quot;CWE-707&quot;, &quot;CWE-664&quot;]</td></tr><tr><td>&quot;7393d87bd354e43120937789956175…</td><td>&quot;lektor/lektor&quot;</td><td>&quot;lektor/editor.py&quot;</td><td>&quot;@@ -16,8 +16,10 @@\n",
                            " from lekto…</td><td>&quot;from lektor.utils import clean…</td><td>&quot;2024-28335&quot;</td><td>[&quot;CWE-22&quot;]</td><td>&quot;lektor/editor.py&quot;</td><td>&quot;&quot;</td><td>[&quot;CWE-22&quot;]</td></tr></tbody></table></div>"
                        ],
                        "text/plain": [
                            "shape: (2_553, 10)\n",
                            "┌───────────┬───────────┬───────────┬───────────┬───┬───────────┬───────────┬───────────┬──────────┐\n",
                            "│ commit    ┆ repo      ┆ new_file  ┆ patch     ┆ … ┆ cwe_id    ┆ old_file  ┆ code_unit ┆ clustere │\n",
                            "│ ---       ┆ ---       ┆ ---       ┆ ---       ┆   ┆ ---       ┆ ---       ┆ _before_f ┆ d_cwe_id │\n",
                            "│ str       ┆ str       ┆ str       ┆ str       ┆   ┆ list[str] ┆ str       ┆ ix        ┆ ---      │\n",
                            "│           ┆           ┆           ┆           ┆   ┆           ┆           ┆ ---       ┆ list[str │\n",
                            "│           ┆           ┆           ┆           ┆   ┆           ┆           ┆ str       ┆ ]        │\n",
                            "╞═══════════╪═══════════╪═══════════╪═══════════╪═══╪═══════════╪═══════════╪═══════════╪══════════╡\n",
                            "│ ab52630d0 ┆ python-pi ┆ src/libIm ┆ @@ -157,6 ┆ … ┆ [\"CWE-770 ┆ src/libIm ┆           ┆ [\"CWE-66 │\n",
                            "│ 644e42a75 ┆ llow/Pill ┆ aging/Sgi ┆ +157,11   ┆   ┆ \"]        ┆ aging/Sgi ┆           ┆ 4\"]      │\n",
                            "│ eb88b78b9 ┆ ow        ┆ RleDecode ┆ @@ Imagin ┆   ┆           ┆ RleDecode ┆           ┆          │\n",
                            "│ a9d…      ┆           ┆ .c        ┆ gSg…      ┆   ┆           ┆ .c        ┆           ┆          │\n",
                            "│ fe507474f ┆ hyperledg ┆ indy_node ┆ @@ -199,9 ┆ … ┆ [\"CWE-20\" ┆ indy_node ┆           ┆ [\"CWE-70 │\n",
                            "│ 77084faef ┆ er/indy-n ┆ /utils/no ┆ +199,27   ┆   ┆ , \"CWE-28 ┆ /utils/no ┆           ┆ 7\", \"CWE │\n",
                            "│ 4539101e2 ┆ ode       ┆ de_contro ┆ @@ def    ┆   ┆ 7\"]       ┆ de_contro ┆           ┆ -284\"]   │\n",
                            "│ bbb…      ┆           ┆ l_u…      ┆ run_s…    ┆   ┆           ┆ l_u…      ┆           ┆          │\n",
                            "│ 8d76538d6 ┆ apache/ai ┆ airflow/a ┆ @@ -17,25 ┆ … ┆ [\"CWE-862 ┆ airflow/a ┆ from airf ┆ [\"CWE-28 │\n",
                            "│ e10594727 ┆ rflow     ┆ pi_connex ┆ +17,38 @@ ┆   ┆ \"]        ┆ pi_connex ┆ low.api_c ┆ 4\"]      │\n",
                            "│ 2b000581c ┆           ┆ ion/endpo ┆ from      ┆   ┆           ┆ ion/endpo ┆ onnexion. ┆          │\n",
                            "│ 6fa…      ┆           ┆ int…      ┆ __fu…     ┆   ┆           ┆ int…      ┆ exc…      ┆          │\n",
                            "│ 41bd3645b ┆ gradio-ap ┆ gradio/ne ┆ @@        ┆ … ┆ [\"CWE-22\" ┆ gradio/ne ┆ def file( ┆ [\"CWE-22 │\n",
                            "│ db616e124 ┆ p/gradio  ┆ tworking. ┆ -377,15   ┆   ┆ ]         ┆ tworking. ┆ path):    ┆ \"]       │\n",
                            "│ 8b2167ca8 ┆           ┆ py        ┆ +377,14   ┆   ┆           ┆ py        ┆ path =    ┆          │\n",
                            "│ 363…      ┆           ┆           ┆ @@ def    ┆   ┆           ┆           ┆ sec…      ┆          │\n",
                            "│           ┆           ┆           ┆ inte…     ┆   ┆           ┆           ┆           ┆          │\n",
                            "│ 424c68f15 ┆ ansible/a ┆ lib/ansib ┆ @@        ┆ … ┆ [\"CWE-200 ┆ lib/ansib ┆ def wrapp ┆ [\"CWE-20 │\n",
                            "│ ad9f532d7 ┆ nsible    ┆ le/plugin ┆ -273,11   ┆   ┆ \"]        ┆ le/plugin ┆ ed(self,  ┆ 0\"]      │\n",
                            "│ 3e5afed33 ┆           ┆ s/connect ┆ +273,14   ┆   ┆           ┆ s/connect ┆ *args,    ┆          │\n",
                            "│ ff4…      ┆           ┆ ion…      ┆ @@ def    ┆   ┆           ┆ ion…      ┆ **kwa…    ┆          │\n",
                            "│           ┆           ┆           ┆ wrap…     ┆   ┆           ┆           ┆           ┆          │\n",
                            "│ …         ┆ …         ┆ …         ┆ …         ┆ … ┆ …         ┆ …         ┆ …         ┆ …        │\n",
                            "│ 5ed9478fd ┆ PaddlePad ┆ python/pa ┆ @@        ┆ … ┆ [\"CWE-78\" ┆ python/pa ┆ def conve ┆ [\"CWE-70 │\n",
                            "│ ef96a06ee ┆ dle/Paddl ┆ ddle/jit/ ┆ -693,77   ┆   ┆ ]         ┆ ddle/jit/ ┆ rt_shape_ ┆ 7\"]      │\n",
                            "│ ec9093f9e ┆ e         ┆ dy2static ┆ +693,6 @@ ┆   ┆           ┆ dy2static ┆ compare(l ┆          │\n",
                            "│ 768…      ┆           ┆ /co…      ┆ def       ┆   ┆           ┆ /co…      ┆ eft…      ┆          │\n",
                            "│           ┆           ┆           ┆ has_n…    ┆   ┆           ┆           ┆           ┆          │\n",
                            "│ 2c11575b1 ┆ thinkst/o ┆ opencanar ┆ @@ -1,8   ┆ … ┆ [\"CWE-863 ┆ opencanar ┆ import    ┆ [\"CWE-28 │\n",
                            "│ a3dd8b0df ┆ pencanary ┆ y/modules ┆ +1,8 @@   ┆   ┆ \"]        ┆ y/modules ┆ subproces ┆ 4\"]      │\n",
                            "│ 26a879ba8 ┆           ┆ /portscan ┆ from      ┆   ┆           ┆ /portscan ┆ s         ┆          │\n",
                            "│ 56c…      ┆           ┆ .py       ┆ opencana… ┆   ┆           ┆ .py       ┆ def       ┆          │\n",
                            "│           ┆           ┆           ┆           ┆   ┆           ┆           ┆ detectNF… ┆          │\n",
                            "│ 6cde16f3f ┆ NVIDIA/NV ┆ nvflare/a ┆ @@ -13,8  ┆ … ┆ [\"CWE-502 ┆ nvflare/a ┆ import    ┆ [\"CWE-66 │\n",
                            "│ 4711583ae ┆ Flare     ┆ pp_common ┆ +13,7 @@  ┆   ┆ \"]        ┆ pp_common ┆ pickle    ┆ 4\"]      │\n",
                            "│ 4d896dfcc ┆           ┆ /abstract ┆ # limitat ┆   ┆           ┆ /abstract ┆ class Lea ┆          │\n",
                            "│ 125…      ┆           ┆ /le…      ┆ io…       ┆   ┆           ┆ /le…      ┆ rnable(…  ┆          │\n",
                            "│ 73eb03bd7 ┆ ubertidav ┆ fastbots/ ┆ @@ -23,3  ┆ … ┆ [\"CWE-94\" ┆ fastbots/ ┆           ┆ [\"CWE-70 │\n",
                            "│ 5365e112b ┆ ide/fastb ┆ exception ┆ +23,17 @@ ┆   ┆ ,         ┆ exception ┆           ┆ 7\", \"CWE │\n",
                            "│ 39877e26e ┆ ots       ┆ s.py      ┆ def       ┆   ┆ \"CWE-95\"] ┆ s.py      ┆           ┆ -664\"]   │\n",
                            "│ f52…      ┆           ┆           ┆ __init_…  ┆   ┆           ┆           ┆           ┆          │\n",
                            "│ 7393d87bd ┆ lektor/le ┆ lektor/ed ┆ @@ -16,8  ┆ … ┆ [\"CWE-22\" ┆ lektor/ed ┆           ┆ [\"CWE-22 │\n",
                            "│ 354e43120 ┆ ktor      ┆ itor.py   ┆ +16,10 @@ ┆   ┆ ]         ┆ itor.py   ┆           ┆ \"]       │\n",
                            "│ 937789956 ┆           ┆           ┆ from      ┆   ┆           ┆           ┆           ┆          │\n",
                            "│ 175…      ┆           ┆           ┆ lekto…    ┆   ┆           ┆           ┆           ┆          │\n",
                            "└───────────┴───────────┴───────────┴───────────┴───┴───────────┴───────────┴───────────┴──────────┘"
                        ]
                    },
                    "execution_count": 180,
                    "metadata": {},
                    "output_type": "execute_result"
                }
            ],
            "source": [
                "clustered_filtered_data.write_parquet(PYTHON_VULNERABILITIES_WITHOUT_BALANCING)\n",
                "clustered_filtered_data"
            ]
        },
        {
            "cell_type": "markdown",
            "metadata": {},
            "source": [
                "## Analyze a relevance of rare cwes"
            ]
        },
        {
            "cell_type": "code",
            "execution_count": 185,
            "metadata": {},
            "outputs": [
                {
                    "name": "stdout",
                    "output_type": "stream",
                    "text": [
                        "CWE-284\n",
                        "CWE-200\n",
                        "CWE-79\n",
                        "CWE-22\n",
                        "CWE-610\n"
                    ]
                },
                {
                    "data": {
                        "image/png": "[encoded data removed]",
                        "text/plain": [
                            "<Figure size 1200x700 with 6 Axes>"
                        ]
                    },
                    "metadata": {},
                    "output_type": "display_data"
                }
            ],
            "source": [
                "possible_to_sample_cwes = clustered_filtered_data.explode(\"clustered_cwe_id\").select(\"clustered_cwe_id\", \"vulnerability_id\").drop_nulls().unique([\"clustered_cwe_id\", \"vulnerability_id\"]).to_series().value_counts().sort(\n",
                "    \"count\", descending=True\n",
                ").filter(pl.col(\"count\") < 200)\n",
                "\n",
                "vulnerability_year = python_vulnerability_fixes.select(\"vulnerability_id\", \"patch_time\").with_columns(pl.col(\"patch_time\").cast(pl.Date).dt.year().alias(\"year\"))\n",
                "vulnerabilities_types_per_year = clustered_filtered_data.join(\n",
                "    vulnerability_year, on=\"vulnerability_id\"\n",
                ").explode(\"clustered_cwe_id\").unique([\"clustered_cwe_id\", \"vulnerability_id\", \"year\"]).group_by(\"clustered_cwe_id\", \"year\").agg(pl.col(\"vulnerability_id\").count().alias(\"count\")).sort(\"year\")\n",
                "\n",
                "fig,axes = plt.subplots(nrows=2, ncols=3,figsize=(12, 7))\n",
                "\n",
                "for idx, cwe_id in enumerate(possible_to_sample_cwes.select(\"clustered_cwe_id\").to_series()):\n",
                "    print(cwe_id)\n",
                "    data = vulnerabilities_types_per_year.filter(pl.col(\"clustered_cwe_id\") == cwe_id).to_pandas()\n",
                "    ax = plt.subplot(2, 3, idx+1)\n",
                "    ax.set_title(cwe_id)\n",
                "    ax.set_xlabel(\"Year\")\n",
                "    ax.set_ylabel(\"Amount\")\n",
                "    ax.plot(data[\"year\"], data[\"count\"], label=cwe_id)\n",
                "fig.tight_layout()"
            ]
        },
        {
            "cell_type": "code",
            "execution_count": 186,
            "metadata": {},
            "outputs": [
                {
                    "data": {
                        "text/html": [
                            "<div><style>\n",
                            ".dataframe > thead > tr,\n",
                            ".dataframe > tbody > tr {\n",
                            "  text-align: right;\n",
                            "  white-space: pre-wrap;\n",
                            "}\n",
                            "</style>\n",
                            "<small>shape: (9, 11)</small><table border=\"1\" class=\"dataframe\"><thead><tr><th>statistic</th><th>commit</th><th>repo</th><th>new_file</th><th>patch</th><th>code_unit_after_fix</th><th>vulnerability_id</th><th>cwe_id</th><th>old_file</th><th>code_unit_before_fix</th><th>clustered_cwe_id</th></tr><tr><td>str</td><td>str</td><td>str</td><td>str</td><td>str</td><td>str</td><td>str</td><td>f64</td><td>str</td><td>str</td><td>f64</td></tr></thead><tbody><tr><td>&quot;count&quot;</td><td>&quot;2553&quot;</td><td>&quot;2553&quot;</td><td>&quot;2553&quot;</td><td>&quot;2553&quot;</td><td>&quot;2553&quot;</td><td>&quot;2553&quot;</td><td>2553.0</td><td>&quot;2553&quot;</td><td>&quot;2553&quot;</td><td>2553.0</td></tr><tr><td>&quot;null_count&quot;</td><td>&quot;0&quot;</td><td>&quot;0&quot;</td><td>&quot;0&quot;</td><td>&quot;0&quot;</td><td>&quot;0&quot;</td><td>&quot;0&quot;</td><td>0.0</td><td>&quot;0&quot;</td><td>&quot;0&quot;</td><td>0.0</td></tr><tr><td>&quot;mean&quot;</td><td>null</td><td>null</td><td>null</td><td>null</td><td>null</td><td>null</td><td>null</td><td>null</td><td>null</td><td>null</td></tr><tr><td>&quot;std&quot;</td><td>null</td><td>null</td><td>null</td><td>null</td><td>null</td><td>null</td><td>null</td><td>null</td><td>null</td><td>null</td></tr><tr><td>&quot;min&quot;</td><td>&quot;001b0634cd309e372edb6d7d95d083…</td><td>&quot;389ds/389-ds-base&quot;</td><td>&quot;CalendarinhoApp/authentication…</td><td>&quot;@@ -1 +1 @@\n",
                            "-__version__ = &quot;1.…</td><td>&quot;&quot;</td><td>&quot;2013-0212&quot;</td><td>null</td><td>&quot;CalendarinhoApp/authentication…</td><td>&quot;&quot;</td><td>null</td></tr><tr><td>&quot;25%&quot;</td><td>null</td><td>null</td><td>null</td><td>null</td><td>null</td><td>null</td><td>null</td><td>null</td><td>null</td><td>null</td></tr><tr><td>&quot;50%&quot;</td><td>null</td><td>null</td><td>null</td><td>null</td><td>null</td><td>null</td><td>null</td><td>null</td><td>null</td><td>null</td></tr><tr><td>&quot;75%&quot;</td><td>null</td><td>null</td><td>null</td><td>null</td><td>null</td><td>null</td><td>null</td><td>null</td><td>null</td><td>null</td></tr><tr><td>&quot;max&quot;</td><td>&quot;ffc095a3e5acc1c404773a0510e6d0…</td><td>&quot;zwczou/weixin-python&quot;</td><td>&quot;zproject/urls.py&quot;</td><td>&quot;@@ -99,7 +99,9 @@ extern &quot;C&quot; {…</td><td>&quot;} else {\n",
                            "&nbsp;&nbsp;&nbsp;&nbsp;&nbsp;&nbsp;&nbsp;&nbsp;actionsTempla…</td><td>&quot;GHSA-x563-6hqv-26mr&quot;</td><td>null</td><td>&quot;zproject/urls.py&quot;</td><td>&quot;},\n",
                            "&nbsp;&nbsp;&nbsp;&nbsp;&nbsp;&nbsp;&nbsp;&nbsp;&quot;scope&quot;: {\n",
                            "&nbsp;&nbsp;&nbsp;&nbsp;&nbsp;&nbsp;&nbsp;&nbsp;…</td><td>null</td></tr></tbody></table></div>"
                        ],
                        "text/plain": [
                            "shape: (9, 11)\n",
                            "┌────────────┬────────────┬───────────┬───────────┬───┬────────┬───────────┬───────────┬───────────┐\n",
                            "│ statistic  ┆ commit     ┆ repo      ┆ new_file  ┆ … ┆ cwe_id ┆ old_file  ┆ code_unit ┆ clustered │\n",
                            "│ ---        ┆ ---        ┆ ---       ┆ ---       ┆   ┆ ---    ┆ ---       ┆ _before_f ┆ _cwe_id   │\n",
                            "│ str        ┆ str        ┆ str       ┆ str       ┆   ┆ f64    ┆ str       ┆ ix        ┆ ---       │\n",
                            "│            ┆            ┆           ┆           ┆   ┆        ┆           ┆ ---       ┆ f64       │\n",
                            "│            ┆            ┆           ┆           ┆   ┆        ┆           ┆ str       ┆           │\n",
                            "╞════════════╪════════════╪═══════════╪═══════════╪═══╪════════╪═══════════╪═══════════╪═══════════╡\n",
                            "│ count      ┆ 2553       ┆ 2553      ┆ 2553      ┆ … ┆ 2553.0 ┆ 2553      ┆ 2553      ┆ 2553.0    │\n",
                            "│ null_count ┆ 0          ┆ 0         ┆ 0         ┆ … ┆ 0.0    ┆ 0         ┆ 0         ┆ 0.0       │\n",
                            "│ mean       ┆ null       ┆ null      ┆ null      ┆ … ┆ null   ┆ null      ┆ null      ┆ null      │\n",
                            "│ std        ┆ null       ┆ null      ┆ null      ┆ … ┆ null   ┆ null      ┆ null      ┆ null      │\n",
                            "│ min        ┆ 001b0634cd ┆ 389ds/389 ┆ Calendari ┆ … ┆ null   ┆ Calendari ┆           ┆ null      │\n",
                            "│            ┆ 309e372edb ┆ -ds-base  ┆ nhoApp/au ┆   ┆        ┆ nhoApp/au ┆           ┆           │\n",
                            "│            ┆ 6d7d95d083 ┆           ┆ thenticat ┆   ┆        ┆ thenticat ┆           ┆           │\n",
                            "│            ┆ …          ┆           ┆ ion…      ┆   ┆        ┆ ion…      ┆           ┆           │\n",
                            "│ 25%        ┆ null       ┆ null      ┆ null      ┆ … ┆ null   ┆ null      ┆ null      ┆ null      │\n",
                            "│ 50%        ┆ null       ┆ null      ┆ null      ┆ … ┆ null   ┆ null      ┆ null      ┆ null      │\n",
                            "│ 75%        ┆ null       ┆ null      ┆ null      ┆ … ┆ null   ┆ null      ┆ null      ┆ null      │\n",
                            "│ max        ┆ ffc095a3e5 ┆ zwczou/we ┆ zproject/ ┆ … ┆ null   ┆ zproject/ ┆ },        ┆ null      │\n",
                            "│            ┆ acc1c40477 ┆ ixin-pyth ┆ urls.py   ┆   ┆        ┆ urls.py   ┆ \"scope\":  ┆           │\n",
                            "│            ┆ 3a0510e6d0 ┆ on        ┆           ┆   ┆        ┆           ┆ {         ┆           │\n",
                            "│            ┆ …          ┆           ┆           ┆   ┆        ┆           ┆         … ┆           │\n",
                            "└────────────┴────────────┴───────────┴───────────┴───┴────────┴───────────┴───────────┴───────────┘"
                        ]
                    },
                    "execution_count": 186,
                    "metadata": {},
                    "output_type": "execute_result"
                }
            ],
            "source": [
                "clustered_filtered_data.describe()"
            ]
        },
        {
            "cell_type": "markdown",
            "metadata": {},
            "source": [
                "### Jensen-Shannon Divergence metric"
            ]
        },
        {
            "cell_type": "code",
            "execution_count": 187,
            "metadata": {},
            "outputs": [
                {
                    "name": "stdout",
                    "output_type": "stream",
                    "text": [
                        "shape: (11, 3)\n",
                        "┌───────┬───────┬───────────┐\n",
                        "│ Year1 ┆ Year2 ┆ JSD_Value │\n",
                        "│ ---   ┆ ---   ┆ ---       │\n",
                        "│ i64   ┆ i64   ┆ f64       │\n",
                        "╞═══════╪═══════╪═══════════╡\n",
                        "│ 2013  ┆ 2014  ┆ 0.660044  │\n",
                        "│ 2014  ┆ 2015  ┆ 0.490783  │\n",
                        "│ 2015  ┆ 2016  ┆ 0.705995  │\n",
                        "│ 2016  ┆ 2017  ┆ 0.688352  │\n",
                        "│ 2017  ┆ 2018  ┆ 0.658297  │\n",
                        "│ …     ┆ …     ┆ …         │\n",
                        "│ 2019  ┆ 2020  ┆ 0.650075  │\n",
                        "│ 2020  ┆ 2021  ┆ 0.624772  │\n",
                        "│ 2021  ┆ 2022  ┆ 0.537707  │\n",
                        "│ 2022  ┆ 2023  ┆ 0.49521   │\n",
                        "│ 2023  ┆ 2024  ┆ 0.459022  │\n",
                        "└───────┴───────┴───────────┘\n"
                    ]
                },
                {
                    "name": "stderr",
                    "output_type": "stream",
                    "text": [
                        "/var/folders/cy/xkclg4xd0gjglf9yxn33fv6r0000gn/T/ipykernel_49728/1897575878.py:12: DeprecationWarning: `pl.count()` is deprecated. Please use `pl.len()` instead.\n",
                        "  dist = data_with_year.group_by([\"year\", \"cwe_id\"]).agg(pl.count().alias(\"count\"))\n",
                        "/var/folders/cy/xkclg4xd0gjglf9yxn33fv6r0000gn/T/ipykernel_49728/1897575878.py:47: DataOrientationWarning: Row orientation inferred during DataFrame construction. Explicitly specify the orientation by passing `orient=\"row\"` to silence this warning.\n",
                        "  jsd_df = pl.DataFrame(jsd_results, schema=[\"Year1\", \"Year2\", \"JSD_Value\"])\n"
                    ]
                }
            ],
            "source": [
                "import polars as pl\n",
                "import numpy as np\n",
                "from scipy.spatial.distance import jensenshannon\n",
                "\n",
                "vulnerability_year = python_vulnerability_fixes.select(\"vulnerability_id\", \"patch_time\").with_columns(pl.col(\"patch_time\").cast(pl.Date).dt.year().alias(\"year\"))\n",
                "data_with_year = clustered_filtered_data.join(vulnerability_year, on=\"vulnerability_id\").explode(\"cwe_id\")\n",
                "\n",
                "# Ensure 'year' is treated as an integer\n",
                "data_with_year = data_with_year.with_columns(pl.col(\"year\").cast(pl.Int32)).filter(pl.col(\"year\") < 2025)\n",
                "\n",
                "# Aggregate counts of vulnerabilities per year per CWE\n",
                "dist = data_with_year.group_by([\"year\", \"cwe_id\"]).agg(pl.count().alias(\"count\"))\n",
                "\n",
                "# Get unique years\n",
                "years = dist[\"year\"].unique().sort()\n",
                "if len(years) < 2:\n",
                "    raise ValueError(\"Dataset must have at least two different years for comparison.\")\n",
                "\n",
                "# Convert into a probability distribution per year\n",
                "prob_distributions = {}\n",
                "total_counts_per_year = dist.group_by(\"year\").agg(pl.sum(\"count\").alias(\"total\"))\n",
                "\n",
                "# Normalize distributions\n",
                "for year in years:\n",
                "    year_data = dist.filter(pl.col(\"year\") == year)\n",
                "    total = total_counts_per_year.filter(pl.col(\"year\") == year)[\"total\"][0]\n",
                "    prob_distribution = year_data.with_columns((pl.col(\"count\") / total).alias(\"prob\"))\n",
                "    prob_distributions[year] = dict(zip(prob_distribution[\"cwe_id\"], prob_distribution[\"prob\"]))\n",
                "\n",
                "# Get all unique CWE IDs to align distributions\n",
                "all_cwe_ids = set().union(*[set(p.keys()) for p in prob_distributions.values()])\n",
                "\n",
                "# Convert distributions into aligned probability vectors\n",
                "def get_probability_vector(year):\n",
                "    return np.array([prob_distributions[year].get(cwe, 0) for cwe in all_cwe_ids])\n",
                "\n",
                "# Compute JSD between consecutive years\n",
                "jsd_results = []\n",
                "for i in range(len(years) - 1):\n",
                "    year1, year2 = years[i], years[i + 1]\n",
                "    p = get_probability_vector(year1)\n",
                "    q = get_probability_vector(year2)\n",
                "    jsd = jensenshannon(p, q)\n",
                "    jsd_results.append((year1, year2, jsd))\n",
                "\n",
                "# Convert results into a DataFrame and display\n",
                "jsd_df = pl.DataFrame(jsd_results, schema=[\"Year1\", \"Year2\", \"JSD_Value\"])\n",
                "print(jsd_df)"
            ]
        },
        {
            "cell_type": "code",
            "execution_count": 188,
            "metadata": {},
            "outputs": [
                {
                    "data": {
                        "image/png": "[encoded data removed]",
                        "text/plain": [
                            "<Figure size 1000x500 with 1 Axes>"
                        ]
                    },
                    "metadata": {},
                    "output_type": "display_data"
                }
            ],
            "source": [
                "import matplotlib.pyplot as plt\n",
                "\n",
                "# Extract values for plotting\n",
                "years1 = jsd_df[\"Year1\"].to_list()\n",
                "years2 = jsd_df[\"Year2\"].to_list()\n",
                "jsd_values = jsd_df[\"JSD_Value\"].to_list()\n",
                "\n",
                "# Compute mid-points of year pairs for plotting\n",
                "mid_years = [(y1 + y2) / 2 for y1, y2 in zip(years1, years2)]\n",
                "\n",
                "# Plot JSD over time\n",
                "plt.figure(figsize=(10, 5))\n",
                "plt.plot(mid_years, jsd_values, marker='o', linestyle='-', linewidth=2, markersize=6)\n",
                "\n",
                "# Labels and title\n",
                "plt.xlabel(\"Year (Midpoint)\")\n",
                "plt.ylabel(\"Jensen-Shannon Divergence\")\n",
                "plt.title(\"Jensen-Shannon Divergence of Vulnerability Trends Over Time\")\n",
                "plt.grid(True)\n",
                "\n",
                "# Show the plot\n",
                "plt.show()\n"
            ]
        },
        {
            "cell_type": "code",
            "execution_count": null,
            "metadata": {},
            "outputs": [],
            "source": []
        }
    ],
    "metadata": {
        "kernelspec": {
            "display_name": "open-source-code-vulnerabilities-dataset-7Yku5KZk-py3.12",
            "language": "python",
            "name": "python3"
        },
        "language_info": {
            "codemirror_mode": {
                "name": "ipython",
                "version": 3
            },
            "file_extension": ".py",
            "mimetype": "text/x-python",
            "name": "python",
            "nbconvert_exporter": "python",
            "pygments_lexer": "ipython3",
            "version": "3.12.8"
        }
    },
    "nbformat": 4,
    "nbformat_minor": 2
}