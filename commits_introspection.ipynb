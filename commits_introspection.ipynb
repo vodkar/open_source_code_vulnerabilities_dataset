{
 "cells": [
  {
   "cell_type": "code",
   "execution_count": 4,
   "metadata": {},
   "outputs": [],
   "source": [
    "import polars as pl\n",
    "from src.paths import (\n",
    "    PYTHON_VULNERABILITY_FIXES_DATA_PATH,\n",
    "    PYTHON_CODE_FIXES_DATA_PATH,\n",
    "    PYTHON_CODE_FIXES_WITH_CONTEXT_DATA_PATH,\n",
    "    PYTHON_CODE_UNITS_DATA_PATH,\n",
    "    PYTHON_CODE_CONTEXT_DATA_PATH,\n",
    ")\n",
    "from tqdm import tqdm\n",
    "import jedi\n",
    "import whatthepatch\n",
    "from git import Repo\n",
    "from typing import Any\n",
    "import jedi.api\n",
    "import jedi.common\n",
    "import json\n",
    "\n",
    "from src.process_code_changes import get_changes"
   ]
  },
  {
   "cell_type": "markdown",
   "metadata": {},
   "source": [
    "## Filter out data"
   ]
  },
  {
   "cell_type": "code",
   "execution_count": 5,
   "metadata": {},
   "outputs": [
    {
     "name": "stdout",
     "output_type": "stream",
     "text": [
      "1805\n",
      "1803\n"
     ]
    }
   ],
   "source": [
    "# python_commit_data = commit_data_only_top_langs.filter(pl.col(\"language\") == \"Python\")\n",
    "python_vulnerability_fixes = pl.read_parquet(PYTHON_VULNERABILITY_FIXES_DATA_PATH)\n",
    "print(python_vulnerability_fixes.unique(\"vulnerability_id\").shape[0])\n",
    "python_vulnerability_fixes = python_vulnerability_fixes.group_by('vulnerability_id', 'repo', 'commit', 'pull_request_number', 'file', 'patch', 'patch_time', 'commit_source', 'file_extension', 'language').agg(pl.col(\"cwe_id\"))\n",
    "python_vulnerability_fixes = python_vulnerability_fixes.unique(\"patch\")\n",
    "print(python_vulnerability_fixes.unique(\"vulnerability_id\").shape[0])\n"
   ]
  },
  {
   "cell_type": "markdown",
   "metadata": {},
   "source": [
    "## Filter out data connected with test functionallity"
   ]
  },
  {
   "cell_type": "code",
   "execution_count": 6,
   "metadata": {},
   "outputs": [
    {
     "data": {
      "text/plain": [
       "1795"
      ]
     },
     "execution_count": 6,
     "metadata": {},
     "output_type": "execute_result"
    }
   ],
   "source": [
    "python_vulnerability_fixes = python_vulnerability_fixes.filter(\n",
    "    (\n",
    "        pl.col(\"file\").str.contains(r\"\\/{0,1}[tT][eE][sS][tT][sS]{0,1}\\/\")\n",
    "        | pl.col(\"patch\").str.contains(\"pytest\")\n",
    "        | pl.col(\"patch\").str.contains(\"unittest\")\n",
    "    ).not_()\n",
    ")\n",
    "python_vulnerability_fixes.unique(\"vulnerability_id\").shape[0]"
   ]
  },
  {
   "cell_type": "code",
   "execution_count": 7,
   "metadata": {},
   "outputs": [
    {
     "data": {
      "text/plain": [
       "1795"
      ]
     },
     "execution_count": 7,
     "metadata": {},
     "output_type": "execute_result"
    }
   ],
   "source": [
    "exclude_langs = [\n",
    "    \"txt\",\n",
    "    \"md\",\n",
    "    \"JSON\",\n",
    "    \"YAML\",\n",
    "    \"bugfix\",\n",
    "    \"cfg\",\n",
    "    \"rst\",\n",
    "    \"toml\",\n",
    "    \"lock\",\n",
    "    \"ini\",\n",
    "    \"in\",\n",
    "    \"gitignore\",\n",
    "    \"sample\",\n",
    "    \"pem\",\n",
    "    \"feature\",\n",
    "    \"tif\",\n",
    "    \"security\",\n",
    "    \"proto\",\n",
    "    \"conf\",\n",
    "    \"spec\",\n",
    "    \"bin\",\n",
    "    \"misc\",\n",
    "    \"pyi\",\n",
    "    \"pxi\",\n",
    "    \"fli\",\n",
    "    \"gif\",\n",
    "    \"tpl\",\n",
    "    \"graphql\",\n",
    "    \"http\",\n",
    "    \"sgi\",\n",
    "    \"pyx\",\n",
    "    \"inc\"\n",
    "]\n",
    "python_vulnerability_fixes = python_vulnerability_fixes.filter(\n",
    "    (\n",
    "        pl.col(\"file\").str.split(\".\").list.last().is_in(exclude_langs)\n",
    "    ).not_()\n",
    ")\n",
    "python_vulnerability_fixes.unique(\"vulnerability_id\").shape[0]"
   ]
  },
  {
   "cell_type": "markdown",
   "metadata": {},
   "source": [
    "## Process missing commit"
   ]
  },
  {
   "cell_type": "code",
   "execution_count": 8,
   "metadata": {},
   "outputs": [
    {
     "name": "stdout",
     "output_type": "stream",
     "text": [
      "shape: (1, 11)\n",
      "┌────────────┬────────────┬────────┬────────────┬───┬───────────┬───────────┬──────────┬───────────┐\n",
      "│ vulnerabil ┆ repo       ┆ commit ┆ pull_reque ┆ … ┆ commit_so ┆ file_exte ┆ language ┆ cwe_id    │\n",
      "│ ity_id     ┆ ---        ┆ ---    ┆ st_number  ┆   ┆ urce      ┆ nsion     ┆ ---      ┆ ---       │\n",
      "│ ---        ┆ str        ┆ str    ┆ ---        ┆   ┆ ---       ┆ ---       ┆ str      ┆ list[str] │\n",
      "│ str        ┆            ┆        ┆ i64        ┆   ┆ str       ┆ str       ┆          ┆           │\n",
      "╞════════════╪════════════╪════════╪════════════╪═══╪═══════════╪═══════════╪══════════╪═══════════╡\n",
      "│ 2021-3733  ┆ python/cpy ┆ null   ┆ 24391      ┆ … ┆ github    ┆ py        ┆ Python   ┆ [\"CWE-400 │\n",
      "│            ┆ thon       ┆        ┆            ┆   ┆           ┆           ┆          ┆ \"]        │\n",
      "└────────────┴────────────┴────────┴────────────┴───┴───────────┴───────────┴──────────┴───────────┘\n",
      "shape: (0, 11)\n",
      "┌─────────────┬──────┬────────┬─────────────┬───┬─────────────┬─────────────┬──────────┬───────────┐\n",
      "│ vulnerabili ┆ repo ┆ commit ┆ pull_reques ┆ … ┆ commit_sour ┆ file_extens ┆ language ┆ cwe_id    │\n",
      "│ ty_id       ┆ ---  ┆ ---    ┆ t_number    ┆   ┆ ce          ┆ ion         ┆ ---      ┆ ---       │\n",
      "│ ---         ┆ str  ┆ str    ┆ ---         ┆   ┆ ---         ┆ ---         ┆ str      ┆ list[str] │\n",
      "│ str         ┆      ┆        ┆ i64         ┆   ┆ str         ┆ str         ┆          ┆           │\n",
      "╞═════════════╪══════╪════════╪═════════════╪═══╪═════════════╪═════════════╪══════════╪═══════════╡\n",
      "└─────────────┴──────┴────────┴─────────────┴───┴─────────────┴─────────────┴──────────┴───────────┘\n",
      "shape: (0, 11)\n",
      "┌─────────────┬──────┬────────┬─────────────┬───┬─────────────┬─────────────┬──────────┬───────────┐\n",
      "│ vulnerabili ┆ repo ┆ commit ┆ pull_reques ┆ … ┆ commit_sour ┆ file_extens ┆ language ┆ cwe_id    │\n",
      "│ ty_id       ┆ ---  ┆ ---    ┆ t_number    ┆   ┆ ce          ┆ ion         ┆ ---      ┆ ---       │\n",
      "│ ---         ┆ str  ┆ str    ┆ ---         ┆   ┆ ---         ┆ ---         ┆ str      ┆ list[str] │\n",
      "│ str         ┆      ┆        ┆ i64         ┆   ┆ str         ┆ str         ┆          ┆           │\n",
      "╞═════════════╪══════╪════════╪═════════════╪═══╪═════════════╪═════════════╪══════════╪═══════════╡\n",
      "└─────────────┴──────┴────────┴─────────────┴───┴─────────────┴─────────────┴──────────┴───────────┘\n"
     ]
    }
   ],
   "source": [
    "print(python_vulnerability_fixes.filter(pl.col(\"commit\").is_null()))\n",
    "python_vulnerability_fixes = python_vulnerability_fixes.with_columns(\n",
    "    pl.when(pl.col(\"pull_request_number\") == 24391)\n",
    "    .then(pl.lit(\"86664c9405136a4904775c52e6caf100a474ec58\"))\n",
    "    .otherwise(pl.col(\"commit\"))\n",
    "    .alias(\"commit\")\n",
    ")\n",
    "print(python_vulnerability_fixes.filter(pl.col(\"commit\").is_null()))\n",
    "# No changes related to python: https://github.com/pyca/pyopenssl/commit/6bbf44a00b35fb28df1f66aa194b2fe95eab1ab2\n",
    "# Very big change: https://github.com/transifex/transifex-client/commit/e0d1f8b38ec1a24e2999d63420554d8393206f58\n",
    "python_vulnerability_fixes = python_vulnerability_fixes.filter(\n",
    "    ~pl.col(\"commit\").is_in(\n",
    "        [\n",
    "            \"6bbf44a00b35fb28df1f66aa194b2fe95eab1ab2\",\n",
    "            \"e0d1f8b38ec1a24e2999d63420554d8393206f58\",\n",
    "        ]\n",
    "    )\n",
    ")\n",
    "excluded_vulns = [\n",
    "    \"2024-34702\",\n",
    "    \"2022-29198\",\n",
    "    \"2022-41909\",\n",
    "    \"2022-41891\",\n",
    "    \"2016-0740\",\n",
    "    \"2024-21485\",\n",
    "    \"2024-8948\",\n",
    "    \"2018-10861\",\n",
    "    \"2022-4526\",\n",
    "    \"2022-31116\",\n",
    "    \"2023-52266\",\n",
    "    \"2021-28359\",\n",
    "    \"2022-25882\",\n",
    "    \"2024-32979\",\n",
    "]\n",
    "python_vulnerability_fixes = python_vulnerability_fixes.filter(\n",
    "    pl.col(\"vulnerability_id\").is_in(excluded_vulns).not_(),\n",
    "    pl.col(\"file\") != \"setup.py\"\n",
    ")\n",
    "print(python_vulnerability_fixes.filter(pl.col(\"commit\").is_null()))"
   ]
  },
  {
   "cell_type": "code",
   "execution_count": 9,
   "metadata": {},
   "outputs": [
    {
     "data": {
      "text/html": [
       "<div><style>\n",
       ".dataframe > thead > tr,\n",
       ".dataframe > tbody > tr {\n",
       "  text-align: right;\n",
       "  white-space: pre-wrap;\n",
       "}\n",
       "</style>\n",
       "<small>shape: (0, 11)</small><table border=\"1\" class=\"dataframe\"><thead><tr><th>vulnerability_id</th><th>repo</th><th>commit</th><th>pull_request_number</th><th>file</th><th>patch</th><th>patch_time</th><th>commit_source</th><th>file_extension</th><th>language</th><th>cwe_id</th></tr><tr><td>str</td><td>str</td><td>str</td><td>i64</td><td>str</td><td>str</td><td>datetime[μs, UTC]</td><td>str</td><td>str</td><td>str</td><td>list[str]</td></tr></thead><tbody></tbody></table></div>"
      ],
      "text/plain": [
       "shape: (0, 11)\n",
       "┌─────────────┬──────┬────────┬─────────────┬───┬─────────────┬─────────────┬──────────┬───────────┐\n",
       "│ vulnerabili ┆ repo ┆ commit ┆ pull_reques ┆ … ┆ commit_sour ┆ file_extens ┆ language ┆ cwe_id    │\n",
       "│ ty_id       ┆ ---  ┆ ---    ┆ t_number    ┆   ┆ ce          ┆ ion         ┆ ---      ┆ ---       │\n",
       "│ ---         ┆ str  ┆ str    ┆ ---         ┆   ┆ ---         ┆ ---         ┆ str      ┆ list[str] │\n",
       "│ str         ┆      ┆        ┆ i64         ┆   ┆ str         ┆ str         ┆          ┆           │\n",
       "╞═════════════╪══════╪════════╪═════════════╪═══╪═════════════╪═════════════╪══════════╪═══════════╡\n",
       "└─────────────┴──────┴────────┴─────────────┴───┴─────────────┴─────────────┴──────────┴───────────┘"
      ]
     },
     "execution_count": 9,
     "metadata": {},
     "output_type": "execute_result"
    }
   ],
   "source": [
    "python_vulnerability_fixes.filter(pl.col(\"vulnerability_id\") == \"2022-29198\").unique(\"language\")"
   ]
  },
  {
   "cell_type": "code",
   "execution_count": 10,
   "metadata": {},
   "outputs": [
    {
     "name": "stdout",
     "output_type": "stream",
     "text": [
      "Reading code fixes\n"
     ]
    },
    {
     "name": "stderr",
     "output_type": "stream",
     "text": [
      "  0%|          | 8/2302 [00:02<12:36,  3.03it/s]\n"
     ]
    },
    {
     "ename": "KeyboardInterrupt",
     "evalue": "",
     "output_type": "error",
     "traceback": [
      "\u001b[0;31m---------------------------------------------------------------------------\u001b[0m",
      "\u001b[0;31mKeyboardInterrupt\u001b[0m                         Traceback (most recent call last)",
      "Cell \u001b[0;32mIn[10], line 29\u001b[0m\n\u001b[1;32m     27\u001b[0m     \u001b[38;5;28;01mcontinue\u001b[39;00m\n\u001b[1;32m     28\u001b[0m \u001b[38;5;28;01mtry\u001b[39;00m:\n\u001b[0;32m---> 29\u001b[0m     \u001b[43mget_changes\u001b[49m\u001b[43m(\u001b[49m\u001b[43mcommit_data_row\u001b[49m\u001b[43m)\u001b[49m\n\u001b[1;32m     30\u001b[0m \u001b[38;5;28;01mexcept\u001b[39;00m \u001b[38;5;167;01mException\u001b[39;00m \u001b[38;5;28;01mas\u001b[39;00m e:\n\u001b[1;32m     31\u001b[0m     logging\u001b[38;5;241m.\u001b[39mexception(\u001b[38;5;124mf\u001b[39m\u001b[38;5;124m\"\u001b[39m\u001b[38;5;124mError in \u001b[39m\u001b[38;5;132;01m{\u001b[39;00mcommit_data_row\u001b[38;5;132;01m}\u001b[39;00m\u001b[38;5;124m\"\u001b[39m)\n",
      "File \u001b[0;32m~/Zavodi/unik/open_source_code_vulnerabilities_dataset/src/process_code_changes.py:123\u001b[0m, in \u001b[0;36mget_changes\u001b[0;34m(commit_data_row)\u001b[0m\n\u001b[1;32m    120\u001b[0m         new_old_file[file] \u001b[38;5;241m=\u001b[39m \u001b[38;5;28;01mNone\u001b[39;00m\n\u001b[1;32m    121\u001b[0m         \u001b[38;5;28;01mraise\u001b[39;00m \u001b[38;5;167;01mException\u001b[39;00m(\u001b[38;5;124m\"\u001b[39m\u001b[38;5;124mFile not found\u001b[39m\u001b[38;5;124m\"\u001b[39m)\n\u001b[0;32m--> 123\u001b[0m \u001b[43mgit_checkout\u001b[49m\u001b[43m(\u001b[49m\u001b[43mlocal_repo\u001b[49m\u001b[43m,\u001b[49m\u001b[43m \u001b[49m\u001b[43mfix_commit\u001b[49m\u001b[43m)\u001b[49m\n\u001b[1;32m    124\u001b[0m after_fix_data \u001b[38;5;241m=\u001b[39m {}\n\u001b[1;32m    125\u001b[0m after_fix_context_data \u001b[38;5;241m=\u001b[39m {}\n",
      "File \u001b[0;32m~/Zavodi/unik/open_source_code_vulnerabilities_dataset/src/process_code_changes.py:47\u001b[0m, in \u001b[0;36mgit_checkout\u001b[0;34m(repo, commit)\u001b[0m\n\u001b[1;32m     45\u001b[0m     repo\u001b[38;5;241m.\u001b[39mgit\u001b[38;5;241m.\u001b[39mcheckout(commit)\n\u001b[1;32m     46\u001b[0m \u001b[38;5;66;03m# clear_jedi_cache()\u001b[39;00m\n\u001b[0;32m---> 47\u001b[0m \u001b[43msleep\u001b[49m\u001b[43m(\u001b[49m\u001b[38;5;241;43m0.5\u001b[39;49m\u001b[43m)\u001b[49m\n",
      "\u001b[0;31mKeyboardInterrupt\u001b[0m: "
     ]
    }
   ],
   "source": [
    "import logging\n",
    "\n",
    "if PYTHON_CODE_FIXES_DATA_PATH.exists():\n",
    "    print(\"Reading code fixes\")\n",
    "    code_unit_changes = pl.read_parquet(PYTHON_CODE_FIXES_DATA_PATH).to_dicts()\n",
    "else:\n",
    "    code_unit_changes: list[dict[str, Any]] = []\n",
    "\n",
    "repos: dict[str, Repo] = {}\n",
    "\n",
    "grouped_vulnerabilities = (\n",
    "    python_vulnerability_fixes.group_by(\n",
    "        \"repo\", \"vulnerability_id\", \"commit\", \"commit_source\", \"cwe_id\"\n",
    "    )\n",
    "    .agg(pl.col(\"patch\"), pl.col(\"file\"), pl.col(\"language\"))\n",
    "    .sample(fraction=1, shuffle=True)\n",
    ")\n",
    "errors: list[dict[str, Any]] = []\n",
    "checked_commits = set([change[\"commit\"] for change in code_unit_changes])\n",
    "\n",
    "\n",
    "vulnerabilities_to_check = grouped_vulnerabilities.to_dicts()\n",
    "\n",
    "\n",
    "for commit_data_row in tqdm(vulnerabilities_to_check):\n",
    "    if commit_data_row[\"commit\"] in checked_commits:\n",
    "        continue\n",
    "    try:\n",
    "        get_changes(commit_data_row)\n",
    "    except Exception as e:\n",
    "        logging.exception(f\"Error in {commit_data_row}\")"
   ]
  },
  {
   "cell_type": "code",
   "execution_count": 11,
   "metadata": {},
   "outputs": [],
   "source": [
    "new_code_unit_changes = []\n",
    "new_code_context_changes = []\n",
    "\n",
    "for commit_data_file in PYTHON_CODE_UNITS_DATA_PATH.rglob(\"*.json\"):\n",
    "    try:\n",
    "        with commit_data_file.open() as f:\n",
    "            new_code_unit_changes.append(json.load(f))\n",
    "    except:\n",
    "        print(commit_data_file)\n",
    "        commit_data_file.unlink()\n",
    "for commit_data_file in PYTHON_CODE_CONTEXT_DATA_PATH.rglob(\"*.json\"):\n",
    "    try:\n",
    "        with commit_data_file.open() as f:\n",
    "            new_code_context_changes.append(json.load(f))\n",
    "    except:\n",
    "        print(commit_data_file)\n",
    "        commit_data_file.unlink()\n",
    "\n",
    "pl.DataFrame(new_code_unit_changes).write_parquet(PYTHON_CODE_FIXES_DATA_PATH)\n",
    "pl.DataFrame(new_code_context_changes).write_parquet(PYTHON_CODE_FIXES_WITH_CONTEXT_DATA_PATH)"
   ]
  },
  {
   "cell_type": "code",
   "execution_count": 12,
   "metadata": {},
   "outputs": [
    {
     "data": {
      "text/html": [
       "<div><style>\n",
       ".dataframe > thead > tr,\n",
       ".dataframe > tbody > tr {\n",
       "  text-align: right;\n",
       "  white-space: pre-wrap;\n",
       "}\n",
       "</style>\n",
       "<small>shape: (9, 10)</small><table border=\"1\" class=\"dataframe\"><thead><tr><th>statistic</th><th>commit</th><th>repo</th><th>new_file</th><th>patch</th><th>code_unit_after_fix</th><th>vulnerability_id</th><th>cwe_id</th><th>old_file</th><th>code_unit_before_fix</th></tr><tr><td>str</td><td>str</td><td>str</td><td>str</td><td>str</td><td>str</td><td>str</td><td>f64</td><td>str</td><td>str</td></tr></thead><tbody><tr><td>&quot;count&quot;</td><td>&quot;4531&quot;</td><td>&quot;4531&quot;</td><td>&quot;4531&quot;</td><td>&quot;4531&quot;</td><td>&quot;4531&quot;</td><td>&quot;4531&quot;</td><td>4531.0</td><td>&quot;4531&quot;</td><td>&quot;4531&quot;</td></tr><tr><td>&quot;null_count&quot;</td><td>&quot;0&quot;</td><td>&quot;0&quot;</td><td>&quot;0&quot;</td><td>&quot;0&quot;</td><td>&quot;0&quot;</td><td>&quot;0&quot;</td><td>0.0</td><td>&quot;0&quot;</td><td>&quot;0&quot;</td></tr><tr><td>&quot;mean&quot;</td><td>null</td><td>null</td><td>null</td><td>null</td><td>null</td><td>null</td><td>null</td><td>null</td><td>null</td></tr><tr><td>&quot;std&quot;</td><td>null</td><td>null</td><td>null</td><td>null</td><td>null</td><td>null</td><td>null</td><td>null</td><td>null</td></tr><tr><td>&quot;min&quot;</td><td>&quot;001b0634cd309e372edb6d7d95d083…</td><td>&quot;389ds/389-ds-base&quot;</td><td>&quot;.devcontainer/library-scripts/…</td><td>&quot;@@ -1 +1 @@\n",
       "-__version__ = &quot;0.…</td><td>&quot;&quot;</td><td>&quot;2013-0208&quot;</td><td>null</td><td>&quot;.devcontainer/library-scripts/…</td><td>&quot;&quot;</td></tr><tr><td>&quot;25%&quot;</td><td>null</td><td>null</td><td>null</td><td>null</td><td>null</td><td>null</td><td>null</td><td>null</td><td>null</td></tr><tr><td>&quot;50%&quot;</td><td>null</td><td>null</td><td>null</td><td>null</td><td>null</td><td>null</td><td>null</td><td>null</td><td>null</td></tr><tr><td>&quot;75%&quot;</td><td>null</td><td>null</td><td>null</td><td>null</td><td>null</td><td>null</td><td>null</td><td>null</td><td>null</td></tr><tr><td>&quot;max&quot;</td><td>&quot;ffd1d62dd50d5f4190013b39cedcdf…</td><td>&quot;zwczou/weixin-python&quot;</td><td>&quot;zproject/urls.py&quot;</td><td>&quot;@@ -99,7 +99,9 @@ extern &quot;C&quot; {…</td><td>&quot;{{ community.description | san…</td><td>&quot;GHSA-x563-6hqv-26mr&quot;</td><td>null</td><td>&quot;zproject/urls.py&quot;</td><td>&quot;{{ community.description|safe …</td></tr></tbody></table></div>"
      ],
      "text/plain": [
       "shape: (9, 10)\n",
       "┌────────────┬────────────┬───────────┬───────────┬───┬───────────┬────────┬───────────┬───────────┐\n",
       "│ statistic  ┆ commit     ┆ repo      ┆ new_file  ┆ … ┆ vulnerabi ┆ cwe_id ┆ old_file  ┆ code_unit │\n",
       "│ ---        ┆ ---        ┆ ---       ┆ ---       ┆   ┆ lity_id   ┆ ---    ┆ ---       ┆ _before_f │\n",
       "│ str        ┆ str        ┆ str       ┆ str       ┆   ┆ ---       ┆ f64    ┆ str       ┆ ix        │\n",
       "│            ┆            ┆           ┆           ┆   ┆ str       ┆        ┆           ┆ ---       │\n",
       "│            ┆            ┆           ┆           ┆   ┆           ┆        ┆           ┆ str       │\n",
       "╞════════════╪════════════╪═══════════╪═══════════╪═══╪═══════════╪════════╪═══════════╪═══════════╡\n",
       "│ count      ┆ 4531       ┆ 4531      ┆ 4531      ┆ … ┆ 4531      ┆ 4531.0 ┆ 4531      ┆ 4531      │\n",
       "│ null_count ┆ 0          ┆ 0         ┆ 0         ┆ … ┆ 0         ┆ 0.0    ┆ 0         ┆ 0         │\n",
       "│ mean       ┆ null       ┆ null      ┆ null      ┆ … ┆ null      ┆ null   ┆ null      ┆ null      │\n",
       "│ std        ┆ null       ┆ null      ┆ null      ┆ … ┆ null      ┆ null   ┆ null      ┆ null      │\n",
       "│ min        ┆ 001b0634cd ┆ 389ds/389 ┆ .devconta ┆ … ┆ 2013-0208 ┆ null   ┆ .devconta ┆           │\n",
       "│            ┆ 309e372edb ┆ -ds-base  ┆ iner/libr ┆   ┆           ┆        ┆ iner/libr ┆           │\n",
       "│            ┆ 6d7d95d083 ┆           ┆ ary-scrip ┆   ┆           ┆        ┆ ary-scrip ┆           │\n",
       "│            ┆ …          ┆           ┆ ts/…      ┆   ┆           ┆        ┆ ts/…      ┆           │\n",
       "│ 25%        ┆ null       ┆ null      ┆ null      ┆ … ┆ null      ┆ null   ┆ null      ┆ null      │\n",
       "│ 50%        ┆ null       ┆ null      ┆ null      ┆ … ┆ null      ┆ null   ┆ null      ┆ null      │\n",
       "│ 75%        ┆ null       ┆ null      ┆ null      ┆ … ┆ null      ┆ null   ┆ null      ┆ null      │\n",
       "│ max        ┆ ffd1d62dd5 ┆ zwczou/we ┆ zproject/ ┆ … ┆ GHSA-x563 ┆ null   ┆ zproject/ ┆ {{ commun │\n",
       "│            ┆ 0d5f419001 ┆ ixin-pyth ┆ urls.py   ┆   ┆ -6hqv-26m ┆        ┆ urls.py   ┆ ity.descr │\n",
       "│            ┆ 3b39cedcdf ┆ on        ┆           ┆   ┆ r         ┆        ┆           ┆ iption|sa │\n",
       "│            ┆ …          ┆           ┆           ┆   ┆           ┆        ┆           ┆ fe …      │\n",
       "└────────────┴────────────┴───────────┴───────────┴───┴───────────┴────────┴───────────┴───────────┘"
      ]
     },
     "execution_count": 12,
     "metadata": {},
     "output_type": "execute_result"
    }
   ],
   "source": [
    "code_unit_changes_df = pl.read_parquet(PYTHON_CODE_FIXES_DATA_PATH)\n",
    "code_unit_changes_df = code_unit_changes_df.filter(\n",
    "    pl.col(\"vulnerability_id\").is_in(excluded_vulns).not_(),\n",
    "    pl.col(\"new_file\") != \"setup.py\",\n",
    "    pl.col(\"old_file\") != \"setup.py\"\n",
    ").with_columns(\n",
    "    pl.col(\"code_unit_after_fix\").str.replace_all(r\"\\n\\s*\\n\", \"\\n\").alias(\"code_unit_after_fix\"),\n",
    "    pl.col(\"code_unit_before_fix\").str.replace_all(r\"\\n\\s*\\n\", \"\\n\").alias(\"code_unit_before_fix\"),\n",
    ")\n",
    "code_unit_changes_df.describe()"
   ]
  },
  {
   "cell_type": "code",
   "execution_count": null,
   "metadata": {},
   "outputs": [
    {
     "data": {
      "text/plain": [
       "['2022-41909',\n",
       " '2022-41891',\n",
       " '2016-0740',\n",
       " '2024-21485',\n",
       " '2024-8948',\n",
       " '2018-10861',\n",
       " '2022-4526',\n",
       " '2022-31116',\n",
       " '2023-52266',\n",
       " '2021-28359',\n",
       " '2022-25882',\n",
       " '2024-32979']"
      ]
     },
     "execution_count": 29,
     "metadata": {},
     "output_type": "execute_result"
    }
   ],
   "source": [
    "\n",
    "code_unit_changes_df.with_columns(\n",
    "    pl.col(\"new_file\").str.split(\".\").list.last().alias(\"lang\")\n",
    ").group_by(\"vulnerability_id\").agg(\"lang\").with_columns(pl.col(\"lang\").list.unique()).unique(\"lang\").filter(pl.col(\"lang\").list.contains(\"py\").not_()).select(\"vulnerability_id\").to_series().to_list()"
   ]
  },
  {
   "cell_type": "code",
   "execution_count": null,
   "metadata": {},
   "outputs": [
    {
     "ename": "KeyboardInterrupt",
     "evalue": "",
     "output_type": "error",
     "traceback": [
      "\u001b[0;31m---------------------------------------------------------------------------\u001b[0m",
      "\u001b[0;31mKeyboardInterrupt\u001b[0m                         Traceback (most recent call last)",
      "Cell \u001b[0;32mIn[13], line 8\u001b[0m\n\u001b[1;32m      6\u001b[0m \u001b[38;5;28;01mif\u001b[39;00m file_extension \u001b[38;5;129;01min\u001b[39;00m {\u001b[38;5;124m\"\u001b[39m\u001b[38;5;124mpy\u001b[39m\u001b[38;5;124m\"\u001b[39m, \u001b[38;5;124m\"\u001b[39m\u001b[38;5;124mpyi\u001b[39m\u001b[38;5;124m\"\u001b[39m, \u001b[38;5;124m\"\u001b[39m\u001b[38;5;124mpyx\u001b[39m\u001b[38;5;124m\"\u001b[39m, \u001b[38;5;124m\"\u001b[39m\u001b[38;5;124mpxi\u001b[39m\u001b[38;5;124m\"\u001b[39m}:\n\u001b[1;32m      7\u001b[0m     total \u001b[38;5;241m+\u001b[39m\u001b[38;5;241m=\u001b[39m \u001b[38;5;241m1\u001b[39m\n\u001b[0;32m----> 8\u001b[0m     script \u001b[38;5;241m=\u001b[39m \u001b[43mjedi\u001b[49m\u001b[38;5;241;43m.\u001b[39;49m\u001b[43mScript\u001b[49m\u001b[43m(\u001b[49m\u001b[43mcode\u001b[49m\u001b[38;5;241;43m=\u001b[39;49m\u001b[43mrow\u001b[49m\u001b[43m[\u001b[49m\u001b[38;5;124;43m\"\u001b[39;49m\u001b[38;5;124;43mcode_unit_after_fix\u001b[39;49m\u001b[38;5;124;43m\"\u001b[39;49m\u001b[43m]\u001b[49m\u001b[43m)\u001b[49m\n\u001b[1;32m      9\u001b[0m     errors \u001b[38;5;241m=\u001b[39m script\u001b[38;5;241m.\u001b[39mget_syntax_errors()\n\u001b[1;32m     10\u001b[0m     \u001b[38;5;28;01mif\u001b[39;00m errors:\n",
      "File \u001b[0;32m~/Zavodi/unik/open_source_code_vulnerabilities_dataset/.venv/lib/python3.12/site-packages/jedi/api/__init__.py:123\u001b[0m, in \u001b[0;36mScript.__init__\u001b[0;34m(self, code, path, environment, project)\u001b[0m\n\u001b[1;32m    119\u001b[0m \u001b[38;5;28mself\u001b[39m\u001b[38;5;241m.\u001b[39m_inference_state \u001b[38;5;241m=\u001b[39m InferenceState(\n\u001b[1;32m    120\u001b[0m     project, environment\u001b[38;5;241m=\u001b[39menvironment, script_path\u001b[38;5;241m=\u001b[39m\u001b[38;5;28mself\u001b[39m\u001b[38;5;241m.\u001b[39mpath\n\u001b[1;32m    121\u001b[0m )\n\u001b[1;32m    122\u001b[0m debug\u001b[38;5;241m.\u001b[39mspeed(\u001b[38;5;124m'\u001b[39m\u001b[38;5;124minit\u001b[39m\u001b[38;5;124m'\u001b[39m)\n\u001b[0;32m--> 123\u001b[0m \u001b[38;5;28mself\u001b[39m\u001b[38;5;241m.\u001b[39m_module_node, code \u001b[38;5;241m=\u001b[39m \u001b[38;5;28;43mself\u001b[39;49m\u001b[38;5;241;43m.\u001b[39;49m\u001b[43m_inference_state\u001b[49m\u001b[38;5;241;43m.\u001b[39;49m\u001b[43mparse_and_get_code\u001b[49m\u001b[43m(\u001b[49m\n\u001b[1;32m    124\u001b[0m \u001b[43m    \u001b[49m\u001b[43mcode\u001b[49m\u001b[38;5;241;43m=\u001b[39;49m\u001b[43mcode\u001b[49m\u001b[43m,\u001b[49m\n\u001b[1;32m    125\u001b[0m \u001b[43m    \u001b[49m\u001b[43mpath\u001b[49m\u001b[38;5;241;43m=\u001b[39;49m\u001b[38;5;28;43mself\u001b[39;49m\u001b[38;5;241;43m.\u001b[39;49m\u001b[43mpath\u001b[49m\u001b[43m,\u001b[49m\n\u001b[1;32m    126\u001b[0m \u001b[43m    \u001b[49m\u001b[43muse_latest_grammar\u001b[49m\u001b[38;5;241;43m=\u001b[39;49m\u001b[43mpath\u001b[49m\u001b[43m \u001b[49m\u001b[38;5;129;43;01mand\u001b[39;49;00m\u001b[43m \u001b[49m\u001b[43mpath\u001b[49m\u001b[38;5;241;43m.\u001b[39;49m\u001b[43msuffix\u001b[49m\u001b[43m \u001b[49m\u001b[38;5;241;43m==\u001b[39;49m\u001b[43m \u001b[49m\u001b[38;5;124;43m'\u001b[39;49m\u001b[38;5;124;43m.pyi\u001b[39;49m\u001b[38;5;124;43m'\u001b[39;49m\u001b[43m,\u001b[49m\n\u001b[1;32m    127\u001b[0m \u001b[43m    \u001b[49m\u001b[43mcache\u001b[49m\u001b[38;5;241;43m=\u001b[39;49m\u001b[38;5;28;43;01mFalse\u001b[39;49;00m\u001b[43m,\u001b[49m\u001b[43m  \u001b[49m\u001b[38;5;66;43;03m# No disk cache, because the current script often changes.\u001b[39;49;00m\n\u001b[1;32m    128\u001b[0m \u001b[43m    \u001b[49m\u001b[43mdiff_cache\u001b[49m\u001b[38;5;241;43m=\u001b[39;49m\u001b[43msettings\u001b[49m\u001b[38;5;241;43m.\u001b[39;49m\u001b[43mfast_parser\u001b[49m\u001b[43m,\u001b[49m\n\u001b[1;32m    129\u001b[0m \u001b[43m    \u001b[49m\u001b[43mcache_path\u001b[49m\u001b[38;5;241;43m=\u001b[39;49m\u001b[43msettings\u001b[49m\u001b[38;5;241;43m.\u001b[39;49m\u001b[43mcache_directory\u001b[49m\u001b[43m,\u001b[49m\n\u001b[1;32m    130\u001b[0m \u001b[43m\u001b[49m\u001b[43m)\u001b[49m\n\u001b[1;32m    131\u001b[0m debug\u001b[38;5;241m.\u001b[39mspeed(\u001b[38;5;124m'\u001b[39m\u001b[38;5;124mparsed\u001b[39m\u001b[38;5;124m'\u001b[39m)\n\u001b[1;32m    132\u001b[0m \u001b[38;5;28mself\u001b[39m\u001b[38;5;241m.\u001b[39m_code_lines \u001b[38;5;241m=\u001b[39m parso\u001b[38;5;241m.\u001b[39msplit_lines(code, keepends\u001b[38;5;241m=\u001b[39m\u001b[38;5;28;01mTrue\u001b[39;00m)\n",
      "File \u001b[0;32m~/Zavodi/unik/open_source_code_vulnerabilities_dataset/.venv/lib/python3.12/site-packages/jedi/inference/__init__.py:196\u001b[0m, in \u001b[0;36mInferenceState.parse_and_get_code\u001b[0;34m(self, code, path, use_latest_grammar, file_io, **kwargs)\u001b[0m\n\u001b[1;32m    193\u001b[0m     code \u001b[38;5;241m=\u001b[39m code[:settings\u001b[38;5;241m.\u001b[39m_cropped_file_size]\n\u001b[1;32m    195\u001b[0m grammar \u001b[38;5;241m=\u001b[39m \u001b[38;5;28mself\u001b[39m\u001b[38;5;241m.\u001b[39mlatest_grammar \u001b[38;5;28;01mif\u001b[39;00m use_latest_grammar \u001b[38;5;28;01melse\u001b[39;00m \u001b[38;5;28mself\u001b[39m\u001b[38;5;241m.\u001b[39mgrammar\n\u001b[0;32m--> 196\u001b[0m \u001b[38;5;28;01mreturn\u001b[39;00m \u001b[43mgrammar\u001b[49m\u001b[38;5;241;43m.\u001b[39;49m\u001b[43mparse\u001b[49m\u001b[43m(\u001b[49m\u001b[43mcode\u001b[49m\u001b[38;5;241;43m=\u001b[39;49m\u001b[43mcode\u001b[49m\u001b[43m,\u001b[49m\u001b[43m \u001b[49m\u001b[43mpath\u001b[49m\u001b[38;5;241;43m=\u001b[39;49m\u001b[43mpath\u001b[49m\u001b[43m,\u001b[49m\u001b[43m \u001b[49m\u001b[43mfile_io\u001b[49m\u001b[38;5;241;43m=\u001b[39;49m\u001b[43mfile_io\u001b[49m\u001b[43m,\u001b[49m\u001b[43m \u001b[49m\u001b[38;5;241;43m*\u001b[39;49m\u001b[38;5;241;43m*\u001b[39;49m\u001b[43mkwargs\u001b[49m\u001b[43m)\u001b[49m, code\n",
      "File \u001b[0;32m~/Zavodi/unik/open_source_code_vulnerabilities_dataset/.venv/lib/python3.12/site-packages/parso/grammar.py:139\u001b[0m, in \u001b[0;36mGrammar.parse\u001b[0;34m(self, code, error_recovery, path, start_symbol, cache, diff_cache, cache_path, file_io)\u001b[0m\n\u001b[1;32m    134\u001b[0m \u001b[38;5;28;01mif\u001b[39;00m old_lines \u001b[38;5;241m==\u001b[39m lines:\n\u001b[1;32m    135\u001b[0m     \u001b[38;5;28;01mreturn\u001b[39;00m module_node  \u001b[38;5;66;03m# type: ignore[no-any-return]\u001b[39;00m\n\u001b[1;32m    137\u001b[0m new_node \u001b[38;5;241m=\u001b[39m \u001b[38;5;28;43mself\u001b[39;49m\u001b[38;5;241;43m.\u001b[39;49m\u001b[43m_diff_parser\u001b[49m\u001b[43m(\u001b[49m\n\u001b[1;32m    138\u001b[0m \u001b[43m    \u001b[49m\u001b[38;5;28;43mself\u001b[39;49m\u001b[38;5;241;43m.\u001b[39;49m\u001b[43m_pgen_grammar\u001b[49m\u001b[43m,\u001b[49m\u001b[43m \u001b[49m\u001b[38;5;28;43mself\u001b[39;49m\u001b[38;5;241;43m.\u001b[39;49m\u001b[43m_tokenizer\u001b[49m\u001b[43m,\u001b[49m\u001b[43m \u001b[49m\u001b[43mmodule_node\u001b[49m\n\u001b[0;32m--> 139\u001b[0m \u001b[43m\u001b[49m\u001b[43m)\u001b[49m\u001b[38;5;241;43m.\u001b[39;49m\u001b[43mupdate\u001b[49m\u001b[43m(\u001b[49m\n\u001b[1;32m    140\u001b[0m \u001b[43m    \u001b[49m\u001b[43mold_lines\u001b[49m\u001b[38;5;241;43m=\u001b[39;49m\u001b[43mold_lines\u001b[49m\u001b[43m,\u001b[49m\n\u001b[1;32m    141\u001b[0m \u001b[43m    \u001b[49m\u001b[43mnew_lines\u001b[49m\u001b[38;5;241;43m=\u001b[39;49m\u001b[43mlines\u001b[49m\n\u001b[1;32m    142\u001b[0m \u001b[43m\u001b[49m\u001b[43m)\u001b[49m\n\u001b[1;32m    143\u001b[0m try_to_save_module(\u001b[38;5;28mself\u001b[39m\u001b[38;5;241m.\u001b[39m_hashed, file_io, new_node, lines,\n\u001b[1;32m    144\u001b[0m                    \u001b[38;5;66;03m# Never pickle in pypy, it's slow as hell.\u001b[39;00m\n\u001b[1;32m    145\u001b[0m                    pickling\u001b[38;5;241m=\u001b[39mcache \u001b[38;5;129;01mand\u001b[39;00m \u001b[38;5;129;01mnot\u001b[39;00m is_pypy,\n\u001b[1;32m    146\u001b[0m                    cache_path\u001b[38;5;241m=\u001b[39mcache_path)\n\u001b[1;32m    147\u001b[0m \u001b[38;5;28;01mreturn\u001b[39;00m new_node  \u001b[38;5;66;03m# type: ignore[no-any-return]\u001b[39;00m\n",
      "File \u001b[0;32m~/Zavodi/unik/open_source_code_vulnerabilities_dataset/.venv/lib/python3.12/site-packages/parso/python/diff.py:307\u001b[0m, in \u001b[0;36mDiffParser.update\u001b[0;34m(self, old_lines, new_lines)\u001b[0m\n\u001b[1;32m    305\u001b[0m     \u001b[38;5;28mself\u001b[39m\u001b[38;5;241m.\u001b[39m_copy_from_old_parser(line_offset, i1 \u001b[38;5;241m+\u001b[39m \u001b[38;5;241m1\u001b[39m, i2, j2)\n\u001b[1;32m    306\u001b[0m \u001b[38;5;28;01melif\u001b[39;00m operation \u001b[38;5;241m==\u001b[39m \u001b[38;5;124m'\u001b[39m\u001b[38;5;124mreplace\u001b[39m\u001b[38;5;124m'\u001b[39m:\n\u001b[0;32m--> 307\u001b[0m     \u001b[38;5;28;43mself\u001b[39;49m\u001b[38;5;241;43m.\u001b[39;49m\u001b[43m_parse\u001b[49m\u001b[43m(\u001b[49m\u001b[43muntil_line\u001b[49m\u001b[38;5;241;43m=\u001b[39;49m\u001b[43mj2\u001b[49m\u001b[43m)\u001b[49m\n\u001b[1;32m    308\u001b[0m \u001b[38;5;28;01melif\u001b[39;00m operation \u001b[38;5;241m==\u001b[39m \u001b[38;5;124m'\u001b[39m\u001b[38;5;124minsert\u001b[39m\u001b[38;5;124m'\u001b[39m:\n\u001b[1;32m    309\u001b[0m     \u001b[38;5;28mself\u001b[39m\u001b[38;5;241m.\u001b[39m_parse(until_line\u001b[38;5;241m=\u001b[39mj2)\n",
      "File \u001b[0;32m~/Zavodi/unik/open_source_code_vulnerabilities_dataset/.venv/lib/python3.12/site-packages/parso/python/diff.py:414\u001b[0m, in \u001b[0;36mDiffParser._parse\u001b[0;34m(self, until_line)\u001b[0m\n\u001b[1;32m    412\u001b[0m last_until_line \u001b[38;5;241m=\u001b[39m \u001b[38;5;241m0\u001b[39m\n\u001b[1;32m    413\u001b[0m \u001b[38;5;28;01mwhile\u001b[39;00m until_line \u001b[38;5;241m>\u001b[39m \u001b[38;5;28mself\u001b[39m\u001b[38;5;241m.\u001b[39m_nodes_tree\u001b[38;5;241m.\u001b[39mparsed_until_line:\n\u001b[0;32m--> 414\u001b[0m     node \u001b[38;5;241m=\u001b[39m \u001b[38;5;28;43mself\u001b[39;49m\u001b[38;5;241;43m.\u001b[39;49m\u001b[43m_try_parse_part\u001b[49m\u001b[43m(\u001b[49m\u001b[43muntil_line\u001b[49m\u001b[43m)\u001b[49m\n\u001b[1;32m    415\u001b[0m     nodes \u001b[38;5;241m=\u001b[39m node\u001b[38;5;241m.\u001b[39mchildren\n\u001b[1;32m    417\u001b[0m     \u001b[38;5;28mself\u001b[39m\u001b[38;5;241m.\u001b[39m_nodes_tree\u001b[38;5;241m.\u001b[39madd_parsed_nodes(nodes, \u001b[38;5;28mself\u001b[39m\u001b[38;5;241m.\u001b[39m_keyword_token_indents)\n",
      "File \u001b[0;32m~/Zavodi/unik/open_source_code_vulnerabilities_dataset/.venv/lib/python3.12/site-packages/parso/python/diff.py:453\u001b[0m, in \u001b[0;36mDiffParser._try_parse_part\u001b[0;34m(self, until_line)\u001b[0m\n\u001b[1;32m    444\u001b[0m tokens \u001b[38;5;241m=\u001b[39m \u001b[38;5;28mself\u001b[39m\u001b[38;5;241m.\u001b[39m_diff_tokenize(\n\u001b[1;32m    445\u001b[0m     lines_after,\n\u001b[1;32m    446\u001b[0m     until_line,\n\u001b[1;32m    447\u001b[0m     line_offset\u001b[38;5;241m=\u001b[39mparsed_until_line\n\u001b[1;32m    448\u001b[0m )\n\u001b[1;32m    449\u001b[0m \u001b[38;5;28mself\u001b[39m\u001b[38;5;241m.\u001b[39m_active_parser \u001b[38;5;241m=\u001b[39m Parser(\n\u001b[1;32m    450\u001b[0m     \u001b[38;5;28mself\u001b[39m\u001b[38;5;241m.\u001b[39m_pgen_grammar,\n\u001b[1;32m    451\u001b[0m     error_recovery\u001b[38;5;241m=\u001b[39m\u001b[38;5;28;01mTrue\u001b[39;00m\n\u001b[1;32m    452\u001b[0m )\n\u001b[0;32m--> 453\u001b[0m \u001b[38;5;28;01mreturn\u001b[39;00m \u001b[38;5;28;43mself\u001b[39;49m\u001b[38;5;241;43m.\u001b[39;49m\u001b[43m_active_parser\u001b[49m\u001b[38;5;241;43m.\u001b[39;49m\u001b[43mparse\u001b[49m\u001b[43m(\u001b[49m\u001b[43mtokens\u001b[49m\u001b[38;5;241;43m=\u001b[39;49m\u001b[43mtokens\u001b[49m\u001b[43m)\u001b[49m\n",
      "File \u001b[0;32m~/Zavodi/unik/open_source_code_vulnerabilities_dataset/.venv/lib/python3.12/site-packages/parso/python/parser.py:79\u001b[0m, in \u001b[0;36mParser.parse\u001b[0;34m(self, tokens)\u001b[0m\n\u001b[1;32m     75\u001b[0m         \u001b[38;5;28;01mraise\u001b[39;00m \u001b[38;5;167;01mNotImplementedError\u001b[39;00m\n\u001b[1;32m     77\u001b[0m     tokens \u001b[38;5;241m=\u001b[39m \u001b[38;5;28mself\u001b[39m\u001b[38;5;241m.\u001b[39m_recovery_tokenize(tokens)\n\u001b[0;32m---> 79\u001b[0m \u001b[38;5;28;01mreturn\u001b[39;00m \u001b[38;5;28;43msuper\u001b[39;49m\u001b[43m(\u001b[49m\u001b[43m)\u001b[49m\u001b[38;5;241;43m.\u001b[39;49m\u001b[43mparse\u001b[49m\u001b[43m(\u001b[49m\u001b[43mtokens\u001b[49m\u001b[43m)\u001b[49m\n",
      "File \u001b[0;32m~/Zavodi/unik/open_source_code_vulnerabilities_dataset/.venv/lib/python3.12/site-packages/parso/parser.py:129\u001b[0m, in \u001b[0;36mBaseParser.parse\u001b[0;34m(self, tokens)\u001b[0m\n\u001b[1;32m    126\u001b[0m \u001b[38;5;28mself\u001b[39m\u001b[38;5;241m.\u001b[39mstack \u001b[38;5;241m=\u001b[39m Stack([StackNode(first_dfa)])\n\u001b[1;32m    128\u001b[0m \u001b[38;5;28;01mfor\u001b[39;00m token \u001b[38;5;129;01min\u001b[39;00m tokens:\n\u001b[0;32m--> 129\u001b[0m     \u001b[38;5;28;43mself\u001b[39;49m\u001b[38;5;241;43m.\u001b[39;49m\u001b[43m_add_token\u001b[49m\u001b[43m(\u001b[49m\u001b[43mtoken\u001b[49m\u001b[43m)\u001b[49m\n\u001b[1;32m    131\u001b[0m \u001b[38;5;28;01mwhile\u001b[39;00m \u001b[38;5;28;01mTrue\u001b[39;00m:\n\u001b[1;32m    132\u001b[0m     tos \u001b[38;5;241m=\u001b[39m \u001b[38;5;28mself\u001b[39m\u001b[38;5;241m.\u001b[39mstack[\u001b[38;5;241m-\u001b[39m\u001b[38;5;241m1\u001b[39m]\n",
      "File \u001b[0;32m~/Zavodi/unik/open_source_code_vulnerabilities_dataset/.venv/lib/python3.12/site-packages/parso/parser.py:178\u001b[0m, in \u001b[0;36mBaseParser._add_token\u001b[0;34m(self, token)\u001b[0m\n\u001b[1;32m    175\u001b[0m type_, value, start_pos, prefix \u001b[38;5;241m=\u001b[39m token\n\u001b[1;32m    176\u001b[0m transition \u001b[38;5;241m=\u001b[39m _token_to_transition(grammar, type_, value)\n\u001b[0;32m--> 178\u001b[0m \u001b[38;5;28;01mwhile\u001b[39;00m \u001b[38;5;28;01mTrue\u001b[39;00m:\n\u001b[1;32m    179\u001b[0m     \u001b[38;5;28;01mtry\u001b[39;00m:\n\u001b[1;32m    180\u001b[0m         plan \u001b[38;5;241m=\u001b[39m stack[\u001b[38;5;241m-\u001b[39m\u001b[38;5;241m1\u001b[39m]\u001b[38;5;241m.\u001b[39mdfa\u001b[38;5;241m.\u001b[39mtransitions[transition]\n",
      "\u001b[0;31mKeyboardInterrupt\u001b[0m: "
     ]
    }
   ],
   "source": [
    "total = 0\n",
    "errors_count = 0\n",
    "bad_commits = set()\n",
    "for row in code_unit_changes_df.sample(fraction=1, shuffle=True).iter_rows(named=True):\n",
    "    file_extension = row[\"new_file\"].split(\".\")[-1]\n",
    "    if file_extension in {\"py\", \"pyi\", \"pyx\", \"pxi\"}:\n",
    "        total += 1\n",
    "        script = jedi.Script(code=row[\"code_unit_after_fix\"])\n",
    "        errors = script.get_syntax_errors()\n",
    "        if errors:\n",
    "            bad_commits.add(row[\"commit\"])\n",
    "            errors_count += 1\n"
   ]
  },
  {
   "cell_type": "code",
   "execution_count": 13,
   "metadata": {},
   "outputs": [],
   "source": [
    "for commit_data_row in vulnerabilities_to_check:\n",
    "    if commit_data_row[\"commit\"] == \"32de2154ef9f946160e5dc01a4d8a449dd0bd259\":\n",
    "        get_changes(commit_data_row)"
   ]
  }
 ],
 "metadata": {
  "kernelspec": {
   "display_name": ".venv",
   "language": "python",
   "name": "python3"
  },
  "language_info": {
   "codemirror_mode": {
    "name": "ipython",
    "version": 3
   },
   "file_extension": ".py",
   "mimetype": "text/x-python",
   "name": "python",
   "nbconvert_exporter": "python",
   "pygments_lexer": "ipython3",
   "version": "3.12.2"
  }
 },
 "nbformat": 4,
 "nbformat_minor": 2
}
